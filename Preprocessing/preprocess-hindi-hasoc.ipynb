{
 "cells": [
  {
   "cell_type": "code",
   "execution_count": 1,
   "id": "7a1b4b22",
   "metadata": {
    "_cell_guid": "b1076dfc-b9ad-4769-8c92-a6c4dae69d19",
    "_uuid": "8f2839f25d086af736a60e9eeb907d3b93b6e0e5",
    "execution": {
     "iopub.execute_input": "2024-03-10T20:00:32.760927Z",
     "iopub.status.busy": "2024-03-10T20:00:32.760436Z",
     "iopub.status.idle": "2024-03-10T20:00:33.654315Z",
     "shell.execute_reply": "2024-03-10T20:00:33.653351Z"
    },
    "papermill": {
     "duration": 0.905053,
     "end_time": "2024-03-10T20:00:33.656615",
     "exception": false,
     "start_time": "2024-03-10T20:00:32.751562",
     "status": "completed"
    },
    "tags": []
   },
   "outputs": [
    {
     "name": "stdout",
     "output_type": "stream",
     "text": [
      "/kaggle/input/hasoc-hindi/hindi_2021.csv\n"
     ]
    }
   ],
   "source": [
    "# This Python 3 environment comes with many helpful analytics libraries installed\n",
    "# It is defined by the kaggle/python Docker image: https://github.com/kaggle/docker-python\n",
    "# For example, here's several helpful packages to load\n",
    "\n",
    "import numpy as np # linear algebra\n",
    "import pandas as pd # data processing, CSV file I/O (e.g. pd.read_csv)\n",
    "\n",
    "# Input data files are available in the read-only \"../input/\" directory\n",
    "# For example, running this (by clicking run or pressing Shift+Enter) will list all files under the input directory\n",
    "\n",
    "import os\n",
    "for dirname, _, filenames in os.walk('/kaggle/input'):\n",
    "    for filename in filenames:\n",
    "        print(os.path.join(dirname, filename))\n",
    "\n",
    "# You can write up to 20GB to the current directory (/kaggle/working/) that gets preserved as output when you create a version using \"Save & Run All\" \n",
    "# You can also write temporary files to /kaggle/temp/, but they won't be saved outside of the current session"
   ]
  },
  {
   "cell_type": "code",
   "execution_count": 2,
   "id": "bfae3884",
   "metadata": {
    "execution": {
     "iopub.execute_input": "2024-03-10T20:00:33.672595Z",
     "iopub.status.busy": "2024-03-10T20:00:33.671760Z",
     "iopub.status.idle": "2024-03-10T20:00:33.772944Z",
     "shell.execute_reply": "2024-03-10T20:00:33.772081Z"
    },
    "papermill": {
     "duration": 0.111831,
     "end_time": "2024-03-10T20:00:33.775125",
     "exception": false,
     "start_time": "2024-03-10T20:00:33.663294",
     "status": "completed"
    },
    "tags": []
   },
   "outputs": [
    {
     "data": {
      "text/html": [
       "<div>\n",
       "<style scoped>\n",
       "    .dataframe tbody tr th:only-of-type {\n",
       "        vertical-align: middle;\n",
       "    }\n",
       "\n",
       "    .dataframe tbody tr th {\n",
       "        vertical-align: top;\n",
       "    }\n",
       "\n",
       "    .dataframe thead th {\n",
       "        text-align: right;\n",
       "    }\n",
       "</style>\n",
       "<table border=\"1\" class=\"dataframe\">\n",
       "  <thead>\n",
       "    <tr style=\"text-align: right;\">\n",
       "      <th></th>\n",
       "      <th>Unnamed: 0</th>\n",
       "      <th>_id</th>\n",
       "      <th>tweet_id</th>\n",
       "      <th>text</th>\n",
       "      <th>task_1</th>\n",
       "      <th>task_2</th>\n",
       "    </tr>\n",
       "  </thead>\n",
       "  <tbody>\n",
       "    <tr>\n",
       "      <th>0</th>\n",
       "      <td>998</td>\n",
       "      <td>60c5d7495659ea5e55df0b7b</td>\n",
       "      <td>hi_hasoc_2021_998</td>\n",
       "      <td>@rssurjewala #Hindus DYING #HindusLivesMatter ...</td>\n",
       "      <td>NOT</td>\n",
       "      <td>NONE</td>\n",
       "    </tr>\n",
       "    <tr>\n",
       "      <th>1</th>\n",
       "      <td>4049</td>\n",
       "      <td>60c5d7495659ea5e55df1b73</td>\n",
       "      <td>hi_hasoc_2021_4049</td>\n",
       "      <td>सब लोग इतने पैसे डोनेट ही कर रहे हैं फिर भी आम...</td>\n",
       "      <td>NOT</td>\n",
       "      <td>NONE</td>\n",
       "    </tr>\n",
       "    <tr>\n",
       "      <th>2</th>\n",
       "      <td>1757</td>\n",
       "      <td>60c5d7495659ea5e55df0d1b</td>\n",
       "      <td>hi_hasoc_2021_1757</td>\n",
       "      <td>शेर-ए- सिवान शहाबुद्दीन साहब से रिश्ता क्या  ل...</td>\n",
       "      <td>NOT</td>\n",
       "      <td>NONE</td>\n",
       "    </tr>\n",
       "    <tr>\n",
       "      <th>3</th>\n",
       "      <td>5175</td>\n",
       "      <td>60c5d7495659ea5e55df0e45</td>\n",
       "      <td>hi_hasoc_2021_5178</td>\n",
       "      <td>@AskAnshul आसमानी किताब के नाजायज औलाद है।</td>\n",
       "      <td>HOF</td>\n",
       "      <td>OFFN</td>\n",
       "    </tr>\n",
       "    <tr>\n",
       "      <th>4</th>\n",
       "      <td>1825</td>\n",
       "      <td>60c5d7495659ea5e55df0ee1</td>\n",
       "      <td>hi_hasoc_2021_1825</td>\n",
       "      <td>@Shikha0222 इसे कहते हैं दोगला पंती जिस सपा की...</td>\n",
       "      <td>NOT</td>\n",
       "      <td>NONE</td>\n",
       "    </tr>\n",
       "    <tr>\n",
       "      <th>...</th>\n",
       "      <td>...</td>\n",
       "      <td>...</td>\n",
       "      <td>...</td>\n",
       "      <td>...</td>\n",
       "      <td>...</td>\n",
       "      <td>...</td>\n",
       "    </tr>\n",
       "    <tr>\n",
       "      <th>4589</th>\n",
       "      <td>2481</td>\n",
       "      <td>60c5d7495659ea5e55df13ff</td>\n",
       "      <td>hi_hasoc_2021_2481</td>\n",
       "      <td>सिवान के पुर्व सांसद मरहुम मो सहाबुदीन के रहस्...</td>\n",
       "      <td>NOT</td>\n",
       "      <td>NONE</td>\n",
       "    </tr>\n",
       "    <tr>\n",
       "      <th>4590</th>\n",
       "      <td>3711</td>\n",
       "      <td>60c5d7495659ea5e55df1b13</td>\n",
       "      <td>hi_hasoc_2021_3711</td>\n",
       "      <td>वर्ष 1989-1990 के दौरान कश्मीर के हिंदुओं के स...</td>\n",
       "      <td>NOT</td>\n",
       "      <td>NONE</td>\n",
       "    </tr>\n",
       "    <tr>\n",
       "      <th>4591</th>\n",
       "      <td>3113</td>\n",
       "      <td>60c5d7495659ea5e55df1678</td>\n",
       "      <td>hi_hasoc_2021_3113</td>\n",
       "      <td>#किसानों_का_मोदी_को_धोबीपटका #ResignPMmodi htt...</td>\n",
       "      <td>NOT</td>\n",
       "      <td>NONE</td>\n",
       "    </tr>\n",
       "    <tr>\n",
       "      <th>4592</th>\n",
       "      <td>824</td>\n",
       "      <td>60c5d7495659ea5e55df091b</td>\n",
       "      <td>hi_hasoc_2021_824</td>\n",
       "      <td>@Ravishk356 @newslaundry @abhisar_sharma मोदी ...</td>\n",
       "      <td>NOT</td>\n",
       "      <td>NONE</td>\n",
       "    </tr>\n",
       "    <tr>\n",
       "      <th>4593</th>\n",
       "      <td>4309</td>\n",
       "      <td>60c5d7495659ea5e55df06c9</td>\n",
       "      <td>hi_hasoc_2021_4310</td>\n",
       "      <td>बिहार के लोगों इन झूठे मक्कार राजनेताओं का चहर...</td>\n",
       "      <td>HOF</td>\n",
       "      <td>OFFN</td>\n",
       "    </tr>\n",
       "  </tbody>\n",
       "</table>\n",
       "<p>4594 rows × 6 columns</p>\n",
       "</div>"
      ],
      "text/plain": [
       "      Unnamed: 0                       _id            tweet_id  \\\n",
       "0            998  60c5d7495659ea5e55df0b7b   hi_hasoc_2021_998   \n",
       "1           4049  60c5d7495659ea5e55df1b73  hi_hasoc_2021_4049   \n",
       "2           1757  60c5d7495659ea5e55df0d1b  hi_hasoc_2021_1757   \n",
       "3           5175  60c5d7495659ea5e55df0e45  hi_hasoc_2021_5178   \n",
       "4           1825  60c5d7495659ea5e55df0ee1  hi_hasoc_2021_1825   \n",
       "...          ...                       ...                 ...   \n",
       "4589        2481  60c5d7495659ea5e55df13ff  hi_hasoc_2021_2481   \n",
       "4590        3711  60c5d7495659ea5e55df1b13  hi_hasoc_2021_3711   \n",
       "4591        3113  60c5d7495659ea5e55df1678  hi_hasoc_2021_3113   \n",
       "4592         824  60c5d7495659ea5e55df091b   hi_hasoc_2021_824   \n",
       "4593        4309  60c5d7495659ea5e55df06c9  hi_hasoc_2021_4310   \n",
       "\n",
       "                                                   text task_1 task_2  \n",
       "0     @rssurjewala #Hindus DYING #HindusLivesMatter ...    NOT   NONE  \n",
       "1     सब लोग इतने पैसे डोनेट ही कर रहे हैं फिर भी आम...    NOT   NONE  \n",
       "2     शेर-ए- सिवान शहाबुद्दीन साहब से रिश्ता क्या  ل...    NOT   NONE  \n",
       "3            @AskAnshul आसमानी किताब के नाजायज औलाद है।    HOF   OFFN  \n",
       "4     @Shikha0222 इसे कहते हैं दोगला पंती जिस सपा की...    NOT   NONE  \n",
       "...                                                 ...    ...    ...  \n",
       "4589  सिवान के पुर्व सांसद मरहुम मो सहाबुदीन के रहस्...    NOT   NONE  \n",
       "4590  वर्ष 1989-1990 के दौरान कश्मीर के हिंदुओं के स...    NOT   NONE  \n",
       "4591  #किसानों_का_मोदी_को_धोबीपटका #ResignPMmodi htt...    NOT   NONE  \n",
       "4592  @Ravishk356 @newslaundry @abhisar_sharma मोदी ...    NOT   NONE  \n",
       "4593  बिहार के लोगों इन झूठे मक्कार राजनेताओं का चहर...    HOF   OFFN  \n",
       "\n",
       "[4594 rows x 6 columns]"
      ]
     },
     "execution_count": 2,
     "metadata": {},
     "output_type": "execute_result"
    }
   ],
   "source": [
    "df = pd.read_csv('/kaggle/input/hasoc-hindi/hindi_2021.csv')\n",
    "df"
   ]
  },
  {
   "cell_type": "code",
   "execution_count": 3,
   "id": "aad8a025",
   "metadata": {
    "_kg_hide-output": false,
    "execution": {
     "iopub.execute_input": "2024-03-10T20:00:33.791120Z",
     "iopub.status.busy": "2024-03-10T20:00:33.790503Z",
     "iopub.status.idle": "2024-03-10T20:00:33.798202Z",
     "shell.execute_reply": "2024-03-10T20:00:33.797305Z"
    },
    "papermill": {
     "duration": 0.018269,
     "end_time": "2024-03-10T20:00:33.800432",
     "exception": false,
     "start_time": "2024-03-10T20:00:33.782163",
     "status": "completed"
    },
    "tags": []
   },
   "outputs": [],
   "source": [
    "# Remove unwanted columns\n",
    "df = df.drop(columns=['Unnamed: 0', '_id', 'tweet_id', 'task_2'])"
   ]
  },
  {
   "cell_type": "code",
   "execution_count": 4,
   "id": "477710b9",
   "metadata": {
    "execution": {
     "iopub.execute_input": "2024-03-10T20:00:33.816530Z",
     "iopub.status.busy": "2024-03-10T20:00:33.815832Z",
     "iopub.status.idle": "2024-03-10T20:00:33.821597Z",
     "shell.execute_reply": "2024-03-10T20:00:33.820579Z"
    },
    "papermill": {
     "duration": 0.016415,
     "end_time": "2024-03-10T20:00:33.823747",
     "exception": false,
     "start_time": "2024-03-10T20:00:33.807332",
     "status": "completed"
    },
    "tags": []
   },
   "outputs": [
    {
     "data": {
      "text/plain": [
       "(4594, 2)"
      ]
     },
     "execution_count": 4,
     "metadata": {},
     "output_type": "execute_result"
    }
   ],
   "source": [
    "df.shape"
   ]
  },
  {
   "cell_type": "code",
   "execution_count": 5,
   "id": "2ff9368d",
   "metadata": {
    "execution": {
     "iopub.execute_input": "2024-03-10T20:00:33.839843Z",
     "iopub.status.busy": "2024-03-10T20:00:33.839084Z",
     "iopub.status.idle": "2024-03-10T20:00:33.846550Z",
     "shell.execute_reply": "2024-03-10T20:00:33.845655Z"
    },
    "papermill": {
     "duration": 0.018061,
     "end_time": "2024-03-10T20:00:33.848848",
     "exception": false,
     "start_time": "2024-03-10T20:00:33.830787",
     "status": "completed"
    },
    "tags": []
   },
   "outputs": [
    {
     "name": "stdout",
     "output_type": "stream",
     "text": [
      "यतीमी साथ लाती है ज़माने भर के रंज ओ गम सुना है बाप ज़िंदा हो तो कांटे भी नहीं चुभते  #JusticeForShahabuddin https://t.co/6Re9GjtpJw\n"
     ]
    }
   ],
   "source": [
    "row_index = 2777\n",
    "specific_row_content = df.at[row_index, 'text']\n",
    "print(specific_row_content)"
   ]
  },
  {
   "cell_type": "code",
   "execution_count": 6,
   "id": "80640a69",
   "metadata": {
    "execution": {
     "iopub.execute_input": "2024-03-10T20:00:33.865496Z",
     "iopub.status.busy": "2024-03-10T20:00:33.864895Z",
     "iopub.status.idle": "2024-03-10T20:00:33.874351Z",
     "shell.execute_reply": "2024-03-10T20:00:33.873221Z"
    },
    "papermill": {
     "duration": 0.020568,
     "end_time": "2024-03-10T20:00:33.876876",
     "exception": false,
     "start_time": "2024-03-10T20:00:33.856308",
     "status": "completed"
    },
    "tags": []
   },
   "outputs": [],
   "source": [
    "# Drop null values\n",
    "df = df.dropna(subset=['text'])"
   ]
  },
  {
   "cell_type": "markdown",
   "id": "85083dbe",
   "metadata": {
    "papermill": {
     "duration": 0.006921,
     "end_time": "2024-03-10T20:00:33.890827",
     "exception": false,
     "start_time": "2024-03-10T20:00:33.883906",
     "status": "completed"
    },
    "tags": []
   },
   "source": [
    "**Remove unwanted patterns in text**"
   ]
  },
  {
   "cell_type": "code",
   "execution_count": 7,
   "id": "c9fe0e2b",
   "metadata": {
    "execution": {
     "iopub.execute_input": "2024-03-10T20:00:33.907229Z",
     "iopub.status.busy": "2024-03-10T20:00:33.906858Z",
     "iopub.status.idle": "2024-03-10T20:00:34.003995Z",
     "shell.execute_reply": "2024-03-10T20:00:34.003073Z"
    },
    "papermill": {
     "duration": 0.108624,
     "end_time": "2024-03-10T20:00:34.006398",
     "exception": false,
     "start_time": "2024-03-10T20:00:33.897774",
     "status": "completed"
    },
    "tags": []
   },
   "outputs": [],
   "source": [
    "import re\n",
    "# remove @USERS\n",
    "df['text'] = df['text'].str.replace(r'@\\w+\\s*', '', regex=True)\n",
    "# More than one spaces\n",
    "df['text'] = df['text'].str.replace(r'\\s+', ' ', regex=True).str.strip()\n",
    "# Removing Hashtags\n",
    "df['text'] = df['text'].str.replace(r'#\\w+', '', regex=True)\n",
    "# Remove URLs\n",
    "df['text'] = df['text'].str.replace(r'https?://\\S+|www\\.\\S+', '', regex=True)"
   ]
  },
  {
   "cell_type": "code",
   "execution_count": 8,
   "id": "ebbee838",
   "metadata": {
    "execution": {
     "iopub.execute_input": "2024-03-10T20:00:34.023826Z",
     "iopub.status.busy": "2024-03-10T20:00:34.023003Z",
     "iopub.status.idle": "2024-03-10T20:00:34.038762Z",
     "shell.execute_reply": "2024-03-10T20:00:34.037668Z"
    },
    "papermill": {
     "duration": 0.027799,
     "end_time": "2024-03-10T20:00:34.041495",
     "exception": false,
     "start_time": "2024-03-10T20:00:34.013696",
     "status": "completed"
    },
    "tags": []
   },
   "outputs": [],
   "source": [
    "df[\"text\"] = df['text'].str.lower()"
   ]
  },
  {
   "cell_type": "code",
   "execution_count": 9,
   "id": "2695f38b",
   "metadata": {
    "execution": {
     "iopub.execute_input": "2024-03-10T20:00:34.057572Z",
     "iopub.status.busy": "2024-03-10T20:00:34.057168Z",
     "iopub.status.idle": "2024-03-10T20:00:34.063630Z",
     "shell.execute_reply": "2024-03-10T20:00:34.062605Z"
    },
    "papermill": {
     "duration": 0.018084,
     "end_time": "2024-03-10T20:00:34.066971",
     "exception": false,
     "start_time": "2024-03-10T20:00:34.048887",
     "status": "completed"
    },
    "tags": []
   },
   "outputs": [
    {
     "name": "stdout",
     "output_type": "stream",
     "text": [
      "🙏🙏🙏कुछ करिए सर प्लीज😢😢😢  \n",
      "\n",
      "देश में  वैक्सीन पर्याप्त मात्रा में उपलब्ध है। देखिए 6 मई 2021 तक देशभर में  की उपलब्धता और खपत के आंकड़े।     \n",
      "\n",
      "वफादारी इसे कहते हैं  | ना कोई पद की चिंता | ना कोई पार्टी के चिंता | बस चिंता है तो अपनों का शुक्रिया विधायक जी ( रघुनाथपुर विधानसभा ) ❣❣❣  \n",
      "\n",
      "दो मिनट का मौन उनके लिए भी जिनको बंगाल में चुनावी रैली दिखी , कोरोना दिखा किन्तु अब हिंसा , लूट अग्निकांड और महिलाओं को लुटती इज़्ज़त नहीं दिख रहीं 😡😡     \n",
      "\n",
      "जब पूर्व सांसद मोहम्मद शाहबुद्दीन की करोना रिपोर्ट नेगेटिव थे तो फिर उनकी इलाज में इतनी लापरवाही क्यों? \n",
      "\n",
      "हमने तुमको दिल ये दे दिया, ये भी ना पूछा कौन हो तुम.... ! ! उपरोक्त पंक्ति में कवि अंधेरे में तीर मार रहा है। 🙊😜😆😆  #\n",
      "\n",
      "अगर शहाबुद्दीन साहब के इन्साफ नहीं मिला तो tejashwi yadav जी मुख्यमंत्री का सपना देखना छोड़ दिजिए  👍\n",
      "\n",
      "जल्द ही सुहागरात भी चौराहे पर मनाना आधुनिकता कहलाएगा जब यही सब आधुनिकता है तो कुत्ते-कुतिया हमसे अधिक आधुनिक हैं। एक समय था जब कपड़े उतारने पर महाभारत हुई थी और आज किसी ने कपड़े पहनने के लिए बोल दो तो महाभारत हो रही है। आओ जड़ो की ओर लौट चले। आधुनिकता से कहीं दूर❤️❤️ \n",
      "\n",
      "कर्नाटक में दूसरी लहर का कहर, 24 घंटों में कोरोना के 44 हजार से ज्यादा मामले  \n",
      "\n",
      "he was my real hero बिछड़ा कुछ इस अदा से कि रुत ही बदल गई, इक शख़्स सारे शहर को वीरान कर गया।। शाम ढले हर पंछी को घर जाना पड़ता है, कौन ख़ुशी se मरता है मर ही जाना पड़ता है। अल्लाह डॉ मोहम्मद शहाबुद्दीन साहब को जन्नत अता करें।   \n",
      "\n",
      "मोदीजी आपके बाप होंगे , इस देश के बाप नही         \n",
      "\n",
      "ए लड़की तुझे दिनभर कोई काम नहीं रहता क्या ये क्या बकचोदी करती रहतीं हो यहाँ पर दिनभर थोड़ा  पर भी ट्विट करती जा\n",
      "\n",
      "यह बात उनको प्रधानमंत्री जी को बताना चाहिए था ये नहीं कि ट्विटर को और जनता को जनता क्या करेगी इसमें \n",
      "\n",
      "मक़तल में आ गया हूं तेरा साथ चाहता हूं तदफी़न हो रहा हू तेरा साथ चाहता हूं ~अल्लाह घर वालों को सब्र दें!  \n",
      "\n",
      "शेर-ए-बिहार मोहम्मद शहाबुद्दीन  \n",
      "\n",
      "मै ये कहकर जाऊंगा कि ांसों ने मुझे हरा दिया किसी ्हूरियत ने मुझे नही ाया मोहम्मद ाबुद्दीन साहेब !     \n",
      "\n",
      "राजद के नेता को खासकर के तेजस्वी यादव को ये भी देखकर शर्म आनी चाहिए की जीतन राम ने आवाज उठाने का काम कर रहे है और जिस पार्टि के लिए साहेब जिदगी खत्म कर दिये आज वो आवाज नही उठा रहा है तो इसका खमियाजा भुगतना पडेगा।  \n",
      "\n",
      "कव्वे देश मैं मौत के जिममेदार मोदी सरकार ही है..!!!   \n",
      "\n",
      "once in a century ुस_मोदी का साया मेरे देश के ऊपर से हट जाएगा आर्मी सारा काम संभाल रही है दवाई ऑक्सीजन आदि भी तेरे राजनीति से मुक्त हो जायेगी सभी के अपने अकालमृत्यु मर रहे है  मानवता केलिऐ  देशभक्त हो तो\n",
      "\n",
      "ज़िंदगी और मौत दोनों से डर रहे है। बंदे में कुछ तो ख़ास बात थी। इसलिए ही लाश देने से डर रहे है। \n",
      "\n",
      "तिहाड़ जेल के स्पेशल सेल में कोरोना पहुंचा कैसे मुझे लगता हे ये सिस्टम का कोरोना है \n",
      "\n",
      "जैसे बाल्टी में दूध बेचने वाले नेता, \"तब\" बनते हैं \"जब\" उनके पीछे \"ाबुद्दीन\" जैसा शेर होता है!🔥 \n",
      "\n",
      "अब कुत्ता बोल रहे हो जिस वक्त आप की पार्टी में थे तब बोलना था। अगर आप की पार्टी में होकर bjp की बेइज्जती करते होते तो आप बोलते की जी आप ने जो कहा वो सही कहा। पार्टी छोड़ी तो कुत्ता बोलते हो थोड़ी शर्म करो चमचो।\n",
      "\n",
      "हत्यारा के लिए why this trend \n",
      "\n",
      "दही तो तुम्हारे मुंह मे भी जमी हुई थी 😠😠 \n",
      "\n",
      "कई ादशाहों ने भी छोड़ दी थी तख्त इतनी लाशें देख कर। लेकिन ैवान कातिल खा रहा हैं अब भी रोटियां, चिताओं पे सेक कर।।😢😢     \n",
      "\n",
      "कब खून खौलेगा आपका ?? कि को नोबेल दिला कर ही मानेंगे?    \n",
      "\n",
      "बचपन से देखते आया हू की चाय में बिस्किट डूब जाता है पर आज तो चाय ने पूरा देश डूबो दिया...☕ \n",
      "\n",
      "इनके दो काम बहुत compulsory है पहला मदरसे में पढ़ना और दूसरा मस्जिद और मदरसा में बम बनाना वा हथियार छुपाना फिर यही concept अलग-अलग फील्ड में applied करना क्या चुराया पता नहीं यह सिर्फ चिल्लाते हैं रंडी टीवी रवीश कुमार के नेतृत्व में 🤔\n",
      "\n",
      "ममता बनर्जी ने तो सीबीआई तक कोई नहीं छोड़ा था। ये 4 लोग पता नहीं क्या उखाड़ लेंगे। साहेब के दिमाग को भी कोरोना हो गया है।  । \n",
      "\n"
     ]
    }
   ],
   "source": [
    "def printTxt(col):\n",
    "    for i in df[col][190:220]:\n",
    "        print(i)\n",
    "        print()\n",
    "printTxt(\"text\")"
   ]
  },
  {
   "cell_type": "markdown",
   "id": "a2e5d536",
   "metadata": {
    "papermill": {
     "duration": 0.007021,
     "end_time": "2024-03-10T20:00:34.081529",
     "exception": false,
     "start_time": "2024-03-10T20:00:34.074508",
     "status": "completed"
    },
    "tags": []
   },
   "source": [
    "**Remove punctuations**"
   ]
  },
  {
   "cell_type": "code",
   "execution_count": 10,
   "id": "71d55354",
   "metadata": {
    "execution": {
     "iopub.execute_input": "2024-03-10T20:00:34.098142Z",
     "iopub.status.busy": "2024-03-10T20:00:34.097742Z",
     "iopub.status.idle": "2024-03-10T20:00:34.117402Z",
     "shell.execute_reply": "2024-03-10T20:00:34.116279Z"
    },
    "papermill": {
     "duration": 0.030959,
     "end_time": "2024-03-10T20:00:34.119953",
     "exception": false,
     "start_time": "2024-03-10T20:00:34.088994",
     "status": "completed"
    },
    "tags": []
   },
   "outputs": [],
   "source": [
    "import string \n",
    "df['text'] = df['text'].str.replace(f'[{string.punctuation}]', '', regex=True)"
   ]
  },
  {
   "cell_type": "markdown",
   "id": "85204e41",
   "metadata": {
    "papermill": {
     "duration": 0.007134,
     "end_time": "2024-03-10T20:00:34.134480",
     "exception": false,
     "start_time": "2024-03-10T20:00:34.127346",
     "status": "completed"
    },
    "tags": []
   },
   "source": [
    "**Convert Emojis to text**"
   ]
  },
  {
   "cell_type": "code",
   "execution_count": 11,
   "id": "d53d2465",
   "metadata": {
    "execution": {
     "iopub.execute_input": "2024-03-10T20:00:34.151065Z",
     "iopub.status.busy": "2024-03-10T20:00:34.150672Z",
     "iopub.status.idle": "2024-03-10T20:00:34.914596Z",
     "shell.execute_reply": "2024-03-10T20:00:34.913656Z"
    },
    "papermill": {
     "duration": 0.775204,
     "end_time": "2024-03-10T20:00:34.917145",
     "exception": false,
     "start_time": "2024-03-10T20:00:34.141941",
     "status": "completed"
    },
    "tags": []
   },
   "outputs": [],
   "source": [
    "import emoji\n",
    "\n",
    "def process_text_with_emojis(text):\n",
    "    text_without_emojis = emoji.demojize(text)\n",
    "    return text_without_emojis\n",
    "\n",
    "df[\"text\"] = df[\"text\"].apply(process_text_with_emojis)"
   ]
  },
  {
   "cell_type": "code",
   "execution_count": 12,
   "id": "e1f649c1",
   "metadata": {
    "execution": {
     "iopub.execute_input": "2024-03-10T20:00:34.933672Z",
     "iopub.status.busy": "2024-03-10T20:00:34.933019Z",
     "iopub.status.idle": "2024-03-10T20:00:34.973518Z",
     "shell.execute_reply": "2024-03-10T20:00:34.972527Z"
    },
    "papermill": {
     "duration": 0.051403,
     "end_time": "2024-03-10T20:00:34.975957",
     "exception": false,
     "start_time": "2024-03-10T20:00:34.924554",
     "status": "completed"
    },
    "tags": []
   },
   "outputs": [],
   "source": [
    "df['text'] = df['text'].str.replace(r'।+', '', regex=True)\n",
    "# Remove Digits\n",
    "df['text'] = df['text'].str.replace(r'\\d+', '', regex=True)"
   ]
  },
  {
   "cell_type": "code",
   "execution_count": 13,
   "id": "779c8cf3",
   "metadata": {
    "execution": {
     "iopub.execute_input": "2024-03-10T20:00:34.992717Z",
     "iopub.status.busy": "2024-03-10T20:00:34.991812Z",
     "iopub.status.idle": "2024-03-10T20:00:34.998135Z",
     "shell.execute_reply": "2024-03-10T20:00:34.997061Z"
    },
    "papermill": {
     "duration": 0.01689,
     "end_time": "2024-03-10T20:00:35.000326",
     "exception": false,
     "start_time": "2024-03-10T20:00:34.983436",
     "status": "completed"
    },
    "tags": []
   },
   "outputs": [
    {
     "name": "stdout",
     "output_type": "stream",
     "text": [
      ":folded_hands::folded_hands::folded_hands:कुछ करिए सर प्लीज:crying_face::crying_face::crying_face:  \n",
      "\n",
      "देश में  वैक्सीन पर्याप्त मात्रा में उपलब्ध है देखिए  मई  तक देशभर में  की उपलब्धता और खपत के आंकड़े     \n",
      "\n",
      "वफादारी इसे कहते हैं   ना कोई पद की चिंता  ना कोई पार्टी के चिंता  बस चिंता है तो अपनों का शुक्रिया विधायक जी  रघुनाथपुर विधानसभा  :heart_exclamation::heart_exclamation::heart_exclamation:  \n",
      "\n",
      "दो मिनट का मौन उनके लिए भी जिनको बंगाल में चुनावी रैली दिखी  कोरोना दिखा किन्तु अब हिंसा  लूट अग्निकांड और महिलाओं को लुटती इज़्ज़त नहीं दिख रहीं :enraged_face::enraged_face:     \n",
      "\n",
      "जब पूर्व सांसद मोहम्मद शाहबुद्दीन की करोना रिपोर्ट नेगेटिव थे तो फिर उनकी इलाज में इतनी लापरवाही क्यों \n",
      "\n",
      "हमने तुमको दिल ये दे दिया ये भी ना पूछा कौन हो तुम   उपरोक्त पंक्ति में कवि अंधेरे में तीर मार रहा है :speak-no-evil_monkey::winking_face_with_tongue::grinning_squinting_face::grinning_squinting_face:  \n",
      "\n",
      "अगर शहाबुद्दीन साहब के इन्साफ नहीं मिला तो tejashwi yadav जी मुख्यमंत्री का सपना देखना छोड़ दिजिए  :thumbs_up:\n",
      "\n",
      "जल्द ही सुहागरात भी चौराहे पर मनाना आधुनिकता कहलाएगा जब यही सब आधुनिकता है तो कुत्तेकुतिया हमसे अधिक आधुनिक हैं एक समय था जब कपड़े उतारने पर महाभारत हुई थी और आज किसी ने कपड़े पहनने के लिए बोल दो तो महाभारत हो रही है आओ जड़ो की ओर लौट चले आधुनिकता से कहीं दूर:red_heart::red_heart: \n",
      "\n",
      "कर्नाटक में दूसरी लहर का कहर  घंटों में कोरोना के  हजार से ज्यादा मामले  \n",
      "\n",
      "he was my real hero बिछड़ा कुछ इस अदा से कि रुत ही बदल गई इक शख़्स सारे शहर को वीरान कर गया शाम ढले हर पंछी को घर जाना पड़ता है कौन ख़ुशी se मरता है मर ही जाना पड़ता है अल्लाह डॉ मोहम्मद शहाबुद्दीन साहब को जन्नत अता करें   \n",
      "\n",
      "मोदीजी आपके बाप होंगे  इस देश के बाप नही         \n",
      "\n",
      "ए लड़की तुझे दिनभर कोई काम नहीं रहता क्या ये क्या बकचोदी करती रहतीं हो यहाँ पर दिनभर थोड़ा  पर भी ट्विट करती जा\n",
      "\n",
      "यह बात उनको प्रधानमंत्री जी को बताना चाहिए था ये नहीं कि ट्विटर को और जनता को जनता क्या करेगी इसमें \n",
      "\n",
      "मक़तल में आ गया हूं तेरा साथ चाहता हूं तदफी़न हो रहा हू तेरा साथ चाहता हूं अल्लाह घर वालों को सब्र दें  \n",
      "\n",
      "शेरएबिहार मोहम्मद शहाबुद्दीन  \n",
      "\n",
      "मै ये कहकर जाऊंगा कि ांसों ने मुझे हरा दिया किसी ्हूरियत ने मुझे नही ाया मोहम्मद ाबुद्दीन साहेब      \n",
      "\n",
      "राजद के नेता को खासकर के तेजस्वी यादव को ये भी देखकर शर्म आनी चाहिए की जीतन राम ने आवाज उठाने का काम कर रहे है और जिस पार्टि के लिए साहेब जिदगी खत्म कर दिये आज वो आवाज नही उठा रहा है तो इसका खमियाजा भुगतना पडेगा  \n",
      "\n",
      "कव्वे देश मैं मौत के जिममेदार मोदी सरकार ही है   \n",
      "\n",
      "once in a century ुसमोदी का साया मेरे देश के ऊपर से हट जाएगा आर्मी सारा काम संभाल रही है दवाई ऑक्सीजन आदि भी तेरे राजनीति से मुक्त हो जायेगी सभी के अपने अकालमृत्यु मर रहे है  मानवता केलिऐ  देशभक्त हो तो\n",
      "\n",
      "ज़िंदगी और मौत दोनों से डर रहे है बंदे में कुछ तो ख़ास बात थी इसलिए ही लाश देने से डर रहे है \n",
      "\n",
      "तिहाड़ जेल के स्पेशल सेल में कोरोना पहुंचा कैसे मुझे लगता हे ये सिस्टम का कोरोना है \n",
      "\n",
      "जैसे बाल्टी में दूध बेचने वाले नेता तब बनते हैं जब उनके पीछे ाबुद्दीन जैसा शेर होता है:fire: \n",
      "\n",
      "अब कुत्ता बोल रहे हो जिस वक्त आप की पार्टी में थे तब बोलना था अगर आप की पार्टी में होकर bjp की बेइज्जती करते होते तो आप बोलते की जी आप ने जो कहा वो सही कहा पार्टी छोड़ी तो कुत्ता बोलते हो थोड़ी शर्म करो चमचो\n",
      "\n",
      "हत्यारा के लिए why this trend \n",
      "\n",
      "दही तो तुम्हारे मुंह मे भी जमी हुई थी :angry_face::angry_face: \n",
      "\n",
      "कई ादशाहों ने भी छोड़ दी थी तख्त इतनी लाशें देख कर लेकिन ैवान कातिल खा रहा हैं अब भी रोटियां चिताओं पे सेक कर:crying_face::crying_face:     \n",
      "\n",
      "कब खून खौलेगा आपका  कि को नोबेल दिला कर ही मानेंगे    \n",
      "\n",
      "बचपन से देखते आया हू की चाय में बिस्किट डूब जाता है पर आज तो चाय ने पूरा देश डूबो दिया:hot_beverage: \n",
      "\n",
      "इनके दो काम बहुत compulsory है पहला मदरसे में पढ़ना और दूसरा मस्जिद और मदरसा में बम बनाना वा हथियार छुपाना फिर यही concept अलगअलग फील्ड में applied करना क्या चुराया पता नहीं यह सिर्फ चिल्लाते हैं रंडी टीवी रवीश कुमार के नेतृत्व में :thinking_face:\n",
      "\n",
      "ममता बनर्जी ने तो सीबीआई तक कोई नहीं छोड़ा था ये  लोग पता नहीं क्या उखाड़ लेंगे साहेब के दिमाग को भी कोरोना हो गया है   \n",
      "\n"
     ]
    }
   ],
   "source": [
    "printTxt(\"text\")"
   ]
  },
  {
   "cell_type": "markdown",
   "id": "b17770a9",
   "metadata": {
    "papermill": {
     "duration": 0.007221,
     "end_time": "2024-03-10T20:00:35.015255",
     "exception": false,
     "start_time": "2024-03-10T20:00:35.008034",
     "status": "completed"
    },
    "tags": []
   },
   "source": [
    "**Stopwords Removal**"
   ]
  },
  {
   "cell_type": "code",
   "execution_count": 14,
   "id": "fe017e79",
   "metadata": {
    "execution": {
     "iopub.execute_input": "2024-03-10T20:00:35.033121Z",
     "iopub.status.busy": "2024-03-10T20:00:35.032744Z",
     "iopub.status.idle": "2024-03-10T20:00:48.987943Z",
     "shell.execute_reply": "2024-03-10T20:00:48.986616Z"
    },
    "papermill": {
     "duration": 13.966901,
     "end_time": "2024-03-10T20:00:48.990765",
     "exception": false,
     "start_time": "2024-03-10T20:00:35.023864",
     "status": "completed"
    },
    "tags": []
   },
   "outputs": [
    {
     "name": "stdout",
     "output_type": "stream",
     "text": [
      "Collecting stopwordsiso\r\n",
      "  Downloading stopwordsiso-0.6.1-py3-none-any.whl.metadata (2.5 kB)\r\n",
      "Downloading stopwordsiso-0.6.1-py3-none-any.whl (73 kB)\r\n",
      "\u001b[2K   \u001b[90m━━━━━━━━━━━━━━━━━━━━━━━━━━━━━━━━━━━━━━━━\u001b[0m \u001b[32m73.5/73.5 kB\u001b[0m \u001b[31m4.1 MB/s\u001b[0m eta \u001b[36m0:00:00\u001b[0m\r\n",
      "\u001b[?25hInstalling collected packages: stopwordsiso\r\n",
      "Successfully installed stopwordsiso-0.6.1\r\n"
     ]
    }
   ],
   "source": [
    "!pip install stopwordsiso"
   ]
  },
  {
   "cell_type": "code",
   "execution_count": 15,
   "id": "1300cffa",
   "metadata": {
    "execution": {
     "iopub.execute_input": "2024-03-10T20:00:49.011861Z",
     "iopub.status.busy": "2024-03-10T20:00:49.011411Z",
     "iopub.status.idle": "2024-03-10T20:00:49.313990Z",
     "shell.execute_reply": "2024-03-10T20:00:49.312733Z"
    },
    "papermill": {
     "duration": 0.315388,
     "end_time": "2024-03-10T20:00:49.316511",
     "exception": false,
     "start_time": "2024-03-10T20:00:49.001123",
     "status": "completed"
    },
    "tags": []
   },
   "outputs": [
    {
     "data": {
      "text/plain": [
       "True"
      ]
     },
     "execution_count": 15,
     "metadata": {},
     "output_type": "execute_result"
    }
   ],
   "source": [
    "import stopwordsiso\n",
    "stopwordsiso.has_lang(\"hi\")  # check if there is a stopwords for hindi language"
   ]
  },
  {
   "cell_type": "code",
   "execution_count": 16,
   "id": "40469085",
   "metadata": {
    "execution": {
     "iopub.execute_input": "2024-03-10T20:00:49.334794Z",
     "iopub.status.busy": "2024-03-10T20:00:49.334359Z",
     "iopub.status.idle": "2024-03-10T20:00:49.373456Z",
     "shell.execute_reply": "2024-03-10T20:00:49.372447Z"
    },
    "papermill": {
     "duration": 0.051213,
     "end_time": "2024-03-10T20:00:49.376081",
     "exception": false,
     "start_time": "2024-03-10T20:00:49.324868",
     "status": "completed"
    },
    "tags": []
   },
   "outputs": [],
   "source": [
    "from stopwordsiso import stopwords\n",
    "\n",
    "# Load Hindi stopwords\n",
    "marathi_stopwords = stopwords(\"hi\")\n",
    "\n",
    "def remove_stopwords(text):\n",
    "    words = text.split()\n",
    "    filtered_words = [word for word in words if word not in marathi_stopwords]\n",
    "    return ' '.join(filtered_words)\n",
    "\n",
    "df['text'] = df['text'].apply(remove_stopwords)"
   ]
  },
  {
   "cell_type": "code",
   "execution_count": 17,
   "id": "01466655",
   "metadata": {
    "execution": {
     "iopub.execute_input": "2024-03-10T20:00:49.393958Z",
     "iopub.status.busy": "2024-03-10T20:00:49.393601Z",
     "iopub.status.idle": "2024-03-10T20:00:49.481303Z",
     "shell.execute_reply": "2024-03-10T20:00:49.480416Z"
    },
    "papermill": {
     "duration": 0.099478,
     "end_time": "2024-03-10T20:00:49.483627",
     "exception": false,
     "start_time": "2024-03-10T20:00:49.384149",
     "status": "completed"
    },
    "tags": []
   },
   "outputs": [],
   "source": [
    "# Seperating hindi and english words\n",
    "def insert_space(sentence):\n",
    "    cleaned_sentence = re.sub(r'([a-zA-Z])([ऀ-ॿ]+)|([ऀ-ॿ]+)([a-zA-Z])', r'\\1 \\2\\3 \\4', sentence)\n",
    "    return cleaned_sentence\n",
    "df['text'] = df[\"text\"].apply(insert_space)"
   ]
  },
  {
   "cell_type": "code",
   "execution_count": 18,
   "id": "591a9637",
   "metadata": {
    "execution": {
     "iopub.execute_input": "2024-03-10T20:00:49.501756Z",
     "iopub.status.busy": "2024-03-10T20:00:49.500934Z",
     "iopub.status.idle": "2024-03-10T20:00:49.540980Z",
     "shell.execute_reply": "2024-03-10T20:00:49.539754Z"
    },
    "papermill": {
     "duration": 0.051549,
     "end_time": "2024-03-10T20:00:49.543389",
     "exception": false,
     "start_time": "2024-03-10T20:00:49.491840",
     "status": "completed"
    },
    "tags": []
   },
   "outputs": [],
   "source": [
    "df['text'] = df['text'].str.replace(r'\\s+', ' ', regex=True).str.strip()"
   ]
  },
  {
   "cell_type": "code",
   "execution_count": 19,
   "id": "2c375119",
   "metadata": {
    "execution": {
     "iopub.execute_input": "2024-03-10T20:00:49.561361Z",
     "iopub.status.busy": "2024-03-10T20:00:49.560767Z",
     "iopub.status.idle": "2024-03-10T20:01:01.848438Z",
     "shell.execute_reply": "2024-03-10T20:01:01.847295Z"
    },
    "papermill": {
     "duration": 12.299593,
     "end_time": "2024-03-10T20:01:01.850830",
     "exception": false,
     "start_time": "2024-03-10T20:00:49.551237",
     "status": "completed"
    },
    "tags": []
   },
   "outputs": [
    {
     "name": "stdout",
     "output_type": "stream",
     "text": [
      "Requirement already satisfied: transformers in /opt/conda/lib/python3.10/site-packages (4.38.1)\r\n",
      "Requirement already satisfied: filelock in /opt/conda/lib/python3.10/site-packages (from transformers) (3.13.1)\r\n",
      "Requirement already satisfied: huggingface-hub<1.0,>=0.19.3 in /opt/conda/lib/python3.10/site-packages (from transformers) (0.20.3)\r\n",
      "Requirement already satisfied: numpy>=1.17 in /opt/conda/lib/python3.10/site-packages (from transformers) (1.26.4)\r\n",
      "Requirement already satisfied: packaging>=20.0 in /opt/conda/lib/python3.10/site-packages (from transformers) (21.3)\r\n",
      "Requirement already satisfied: pyyaml>=5.1 in /opt/conda/lib/python3.10/site-packages (from transformers) (6.0.1)\r\n",
      "Requirement already satisfied: regex!=2019.12.17 in /opt/conda/lib/python3.10/site-packages (from transformers) (2023.12.25)\r\n",
      "Requirement already satisfied: requests in /opt/conda/lib/python3.10/site-packages (from transformers) (2.31.0)\r\n",
      "Requirement already satisfied: tokenizers<0.19,>=0.14 in /opt/conda/lib/python3.10/site-packages (from transformers) (0.15.2)\r\n",
      "Requirement already satisfied: safetensors>=0.4.1 in /opt/conda/lib/python3.10/site-packages (from transformers) (0.4.2)\r\n",
      "Requirement already satisfied: tqdm>=4.27 in /opt/conda/lib/python3.10/site-packages (from transformers) (4.66.1)\r\n",
      "Requirement already satisfied: fsspec>=2023.5.0 in /opt/conda/lib/python3.10/site-packages (from huggingface-hub<1.0,>=0.19.3->transformers) (2024.2.0)\r\n",
      "Requirement already satisfied: typing-extensions>=3.7.4.3 in /opt/conda/lib/python3.10/site-packages (from huggingface-hub<1.0,>=0.19.3->transformers) (4.9.0)\r\n",
      "Requirement already satisfied: pyparsing!=3.0.5,>=2.0.2 in /opt/conda/lib/python3.10/site-packages (from packaging>=20.0->transformers) (3.1.1)\r\n",
      "Requirement already satisfied: charset-normalizer<4,>=2 in /opt/conda/lib/python3.10/site-packages (from requests->transformers) (3.3.2)\r\n",
      "Requirement already satisfied: idna<4,>=2.5 in /opt/conda/lib/python3.10/site-packages (from requests->transformers) (3.6)\r\n",
      "Requirement already satisfied: urllib3<3,>=1.21.1 in /opt/conda/lib/python3.10/site-packages (from requests->transformers) (1.26.18)\r\n",
      "Requirement already satisfied: certifi>=2017.4.17 in /opt/conda/lib/python3.10/site-packages (from requests->transformers) (2024.2.2)\r\n"
     ]
    }
   ],
   "source": [
    "!pip install transformers"
   ]
  },
  {
   "cell_type": "code",
   "execution_count": 20,
   "id": "6ed46fc4",
   "metadata": {
    "execution": {
     "iopub.execute_input": "2024-03-10T20:01:01.870675Z",
     "iopub.status.busy": "2024-03-10T20:01:01.869278Z",
     "iopub.status.idle": "2024-03-10T20:01:14.431404Z",
     "shell.execute_reply": "2024-03-10T20:01:14.430001Z"
    },
    "papermill": {
     "duration": 12.574681,
     "end_time": "2024-03-10T20:01:14.433988",
     "exception": false,
     "start_time": "2024-03-10T20:01:01.859307",
     "status": "completed"
    },
    "tags": []
   },
   "outputs": [
    {
     "data": {
      "application/vnd.jupyter.widget-view+json": {
       "model_id": "428d871a371a41a4a83e1b6f6fdeb141",
       "version_major": 2,
       "version_minor": 0
      },
      "text/plain": [
       "tokenizer_config.json:   0%|          | 0.00/49.0 [00:00<?, ?B/s]"
      ]
     },
     "metadata": {},
     "output_type": "display_data"
    },
    {
     "data": {
      "application/vnd.jupyter.widget-view+json": {
       "model_id": "28bdb98004414a56b0cc4238ea7c30c2",
       "version_major": 2,
       "version_minor": 0
      },
      "text/plain": [
       "vocab.txt:   0%|          | 0.00/996k [00:00<?, ?B/s]"
      ]
     },
     "metadata": {},
     "output_type": "display_data"
    },
    {
     "data": {
      "application/vnd.jupyter.widget-view+json": {
       "model_id": "bc06e6c4a68141349805883d53c59e98",
       "version_major": 2,
       "version_minor": 0
      },
      "text/plain": [
       "tokenizer.json:   0%|          | 0.00/1.96M [00:00<?, ?B/s]"
      ]
     },
     "metadata": {},
     "output_type": "display_data"
    },
    {
     "data": {
      "application/vnd.jupyter.widget-view+json": {
       "model_id": "000556ef81544688b57672fa6cde4954",
       "version_major": 2,
       "version_minor": 0
      },
      "text/plain": [
       "config.json:   0%|          | 0.00/625 [00:00<?, ?B/s]"
      ]
     },
     "metadata": {},
     "output_type": "display_data"
    }
   ],
   "source": [
    "from transformers import BertTokenizer\n",
    "\n",
    "# Load mBERT tokenizer\n",
    "tokenizer = BertTokenizer.from_pretrained('bert-base-multilingual-cased')\n",
    "\n",
    "def tokenize_long_text(text, max_length=512, stride=100):\n",
    "    tokens = []\n",
    "    for i in range(0, len(text), stride):\n",
    "        chunk = text[i:i+max_length]\n",
    "        chunk_tokens = tokenizer.encode(chunk, add_special_tokens=True)\n",
    "        tokens.extend(chunk_tokens)\n",
    "    return tokens\n",
    "\n",
    "# Tokenize the 'text' column with sliding window\n",
    "df['tokenized_text'] = df['text'].apply(lambda x: tokenize_long_text(x, max_length=512, stride=100))\n",
    "\n",
    "# Convert token IDs to tokens\n",
    "df['tokenized_text_tokens'] = df['tokenized_text'].apply(lambda x: tokenizer.convert_ids_to_tokens(x))"
   ]
  },
  {
   "cell_type": "code",
   "execution_count": 21,
   "id": "227331e3",
   "metadata": {
    "execution": {
     "iopub.execute_input": "2024-03-10T20:01:14.454025Z",
     "iopub.status.busy": "2024-03-10T20:01:14.453530Z",
     "iopub.status.idle": "2024-03-10T20:01:14.460079Z",
     "shell.execute_reply": "2024-03-10T20:01:14.458932Z"
    },
    "papermill": {
     "duration": 0.019698,
     "end_time": "2024-03-10T20:01:14.462827",
     "exception": false,
     "start_time": "2024-03-10T20:01:14.443129",
     "status": "completed"
    },
    "tags": []
   },
   "outputs": [
    {
     "name": "stdout",
     "output_type": "stream",
     "text": [
      "[101, 131, 174, 33860, 10336, 168, 27925, 131, 131, 174, 33860, 10336, 168, 27925, 131, 131, 174, 33860, 10336, 168, 27925, 131, 22022, 16192, 12878, 22599, 898, 11549, 885, 50101, 10914, 17413, 131, 171, 10908, 10230, 168, 13295, 131, 131, 171, 10908, 10230, 168, 13295, 131, 131, 171, 10908, 10230, 168, 13295, 131, 102]\n",
      "\n",
      "[101, 40107, 895, 104174, 18869, 68167, 12213, 17279, 43682, 92658, 37920, 78346, 22599, 70219, 40107, 60270, 11549, 37920, 13537, 866, 18187, 11845, 852, 90696, 56860, 102]\n",
      "\n",
      "[101, 895, 89761, 55904, 10914, 110126, 870, 103435, 13537, 85554, 870, 103435, 13537, 887, 13432, 870, 103435, 13537, 851, 68053, 11497, 896, 97571, 77073, 55190, 38380, 51094, 49069, 891, 55759, 103021, 30534, 22607, 82830, 131, 21736, 168, 11419, 106026, 131, 131, 21736, 168, 11419, 106026, 131, 131, 21736, 168, 11419, 106026, 131, 102, 101, 182, 131, 131, 21736, 168, 11419, 106026, 131, 131, 21736, 168, 11419, 106026, 131, 102]\n",
      "\n",
      "[101, 889, 25936, 14835, 889, 78530, 11453, 872, 25936, 12512, 887, 103792, 11714, 79902, 10914, 891, 86969, 882, 12878, 54569, 11267, 101841, 16380, 882, 105968, 14117, 84487, 49545, 899, 103435, 35127, 893, 108634, 851, 19741, 22949, 34028, 29841, 50353, 18906, 893, 90434, 18406, 853, 50460, 73649, 35773, 11845, 882, 12878, 27841, 57203, 14018, 131, 10110, 40696, 10162, 168, 13295, 131, 131, 10110, 40696, 10162, 168, 13295, 131, 102, 101, 880, 882, 12878, 27841, 57203, 14018, 131, 10110, 40696, 10162, 168, 13295, 131, 131, 10110, 40696, 10162, 168, 13295, 131, 102]\n",
      "\n",
      "[101, 20012, 898, 11208, 49096, 15552, 889, 13718, 17110, 45753, 104200, 896, 66921, 18351, 14070, 15552, 82337, 11453, 16192, 73354, 11208, 891, 106872, 108502, 13088, 61809, 14835, 66306, 853, 14334, 17413, 853, 81274, 10914, 21147, 61533, 28960, 24667, 865, 49036, 14018, 102]\n",
      "\n",
      "[101, 105127, 13466, 880, 14070, 13841, 12512, 882, 27391, 82915, 77826, 108021, 11208, 880, 14070, 13841, 855, 61533, 69897, 29161, 885, 90696, 32953, 865, 72233, 851, 14018, 97451, 28546, 68613, 11549, 32629, 11549, 131, 41541, 118, 10192, 118, 57154, 168, 34372, 25975, 131, 131, 14125, 15629, 168, 13295, 168, 10169, 168, 102655, 131, 131, 30518, 87324, 10376, 168, 27164, 92195, 10230, 168, 13295, 131, 131, 30518, 87324, 10376, 168, 27164, 92195, 10230, 168, 13295, 131, 102, 101, 176, 168, 102655, 131, 131, 30518, 87324, 10376, 168, 27164, 92195, 10230, 168, 13295, 131, 131, 30518, 87324, 10376, 168, 27164, 92195, 10230, 168, 13295, 131, 102]\n",
      "\n",
      "[101, 851, 45086, 896, 56523, 18351, 14070, 15552, 82337, 11453, 898, 66921, 18351, 30114, 18869, 11208, 28863, 889, 33156, 15905, 73491, 15926, 10549, 10229, 10477, 49069, 31169, 109520, 898, 68053, 11208, 82915, 110328, 11208, 871, 89219, 882, 12878, 17413, 12878, 22599, 131, 23886, 27012, 10107, 168, 10741, 131, 102]\n",
      "\n",
      "[101, 80619, 60254, 898, 14070, 56523, 45086, 15919, 870, 54379, 66921, 11554, 889, 16380, 16380, 67898, 13537, 865, 17110, 14334, 22599, 43263, 110334, 67898, 13537, 865, 78954, 29161, 53809, 78954, 21394, 105127, 35622, 23586, 67898, 23141, 865, 18187, 56860, 855, 13537, 11549, 13466, 889, 56523, 104741, 57933, 59444, 865, 18187, 56860, 885, 43486, 13466, 887, 51140, 889, 56523, 104741, 57933, 57203, 852, 111200, 872, 43733, 13718, 893, 78530, 14835, 870, 13665, 67898, 13537, 865, 24667, 14018, 79010, 131, 10680, 168, 21736, 131, 131, 10680, 168, 21736, 131, 102, 101, 13088, 889, 56523, 104741, 57933, 59444, 865, 18187, 56860, 885, 43486, 13466, 887, 51140, 889, 56523, 104741, 57933, 57203, 852, 111200, 872, 43733, 13718, 893, 78530, 14835, 870, 13665, 67898, 13537, 865, 24667, 14018, 79010, 131, 10680, 168, 21736, 131, 131, 10680, 168, 21736, 131, 102]\n",
      "\n",
      "[101, 16192, 22949, 102286, 106843, 893, 49050, 865, 49050, 868, 58935, 11497, 11267, 101841, 16380, 899, 80683, 872, 89192, 32629, 13841, 13665, 102]\n",
      "\n",
      "[101, 10261, 10134, 15127, 13486, 51670, 887, 12878, 108021, 44302, 851, 25501, 891, 78954, 887, 99989, 32447, 853, 12151, 896, 27841, 35773, 18869, 898, 71170, 32062, 895, 83222, 21202, 896, 49362, 878, 13665, 85465, 885, 14018, 108021, 10914, 55331, 885, 43733, 13537, 866, 35773, 14070, 35593, 10126, 889, 57933, 11208, 889, 11549, 55331, 885, 43733, 13537, 851, 101668, 17110, 48250, 889, 13718, 17110, 45753, 104200, 896, 56523, 18351, 14070, 15552, 82337, 11453, 898, 66921, 18351, 872, 41013, 11453, 11845, 851, 13537, 102, 101, 173, 889, 57933, 11208, 889, 11549, 55331, 885, 43733, 13537, 851, 101668, 17110, 48250, 889, 13718, 17110, 45753, 104200, 896, 56523, 18351, 14070, 15552, 82337, 11453, 898, 66921, 18351, 872, 41013, 11453, 11845, 851, 13537, 102]\n",
      "\n",
      "[101, 889, 13718, 27425, 30800, 852, 18187, 38150, 887, 89150, 13220, 31222, 11554, 40107, 887, 89150, 884, 24667, 102]\n",
      "\n",
      "[101, 860, 893, 43733, 24962, 880, 14070, 111202, 11554, 34578, 60270, 11549, 28043, 90213, 865, 17279, 865, 17279, 887, 12151, 16940, 13718, 27425, 50129, 891, 84916, 14018, 34578, 60270, 11549, 881, 89219, 11208, 875, 27155, 80858, 50129, 102]\n",
      "\n",
      "[101, 70811, 885, 101219, 109520, 49069, 887, 13537, 16380, 63214, 875, 27155, 80858, 11549, 104408, 104408, 865, 17279, 16192, 11554, 34315, 102]\n",
      "\n",
      "[101, 889, 12151, 35773, 11845, 11714, 852, 899, 15778, 14018, 24578, 31277, 870, 66921, 13537, 899, 15778, 14018, 880, 15552, 28863, 10914, 35773, 11453, 899, 15778, 24578, 31277, 870, 66921, 13537, 899, 15778, 14018, 851, 101668, 17110, 37038, 51665, 110334, 18321, 82915, 14018, 102]\n",
      "\n",
      "[101, 896, 53195, 22599, 18351, 12878, 42263, 889, 13718, 17110, 45753, 104200, 896, 56523, 18351, 14070, 15552, 82337, 11453, 102]\n",
      "\n",
      "[101, 889, 18438, 865, 17110, 19444, 24562, 58026, 103792, 902, 49096, 11497, 889, 14070, 111202, 11554, 85465, 11208, 916, 17110, 45028, 71382, 11845, 889, 14070, 111202, 11554, 884, 24667, 902, 15168, 889, 13718, 17110, 45753, 104200, 902, 18351, 14070, 15552, 82337, 11453, 898, 66921, 11554, 18351, 102]\n",
      "\n",
      "[101, 891, 44735, 15552, 13088, 13537, 64566, 13432, 19444, 24578, 17413, 13432, 108233, 12194, 15552, 15070, 82915, 27841, 19444, 896, 11549, 33270, 852, 19810, 63214, 49069, 81274, 71210, 852, 28960, 17413, 855, 55812, 13466, 28043, 885, 19885, 25695, 12878, 898, 66921, 11554, 18351, 872, 12878, 15552, 34315, 866, 11845, 33270, 882, 103288, 59444, 895, 13718, 852, 28960, 17413, 884, 24667, 855, 55812, 866, 13841, 21394, 51283, 888, 78660, 81274, 11208, 885, 53807, 43263, 102, 101, 33522, 59444, 895, 13718, 852, 28960, 17413, 884, 24667, 855, 55812, 866, 13841, 21394, 51283, 888, 78660, 81274, 11208, 885, 53807, 43263, 102]\n",
      "\n",
      "[101, 865, 15070, 72312, 40107, 889, 99007, 889, 78530, 11845, 872, 50419, 13841, 82813, 19885, 889, 13718, 27425, 40204, 102]\n",
      "\n",
      "[101, 14907, 10106, 169, 11943, 905, 105794, 13718, 27425, 898, 67341, 40265, 28546, 40107, 99866, 899, 14835, 24562, 22599, 43263, 107144, 76881, 28043, 28466, 104741, 11714, 57203, 882, 86559, 862, 100077, 10914, 36667, 24578, 28546, 891, 44735, 19810, 24877, 889, 51672, 24562, 52487, 34315, 851, 82780, 13841, 37500, 14251, 14070, 889, 11549, 76080, 13537, 10412, 11714, 12878, 111198, 40107, 60270, 36907, 102, 101, 865, 29161, 24562, 52487, 34315, 851, 82780, 13841, 37500, 14251, 14070, 889, 11549, 76080, 13537, 10412, 11714, 12878, 111198, 40107, 60270, 36907, 102]\n",
      "\n",
      "[101, 872, 35773, 103435, 15552, 34315, 889, 78530, 11845, 43973, 877, 11549, 887, 52768, 11554, 866, 35773, 34646, 70811, 89553, 21147, 21835, 72678, 877, 11549, 102]\n",
      "\n",
      "[101, 880, 12878, 56523, 43733, 85705, 11714, 898, 20429, 18187, 48157, 11714, 11072, 11714, 11267, 101841, 16380, 885, 17110, 14070, 50436, 865, 18438, 35622, 889, 14070, 111202, 11554, 893, 49824, 11208, 898, 29822, 25695, 13841, 11267, 101841, 16380, 102]\n",
      "\n",
      "[101, 887, 35133, 84218, 882, 15778, 27694, 887, 11554, 91405, 11554, 13088, 13537, 64162, 17203, 85166, 108021, 11554, 902, 18351, 14070, 15552, 82337, 11453, 896, 53195, 10569, 131, 13559, 131, 102]\n",
      "\n",
      "[101, 49545, 865, 78954, 43183, 887, 51140, 895, 36907, 85554, 887, 108475, 11208, 851, 45086, 85554, 96845, 170, 10418, 10410, 887, 11554, 34231, 17413, 73649, 18406, 887, 51140, 17203, 49069, 895, 13718, 898, 24667, 85554, 871, 89219, 10914, 865, 78954, 43183, 887, 51140, 17203, 881, 89219, 10914, 896, 11549, 33270, 16192, 13718, 870, 13841, 16940, 13718, 102, 101, 24578, 881, 89219, 10914, 896, 11549, 33270, 16192, 13718, 870, 13841, 16940, 13718, 102]\n",
      "\n",
      "[101, 899, 76752, 31277, 31237, 10531, 54963, 102]\n",
      "\n",
      "[101, 882, 24667, 880, 14070, 45753, 42263, 11554, 889, 14070, 14018, 17110, 872, 40340, 131, 10488, 10908, 168, 13295, 131, 131, 10488, 10908, 168, 13295, 131, 102]\n",
      "\n",
      "[101, 902, 15552, 105764, 17110, 11497, 871, 89219, 41607, 880, 27841, 29161, 853, 81274, 10914, 21147, 21835, 42057, 82915, 27841, 912, 28960, 11453, 11081, 24877, 11714, 64566, 49545, 891, 82858, 21394, 14018, 870, 66880, 18906, 11072, 12151, 16192, 131, 171, 10908, 10230, 168, 13295, 131, 131, 171, 10908, 10230, 168, 13295, 131, 102]\n",
      "\n",
      "[101, 865, 18351, 866, 18244, 866, 78530, 13665, 43263, 852, 18187, 15399, 884, 13718, 85002, 11714, 882, 33156, 32629, 13466, 31222, 11554, 102]\n",
      "\n",
      "[101, 887, 16940, 68053, 82915, 110310, 98440, 11208, 899, 15778, 870, 49604, 887, 29822, 28197, 80858, 877, 15778, 18351, 15425, 59444, 870, 49604, 40107, 877, 15778, 18351, 13718, 20226, 131, 29698, 168, 10347, 45918, 10525, 131, 102]\n",
      "\n",
      "[101, 89652, 28043, 10212, 96898, 21493, 93391, 889, 71478, 35622, 885, 89027, 16380, 882, 86850, 31277, 889, 13432, 73649, 12878, 15552, 889, 71478, 35127, 887, 13841, 60701, 16380, 37038, 899, 30534, 21394, 11549, 871, 14070, 42035, 16380, 19228, 45236, 111192, 11714, 19741, 886, 28185, 40596, 26850, 865, 17279, 870, 77476, 15168, 93801, 898, 46354, 75315, 870, 27391, 50101, 15919, 11554, 891, 29841, 10914, 100661, 30945, 891, 30945, 21835, 98441, 13088, 11845, 37500, 27155, 131, 56294, 168, 13295, 131, 102, 101, 916, 20691, 26850, 865, 17279, 870, 77476, 15168, 93801, 898, 46354, 75315, 870, 27391, 50101, 15919, 11554, 891, 29841, 10914, 100661, 30945, 891, 30945, 21835, 98441, 13088, 11845, 37500, 27155, 131, 56294, 168, 13295, 131, 102]\n",
      "\n",
      "[101, 889, 95579, 11208, 64162, 11549, 73649, 10914, 53596, 40153, 111193, 15801, 871, 89219, 11208, 51348, 93801, 865, 17279, 855, 45319, 43733, 57865, 31222, 11554, 898, 66921, 11554, 18351, 882, 50419, 74610, 11267, 101841, 16380, 102]\n",
      "\n"
     ]
    }
   ],
   "source": [
    "printTxt(\"tokenized_text\")"
   ]
  },
  {
   "cell_type": "code",
   "execution_count": 22,
   "id": "24154942",
   "metadata": {
    "execution": {
     "iopub.execute_input": "2024-03-10T20:01:14.483429Z",
     "iopub.status.busy": "2024-03-10T20:01:14.482987Z",
     "iopub.status.idle": "2024-03-10T20:01:14.490193Z",
     "shell.execute_reply": "2024-03-10T20:01:14.489106Z"
    },
    "papermill": {
     "duration": 0.020637,
     "end_time": "2024-03-10T20:01:14.492793",
     "exception": false,
     "start_time": "2024-03-10T20:01:14.472156",
     "status": "completed"
    },
    "tags": []
   },
   "outputs": [
    {
     "name": "stdout",
     "output_type": "stream",
     "text": [
      "['[CLS]', ':', 'f', '##old', '##ed', '_', 'hands', ':', ':', 'f', '##old', '##ed', '_', 'hands', ':', ':', 'f', '##old', '##ed', '_', 'hands', ':', 'कुछ', 'कर', '##ि', '##ए', 'स', '##र', 'प', '##्ल', '##ी', '##ज', ':', 'c', '##ry', '##ing', '_', 'face', ':', ':', 'c', '##ry', '##ing', '_', 'face', ':', ':', 'c', '##ry', '##ing', '_', 'face', ':', '[SEP]']\n",
      "\n",
      "['[CLS]', 'देश', 'व', '##ैक', '##्स', '##ीन', 'पर', '##्या', '##प्त', 'मात्रा', 'उपलब्ध', 'देखि', '##ए', 'मई', 'देश', '##भ', '##र', 'उपलब्ध', '##ता', 'ख', '##प', '##त', 'आ', '##ंक', '##ड़े', '[SEP]']\n",
      "\n",
      "['[CLS]', 'व', '##फा', '##दार', '##ी', 'पद', 'च', '##िं', '##ता', 'पार्टी', 'च', '##िं', '##ता', 'ब', '##स', 'च', '##िं', '##ता', 'अ', '##पन', '##ों', 'श', '##ुक', '##्रिया', 'वि', '##धा', '##यक', 'जी', 'र', '##घ', '##ुना', '##थ', '##पुर', 'विधानसभा', ':', 'heart', '_', 'ex', '##clamation', ':', ':', 'heart', '_', 'ex', '##clamation', ':', ':', 'heart', '_', 'ex', '##clamation', ':', '[SEP]', '[CLS]', 'n', ':', ':', 'heart', '_', 'ex', '##clamation', ':', ':', 'heart', '_', 'ex', '##clamation', ':', '[SEP]']\n",
      "\n",
      "['[CLS]', 'म', '##िन', '##ट', 'म', '##ौ', '##न', 'ज', '##िन', '##को', 'ब', '##ंगा', '##ल', 'चुनाव', '##ी', 'र', '##ैली', 'द', '##ि', '##खी', 'को', '##रो', '##ना', 'द', '##िखा', 'कि', '##न्तु', 'अब', 'ह', '##िं', '##सा', 'ल', '##ूट', 'अ', '##ग', '##्न', '##िका', '##ंड', 'महिला', '##ओं', 'ल', '##ुट', '##ती', 'इ', '##ज़', '##्ज', '##़', '##त', 'द', '##ि', '##ख', 'रही', '##ं', ':', 'en', '##rage', '##d', '_', 'face', ':', ':', 'en', '##rage', '##d', '_', 'face', ':', '[SEP]', '[CLS]', 'त', 'द', '##ि', '##ख', 'रही', '##ं', ':', 'en', '##rage', '##d', '_', 'face', ':', ':', 'en', '##rage', '##d', '_', 'face', ':', '[SEP]']\n",
      "\n",
      "['[CLS]', 'पूर्व', 'स', '##ा', '##ंस', '##द', 'म', '##ो', '##ह', '##म्', '##मद', 'श', '##ाह', '##ब', '##ु', '##द', '##्दी', '##न', 'कर', '##ोन', '##ा', 'र', '##िप', '##ोर्ट', 'ने', '##गे', '##ट', '##िव', 'इ', '##ला', '##ज', 'इ', '##तन', '##ी', 'ला', '##पर', '##वा', '##ही', 'क', '##्यो', '##ं', '[SEP]']\n",
      "\n",
      "['[CLS]', 'हम', '##ने', 'त', '##ु', '##म', '##को', 'द', '##िल', 'दे', 'पू', '##छ', '##ा', 'त', '##ु', '##म', 'उ', '##पर', '##ोक', '##्त', 'प', '##ंक', '##्ति', 'क', '##वि', 'अ', '##ं', '##धे', '##रे', 'ती', '##र', 'मा', '##र', ':', 'speak', '-', 'no', '-', 'evil', '_', 'mon', '##key', ':', ':', 'win', '##king', '_', 'face', '_', 'with', '_', 'tongue', ':', ':', 'gr', '##inni', '##ng', '_', 'sq', '##uint', '##ing', '_', 'face', ':', ':', 'gr', '##inni', '##ng', '_', 'sq', '##uint', '##ing', '_', 'face', ':', '[SEP]', '[CLS]', 'h', '_', 'tongue', ':', ':', 'gr', '##inni', '##ng', '_', 'sq', '##uint', '##ing', '_', 'face', ':', ':', 'gr', '##inni', '##ng', '_', 'sq', '##uint', '##ing', '_', 'face', ':', '[SEP]']\n",
      "\n",
      "['[CLS]', 'अ', '##गर', 'श', '##हा', '##ब', '##ु', '##द', '##्दी', '##न', 'स', '##ाह', '##ब', 'इन', '##्स', '##ा', '##फ', 'म', '##िला', 'tej', '##ash', '##wi', 'ya', '##da', '##v', 'जी', 'मुख्य', '##मंत्री', 'स', '##पन', '##ा', 'दे', '##खन', '##ा', 'छ', '##ोड़', 'द', '##ि', '##ज', '##ि', '##ए', ':', 'thu', '##mb', '##s', '_', 'up', ':', '[SEP]']\n",
      "\n",
      "['[CLS]', 'जल', '##्द', 'स', '##ु', '##हा', '##गर', '##ात', 'च', '##ौर', '##ाह', '##े', 'म', '##ना', '##ना', 'आधुनिक', '##ता', 'क', '##ह', '##ला', '##ए', '##गा', 'सब', 'आधुनिक', '##ता', 'क', '##ुत', '##्त', '##ेक', '##ुत', '##िया', 'हम', '##से', 'अधिक', 'आधुनिक', 'समय', 'क', '##प', '##ड़े', 'उ', '##ता', '##र', '##ने', 'म', '##हा', '##भा', '##रत', 'आज', 'क', '##प', '##ड़े', 'प', '##हन', '##ने', 'ब', '##ोल', 'म', '##हा', '##भा', '##रत', 'रही', 'आ', '##ओ', 'ज', '##ड़', '##ो', 'ल', '##ौ', '##ट', 'च', '##ले', 'आधुनिक', '##ता', 'क', '##ही', '##ं', 'दूर', ':', 'red', '_', 'heart', ':', ':', 'red', '_', 'heart', ':', '[SEP]', '[CLS]', 'ने', 'म', '##हा', '##भा', '##रत', 'आज', 'क', '##प', '##ड़े', 'प', '##हन', '##ने', 'ब', '##ोल', 'म', '##हा', '##भा', '##रत', 'रही', 'आ', '##ओ', 'ज', '##ड़', '##ो', 'ल', '##ौ', '##ट', 'च', '##ले', 'आधुनिक', '##ता', 'क', '##ही', '##ं', 'दूर', ':', 'red', '_', 'heart', ':', ':', 'red', '_', 'heart', ':', '[SEP]']\n",
      "\n",
      "['[CLS]', 'कर', '##्न', '##ाटक', 'दूसरी', 'ल', '##हर', 'क', '##हर', 'घ', '##ंट', '##ों', 'को', '##रो', '##ना', 'ह', '##जार', 'ज', '##्यादा', 'मा', '##म', '##ले', '[SEP]']\n",
      "\n",
      "['[CLS]', 'he', 'was', 'my', 'real', 'hero', 'ब', '##ि', '##छ', '##ड़ा', 'अ', '##दा', 'र', '##ुत', 'ब', '##दल', 'गई', 'इ', '##क', 'श', '##ख', '##़', '##्स', 'स', '##ारे', 'शहर', 'व', '##ीर', '##ान', 'श', '##ाम', 'ढ', '##ले', 'हर', 'प', '##ं', '##छ', '##ी', 'जाना', 'प', '##ड़', '##ता', 'ख', '##़', '##ु', '##शी', 'se', 'म', '##रत', '##ा', 'म', '##र', 'जाना', 'प', '##ड़', '##ता', 'अ', '##ल्ला', '##ह', 'डॉ', 'म', '##ो', '##ह', '##म्', '##मद', 'श', '##हा', '##ब', '##ु', '##द', '##्दी', '##न', 'स', '##ाह', '##ब', 'ज', '##न्', '##न', '##त', 'अ', '##ता', '[SEP]', '[CLS]', 'e', 'म', '##रत', '##ा', 'म', '##र', 'जाना', 'प', '##ड़', '##ता', 'अ', '##ल्ला', '##ह', 'डॉ', 'म', '##ो', '##ह', '##म्', '##मद', 'श', '##हा', '##ब', '##ु', '##द', '##्दी', '##न', 'स', '##ाह', '##ब', 'ज', '##न्', '##न', '##त', 'अ', '##ता', '[SEP]']\n",
      "\n",
      "['[CLS]', 'म', '##ो', '##दी', '##जी', 'आ', '##प', '##के', 'ब', '##ाप', 'हो', '##ंग', '##े', 'देश', 'ब', '##ाप', 'न', '##ही', '[SEP]']\n",
      "\n",
      "['[CLS]', 'ए', 'ल', '##ड़', '##की', 'त', '##ु', '##झ', '##े', 'दिन', '##भ', '##र', 'काम', 'रहता', 'क', '##्या', 'क', '##्या', 'ब', '##क', '##च', '##ो', '##दी', 'करती', 'र', '##हती', '##ं', 'दिन', '##भ', '##र', 'थ', '##ोड़', '##ा', 'ट', '##्व', '##िट', 'करती', '[SEP]']\n",
      "\n",
      "['[CLS]', 'बात', 'प', '##्रधान', '##मंत्री', 'जी', 'ब', '##ता', '##ना', 'चाहिए', 'ट', '##्व', '##िट', '##र', 'जनता', 'जनता', 'क', '##्या', 'कर', '##े', '##गी', '[SEP]']\n",
      "\n",
      "['[CLS]', 'म', '##क', '##़', '##त', '##ल', 'आ', 'ह', '##ू', '##ं', 'ते', '##रा', 'च', '##ाह', '##ता', 'ह', '##ू', '##ं', 'त', '##द', '##फ', '##ी', '##़', '##न', 'ह', '##ू', 'ते', '##रा', 'च', '##ाह', '##ता', 'ह', '##ू', '##ं', 'अ', '##ल्ला', '##ह', 'वा', '##लों', 'सब', '##्र', 'दे', '##ं', '[SEP]']\n",
      "\n",
      "['[CLS]', 'श', '##ेर', '##ए', '##ब', '##ि', '##हार', 'म', '##ो', '##ह', '##म्', '##मद', 'श', '##हा', '##ब', '##ु', '##द', '##्दी', '##न', '[SEP]']\n",
      "\n",
      "['[CLS]', 'म', '##ै', 'क', '##ह', '##कर', 'जा', '##ऊ', '##ंगा', 'ा', '##ंस', '##ों', 'म', '##ु', '##झ', '##े', 'हर', '##ा', '्', '##ह', '##ूर', '##िय', '##त', 'म', '##ु', '##झ', '##े', 'न', '##ही', 'ा', '##या', 'म', '##ो', '##ह', '##म्', '##मद', 'ा', '##ब', '##ु', '##द', '##्दी', '##न', 'स', '##ाह', '##े', '##ब', '[SEP]']\n",
      "\n",
      "['[CLS]', 'र', '##ाज', '##द', 'ने', '##ता', 'खा', '##स', '##कर', 'ते', '##ज', '##स', '##्वी', 'या', '##द', '##व', 'दे', '##ख', '##कर', 'श', '##र', '##्म', 'आ', '##नी', 'चाहिए', 'जी', '##तन', 'राम', 'आ', '##वा', '##ज', 'उ', '##ठा', '##ने', 'काम', 'प', '##ार', '##्ट', '##ि', 'स', '##ाह', '##े', '##ब', 'ज', '##ि', '##द', '##गी', 'ख', '##त', '##्म', 'द', '##िये', 'आज', 'व', '##ो', 'आ', '##वा', '##ज', 'न', '##ही', 'उ', '##ठा', 'ख', '##म', '##िया', '##जा', 'भ', '##ुग', '##तन', '##ा', 'प', '##डे', '##गा', '[SEP]', '[CLS]', 'ये', 'आज', 'व', '##ो', 'आ', '##वा', '##ज', 'न', '##ही', 'उ', '##ठा', 'ख', '##म', '##िया', '##जा', 'भ', '##ुग', '##तन', '##ा', 'प', '##डे', '##गा', '[SEP]']\n",
      "\n",
      "['[CLS]', 'क', '##व', '##्वे', 'देश', 'म', '##ैं', 'म', '##ौ', '##त', 'ज', '##िम', '##म', '##ेद', '##ार', 'म', '##ो', '##दी', 'सरकार', '[SEP]']\n",
      "\n",
      "['[CLS]', 'once', 'in', 'a', 'century', 'ु', '##सम', '##ो', '##दी', 'स', '##ाया', 'मे', '##रे', 'देश', 'ऊपर', 'ह', '##ट', 'जा', '##ए', '##गा', 'आर', '##्मी', 'काम', 'सं', '##भा', '##ल', 'रही', 'द', '##वाई', 'ऑ', '##क्स', '##ी', '##जन', 'ते', '##रे', 'र', '##ाज', '##नी', '##ति', 'म', '##ुक्त', 'जा', '##ये', '##गी', 'अ', '##काल', '##म', '##ृत', '##्य', '##ु', 'म', '##र', 'मानव', '##ता', 'के', '##ल', '##ि', '##ऐ', 'देश', '##भ', '##क्त', '[SEP]', '[CLS]', 'क', '##्त', 'जा', '##ये', '##गी', 'अ', '##काल', '##म', '##ृत', '##्य', '##ु', 'म', '##र', 'मानव', '##ता', 'के', '##ल', '##ि', '##ऐ', 'देश', '##भ', '##क्त', '[SEP]']\n",
      "\n",
      "['[CLS]', 'ज', '##़', '##िं', '##द', '##गी', 'म', '##ौ', '##त', 'दोनों', 'ड', '##र', 'ब', '##ंद', '##े', 'ख', '##़', '##ास', 'बात', 'इसलिए', 'ला', '##श', 'देने', 'ड', '##र', '[SEP]']\n",
      "\n",
      "['[CLS]', 'त', '##ि', '##हा', '##ड़', 'जे', '##ल', 'स', '##्', '##प', '##ेश', '##ल', 'से', '##ल', 'को', '##रो', '##ना', 'प', '##ह', '##ु', '##ंचा', 'क', '##ै', '##से', 'म', '##ु', '##झ', '##े', 'ल', '##गत', '##ा', 'स', '##िस', '##्ट', '##म', 'को', '##रो', '##ना', '[SEP]']\n",
      "\n",
      "['[CLS]', 'ब', '##ाल', '##्टी', 'द', '##ू', '##ध', 'ब', '##े', '##चन', '##े', 'ने', '##ता', 'बन', '##ते', 'पी', '##छ', '##े', 'ा', '##ब', '##ु', '##द', '##्दी', '##न', 'श', '##ेर', 'है', ':', 'fire', ':', '[SEP]']\n",
      "\n",
      "['[CLS]', 'अब', 'क', '##ुत', '##्ता', 'ब', '##ोल', 'व', '##क्त', 'पार्टी', 'ब', '##ोलन', '##ा', 'अ', '##गर', 'पार्टी', 'होकर', 'b', '##j', '##p', 'ब', '##े', '##इ', '##ज', '##्ज', '##ती', 'ब', '##ोल', '##ते', 'जी', 'व', '##ो', 'स', '##ही', 'पार्टी', 'छ', '##ोड़', '##ी', 'क', '##ुत', '##्ता', 'ब', '##ोल', '##ते', 'थ', '##ोड़', '##ी', 'श', '##र', '##्म', 'कर', '##ो', 'च', '##म', '##च', '##ो', '[SEP]', '[CLS]', 'ते', 'थ', '##ोड़', '##ी', 'श', '##र', '##्म', 'कर', '##ो', 'च', '##म', '##च', '##ो', '[SEP]']\n",
      "\n",
      "['[CLS]', 'ह', '##त्या', '##रा', 'why', 'this', 'trend', '[SEP]']\n",
      "\n",
      "['[CLS]', 'द', '##ही', 'त', '##ु', '##म्', '##हार', '##े', 'म', '##ु', '##ं', '##ह', 'ज', '##मी', ':', 'ang', '##ry', '_', 'face', ':', ':', 'ang', '##ry', '_', 'face', ':', '[SEP]']\n",
      "\n",
      "['[CLS]', 'ा', '##द', '##शा', '##ह', '##ों', 'छ', '##ोड़', 'दी', 'त', '##ख', '##्त', 'इ', '##तन', '##ी', 'ला', '##श', '##ें', 'दे', '##ख', 'ै', '##वा', '##न', 'का', '##ति', '##ल', 'खा', 'अब', 'र', '##ोट', '##िया', '##ं', 'च', '##िता', '##ओं', 'से', '##क', 'कर', ':', 'c', '##ry', '##ing', '_', 'face', ':', ':', 'c', '##ry', '##ing', '_', 'face', ':', '[SEP]']\n",
      "\n",
      "['[CLS]', 'क', '##ब', 'ख', '##ून', 'ख', '##ौ', '##ले', '##गा', 'आ', '##प', '##का', 'न', '##ो', '##बे', '##ल', 'द', '##िला', 'मा', '##ने', '##ंग', '##े', '[SEP]']\n",
      "\n",
      "['[CLS]', 'ब', '##च', '##पन', 'दे', '##खते', 'आय', '##ा', 'ह', '##ू', 'च', '##ाय', 'ब', '##िस', '##्क', '##िट', 'ड', '##ू', '##ब', 'जाता', 'आज', 'च', '##ाय', 'देश', 'ड', '##ू', '##ब', '##ो', 'दिया', ':', 'hot', '_', 'be', '##vera', '##ge', ':', '[SEP]']\n",
      "\n",
      "['[CLS]', 'इनके', 'काम', 'com', '##puls', '##ory', 'पहला', 'म', '##दर', '##से', 'प', '##ढ़', '##ना', 'द', '##ूस', '##रा', 'म', '##स', '##्ज', '##ि', '##द', 'म', '##दर', '##सा', 'ब', '##म', 'बना', '##ना', 'वा', 'ह', '##थ', '##िया', '##र', 'छ', '##ु', '##पा', '##ना', 'concept', 'अलग', '##अ', '##ल', '##ग', 'फ', '##ील', '##्ड', 'applied', 'क', '##्या', 'च', '##ुरा', '##या', 'पता', 'स', '##िर', '##्फ', 'च', '##िल', '##्ल', '##ात', '##े', 'र', '##ंड', '##ी', 'टी', '##वी', 'र', '##वी', '##श', 'कुमार', 'ने', '##त', '##ृत', '##्व', ':', 'thinking', '_', 'face', ':', '[SEP]', '[CLS]', '्', '##ड', 'applied', 'क', '##्या', 'च', '##ुरा', '##या', 'पता', 'स', '##िर', '##्फ', 'च', '##िल', '##्ल', '##ात', '##े', 'र', '##ंड', '##ी', 'टी', '##वी', 'र', '##वी', '##श', 'कुमार', 'ने', '##त', '##ृत', '##्व', ':', 'thinking', '_', 'face', ':', '[SEP]']\n",
      "\n",
      "['[CLS]', 'म', '##मत', '##ा', 'बन', '##र', '##्ज', '##ी', 'सी', '##बी', '##आ', '##ई', 'छ', '##ोड़', '##ा', 'लोग', 'पता', 'क', '##्या', 'उ', '##खा', '##ड़', 'ले', '##ंग', '##े', 'स', '##ाह', '##े', '##ब', 'द', '##िम', '##ाग', 'को', '##रो', '##ना', '[SEP]']\n",
      "\n"
     ]
    }
   ],
   "source": [
    "printTxt(\"tokenized_text_tokens\")"
   ]
  },
  {
   "cell_type": "code",
   "execution_count": 23,
   "id": "c3f5fe6c",
   "metadata": {
    "execution": {
     "iopub.execute_input": "2024-03-10T20:01:14.513656Z",
     "iopub.status.busy": "2024-03-10T20:01:14.513231Z",
     "iopub.status.idle": "2024-03-10T20:01:14.706745Z",
     "shell.execute_reply": "2024-03-10T20:01:14.705236Z"
    },
    "papermill": {
     "duration": 0.206875,
     "end_time": "2024-03-10T20:01:14.709294",
     "exception": false,
     "start_time": "2024-03-10T20:01:14.502419",
     "status": "completed"
    },
    "tags": []
   },
   "outputs": [],
   "source": [
    "df.to_csv('hindi_preprocessed.csv', index=False)"
   ]
  },
  {
   "cell_type": "code",
   "execution_count": null,
   "id": "d8f7cdee",
   "metadata": {
    "papermill": {
     "duration": 0.009432,
     "end_time": "2024-03-10T20:01:14.729409",
     "exception": false,
     "start_time": "2024-03-10T20:01:14.719977",
     "status": "completed"
    },
    "tags": []
   },
   "outputs": [],
   "source": []
  }
 ],
 "metadata": {
  "kaggle": {
   "accelerator": "none",
   "dataSources": [
    {
     "datasetId": 4550325,
     "sourceId": 7776641,
     "sourceType": "datasetVersion"
    }
   ],
   "dockerImageVersionId": 30664,
   "isGpuEnabled": false,
   "isInternetEnabled": true,
   "language": "python",
   "sourceType": "notebook"
  },
  "kernelspec": {
   "display_name": "Python 3",
   "language": "python",
   "name": "python3"
  },
  "language_info": {
   "codemirror_mode": {
    "name": "ipython",
    "version": 3
   },
   "file_extension": ".py",
   "mimetype": "text/x-python",
   "name": "python",
   "nbconvert_exporter": "python",
   "pygments_lexer": "ipython3",
   "version": "3.10.13"
  },
  "papermill": {
   "default_parameters": {},
   "duration": 47.092538,
   "end_time": "2024-03-10T20:01:17.013904",
   "environment_variables": {},
   "exception": null,
   "input_path": "__notebook__.ipynb",
   "output_path": "__notebook__.ipynb",
   "parameters": {},
   "start_time": "2024-03-10T20:00:29.921366",
   "version": "2.5.0"
  },
  "widgets": {
   "application/vnd.jupyter.widget-state+json": {
    "state": {
     "000556ef81544688b57672fa6cde4954": {
      "model_module": "@jupyter-widgets/controls",
      "model_module_version": "1.5.0",
      "model_name": "HBoxModel",
      "state": {
       "_dom_classes": [],
       "_model_module": "@jupyter-widgets/controls",
       "_model_module_version": "1.5.0",
       "_model_name": "HBoxModel",
       "_view_count": null,
       "_view_module": "@jupyter-widgets/controls",
       "_view_module_version": "1.5.0",
       "_view_name": "HBoxView",
       "box_style": "",
       "children": [
        "IPY_MODEL_c47ec000ade6485cb2bfabe95d6ef53a",
        "IPY_MODEL_cbe51b62ac8e4c80b612f6e85b26b0d8",
        "IPY_MODEL_b45e95385756440eab8672f54a842ef3"
       ],
       "layout": "IPY_MODEL_441d4e57f1fb4a82acdcc8257b1983ee"
      }
     },
     "0c870f6cd6664d2e8fc6887802db31dd": {
      "model_module": "@jupyter-widgets/base",
      "model_module_version": "1.2.0",
      "model_name": "LayoutModel",
      "state": {
       "_model_module": "@jupyter-widgets/base",
       "_model_module_version": "1.2.0",
       "_model_name": "LayoutModel",
       "_view_count": null,
       "_view_module": "@jupyter-widgets/base",
       "_view_module_version": "1.2.0",
       "_view_name": "LayoutView",
       "align_content": null,
       "align_items": null,
       "align_self": null,
       "border": null,
       "bottom": null,
       "display": null,
       "flex": null,
       "flex_flow": null,
       "grid_area": null,
       "grid_auto_columns": null,
       "grid_auto_flow": null,
       "grid_auto_rows": null,
       "grid_column": null,
       "grid_gap": null,
       "grid_row": null,
       "grid_template_areas": null,
       "grid_template_columns": null,
       "grid_template_rows": null,
       "height": null,
       "justify_content": null,
       "justify_items": null,
       "left": null,
       "margin": null,
       "max_height": null,
       "max_width": null,
       "min_height": null,
       "min_width": null,
       "object_fit": null,
       "object_position": null,
       "order": null,
       "overflow": null,
       "overflow_x": null,
       "overflow_y": null,
       "padding": null,
       "right": null,
       "top": null,
       "visibility": null,
       "width": null
      }
     },
     "147ff8faa86b41249cc14303437dfb5d": {
      "model_module": "@jupyter-widgets/controls",
      "model_module_version": "1.5.0",
      "model_name": "DescriptionStyleModel",
      "state": {
       "_model_module": "@jupyter-widgets/controls",
       "_model_module_version": "1.5.0",
       "_model_name": "DescriptionStyleModel",
       "_view_count": null,
       "_view_module": "@jupyter-widgets/base",
       "_view_module_version": "1.2.0",
       "_view_name": "StyleView",
       "description_width": ""
      }
     },
     "176effa350f4479dbda38c949d1331f1": {
      "model_module": "@jupyter-widgets/base",
      "model_module_version": "1.2.0",
      "model_name": "LayoutModel",
      "state": {
       "_model_module": "@jupyter-widgets/base",
       "_model_module_version": "1.2.0",
       "_model_name": "LayoutModel",
       "_view_count": null,
       "_view_module": "@jupyter-widgets/base",
       "_view_module_version": "1.2.0",
       "_view_name": "LayoutView",
       "align_content": null,
       "align_items": null,
       "align_self": null,
       "border": null,
       "bottom": null,
       "display": null,
       "flex": null,
       "flex_flow": null,
       "grid_area": null,
       "grid_auto_columns": null,
       "grid_auto_flow": null,
       "grid_auto_rows": null,
       "grid_column": null,
       "grid_gap": null,
       "grid_row": null,
       "grid_template_areas": null,
       "grid_template_columns": null,
       "grid_template_rows": null,
       "height": null,
       "justify_content": null,
       "justify_items": null,
       "left": null,
       "margin": null,
       "max_height": null,
       "max_width": null,
       "min_height": null,
       "min_width": null,
       "object_fit": null,
       "object_position": null,
       "order": null,
       "overflow": null,
       "overflow_x": null,
       "overflow_y": null,
       "padding": null,
       "right": null,
       "top": null,
       "visibility": null,
       "width": null
      }
     },
     "28bdb98004414a56b0cc4238ea7c30c2": {
      "model_module": "@jupyter-widgets/controls",
      "model_module_version": "1.5.0",
      "model_name": "HBoxModel",
      "state": {
       "_dom_classes": [],
       "_model_module": "@jupyter-widgets/controls",
       "_model_module_version": "1.5.0",
       "_model_name": "HBoxModel",
       "_view_count": null,
       "_view_module": "@jupyter-widgets/controls",
       "_view_module_version": "1.5.0",
       "_view_name": "HBoxView",
       "box_style": "",
       "children": [
        "IPY_MODEL_b4f5f53e8694467f995dc76112679086",
        "IPY_MODEL_c2e44817c62547f1a19ec1ed1b415a8a",
        "IPY_MODEL_68568ebba60d4ed7a7beaab107e89119"
       ],
       "layout": "IPY_MODEL_a07c444aaefe48ff9d82ebf4e1ad85fb"
      }
     },
     "3d1edd8079f644909e96443673cb5b2a": {
      "model_module": "@jupyter-widgets/controls",
      "model_module_version": "1.5.0",
      "model_name": "FloatProgressModel",
      "state": {
       "_dom_classes": [],
       "_model_module": "@jupyter-widgets/controls",
       "_model_module_version": "1.5.0",
       "_model_name": "FloatProgressModel",
       "_view_count": null,
       "_view_module": "@jupyter-widgets/controls",
       "_view_module_version": "1.5.0",
       "_view_name": "ProgressView",
       "bar_style": "success",
       "description": "",
       "description_tooltip": null,
       "layout": "IPY_MODEL_e9212f4a1a3949b0a837a723221b5c8b",
       "max": 49.0,
       "min": 0.0,
       "orientation": "horizontal",
       "style": "IPY_MODEL_e25f0db9f2fe42fda5f0f2d347f0e8b6",
       "value": 49.0
      }
     },
     "3fc439314f22471188ca9ec6fee0a66f": {
      "model_module": "@jupyter-widgets/controls",
      "model_module_version": "1.5.0",
      "model_name": "DescriptionStyleModel",
      "state": {
       "_model_module": "@jupyter-widgets/controls",
       "_model_module_version": "1.5.0",
       "_model_name": "DescriptionStyleModel",
       "_view_count": null,
       "_view_module": "@jupyter-widgets/base",
       "_view_module_version": "1.2.0",
       "_view_name": "StyleView",
       "description_width": ""
      }
     },
     "428d871a371a41a4a83e1b6f6fdeb141": {
      "model_module": "@jupyter-widgets/controls",
      "model_module_version": "1.5.0",
      "model_name": "HBoxModel",
      "state": {
       "_dom_classes": [],
       "_model_module": "@jupyter-widgets/controls",
       "_model_module_version": "1.5.0",
       "_model_name": "HBoxModel",
       "_view_count": null,
       "_view_module": "@jupyter-widgets/controls",
       "_view_module_version": "1.5.0",
       "_view_name": "HBoxView",
       "box_style": "",
       "children": [
        "IPY_MODEL_f02df3832d574c0f926479ecfa324659",
        "IPY_MODEL_3d1edd8079f644909e96443673cb5b2a",
        "IPY_MODEL_51f5c3816ca04df987228282eb6d8b1f"
       ],
       "layout": "IPY_MODEL_0c870f6cd6664d2e8fc6887802db31dd"
      }
     },
     "441d4e57f1fb4a82acdcc8257b1983ee": {
      "model_module": "@jupyter-widgets/base",
      "model_module_version": "1.2.0",
      "model_name": "LayoutModel",
      "state": {
       "_model_module": "@jupyter-widgets/base",
       "_model_module_version": "1.2.0",
       "_model_name": "LayoutModel",
       "_view_count": null,
       "_view_module": "@jupyter-widgets/base",
       "_view_module_version": "1.2.0",
       "_view_name": "LayoutView",
       "align_content": null,
       "align_items": null,
       "align_self": null,
       "border": null,
       "bottom": null,
       "display": null,
       "flex": null,
       "flex_flow": null,
       "grid_area": null,
       "grid_auto_columns": null,
       "grid_auto_flow": null,
       "grid_auto_rows": null,
       "grid_column": null,
       "grid_gap": null,
       "grid_row": null,
       "grid_template_areas": null,
       "grid_template_columns": null,
       "grid_template_rows": null,
       "height": null,
       "justify_content": null,
       "justify_items": null,
       "left": null,
       "margin": null,
       "max_height": null,
       "max_width": null,
       "min_height": null,
       "min_width": null,
       "object_fit": null,
       "object_position": null,
       "order": null,
       "overflow": null,
       "overflow_x": null,
       "overflow_y": null,
       "padding": null,
       "right": null,
       "top": null,
       "visibility": null,
       "width": null
      }
     },
     "51f5c3816ca04df987228282eb6d8b1f": {
      "model_module": "@jupyter-widgets/controls",
      "model_module_version": "1.5.0",
      "model_name": "HTMLModel",
      "state": {
       "_dom_classes": [],
       "_model_module": "@jupyter-widgets/controls",
       "_model_module_version": "1.5.0",
       "_model_name": "HTMLModel",
       "_view_count": null,
       "_view_module": "@jupyter-widgets/controls",
       "_view_module_version": "1.5.0",
       "_view_name": "HTMLView",
       "description": "",
       "description_tooltip": null,
       "layout": "IPY_MODEL_a687c6618b9149ce9eef2eebd6c119f3",
       "placeholder": "​",
       "style": "IPY_MODEL_ba7901c0f2804954b6280982e941d8ad",
       "value": " 49.0/49.0 [00:00&lt;00:00, 3.81kB/s]"
      }
     },
     "5e22663cec144d6a98de4897d2f05410": {
      "model_module": "@jupyter-widgets/base",
      "model_module_version": "1.2.0",
      "model_name": "LayoutModel",
      "state": {
       "_model_module": "@jupyter-widgets/base",
       "_model_module_version": "1.2.0",
       "_model_name": "LayoutModel",
       "_view_count": null,
       "_view_module": "@jupyter-widgets/base",
       "_view_module_version": "1.2.0",
       "_view_name": "LayoutView",
       "align_content": null,
       "align_items": null,
       "align_self": null,
       "border": null,
       "bottom": null,
       "display": null,
       "flex": null,
       "flex_flow": null,
       "grid_area": null,
       "grid_auto_columns": null,
       "grid_auto_flow": null,
       "grid_auto_rows": null,
       "grid_column": null,
       "grid_gap": null,
       "grid_row": null,
       "grid_template_areas": null,
       "grid_template_columns": null,
       "grid_template_rows": null,
       "height": null,
       "justify_content": null,
       "justify_items": null,
       "left": null,
       "margin": null,
       "max_height": null,
       "max_width": null,
       "min_height": null,
       "min_width": null,
       "object_fit": null,
       "object_position": null,
       "order": null,
       "overflow": null,
       "overflow_x": null,
       "overflow_y": null,
       "padding": null,
       "right": null,
       "top": null,
       "visibility": null,
       "width": null
      }
     },
     "5ea274987a91448da2714f26518debc0": {
      "model_module": "@jupyter-widgets/base",
      "model_module_version": "1.2.0",
      "model_name": "LayoutModel",
      "state": {
       "_model_module": "@jupyter-widgets/base",
       "_model_module_version": "1.2.0",
       "_model_name": "LayoutModel",
       "_view_count": null,
       "_view_module": "@jupyter-widgets/base",
       "_view_module_version": "1.2.0",
       "_view_name": "LayoutView",
       "align_content": null,
       "align_items": null,
       "align_self": null,
       "border": null,
       "bottom": null,
       "display": null,
       "flex": null,
       "flex_flow": null,
       "grid_area": null,
       "grid_auto_columns": null,
       "grid_auto_flow": null,
       "grid_auto_rows": null,
       "grid_column": null,
       "grid_gap": null,
       "grid_row": null,
       "grid_template_areas": null,
       "grid_template_columns": null,
       "grid_template_rows": null,
       "height": null,
       "justify_content": null,
       "justify_items": null,
       "left": null,
       "margin": null,
       "max_height": null,
       "max_width": null,
       "min_height": null,
       "min_width": null,
       "object_fit": null,
       "object_position": null,
       "order": null,
       "overflow": null,
       "overflow_x": null,
       "overflow_y": null,
       "padding": null,
       "right": null,
       "top": null,
       "visibility": null,
       "width": null
      }
     },
     "68568ebba60d4ed7a7beaab107e89119": {
      "model_module": "@jupyter-widgets/controls",
      "model_module_version": "1.5.0",
      "model_name": "HTMLModel",
      "state": {
       "_dom_classes": [],
       "_model_module": "@jupyter-widgets/controls",
       "_model_module_version": "1.5.0",
       "_model_name": "HTMLModel",
       "_view_count": null,
       "_view_module": "@jupyter-widgets/controls",
       "_view_module_version": "1.5.0",
       "_view_name": "HTMLView",
       "description": "",
       "description_tooltip": null,
       "layout": "IPY_MODEL_5e22663cec144d6a98de4897d2f05410",
       "placeholder": "​",
       "style": "IPY_MODEL_147ff8faa86b41249cc14303437dfb5d",
       "value": " 996k/996k [00:00&lt;00:00, 2.99MB/s]"
      }
     },
     "699e9c38c8654574a25a41313d0d92e2": {
      "model_module": "@jupyter-widgets/base",
      "model_module_version": "1.2.0",
      "model_name": "LayoutModel",
      "state": {
       "_model_module": "@jupyter-widgets/base",
       "_model_module_version": "1.2.0",
       "_model_name": "LayoutModel",
       "_view_count": null,
       "_view_module": "@jupyter-widgets/base",
       "_view_module_version": "1.2.0",
       "_view_name": "LayoutView",
       "align_content": null,
       "align_items": null,
       "align_self": null,
       "border": null,
       "bottom": null,
       "display": null,
       "flex": null,
       "flex_flow": null,
       "grid_area": null,
       "grid_auto_columns": null,
       "grid_auto_flow": null,
       "grid_auto_rows": null,
       "grid_column": null,
       "grid_gap": null,
       "grid_row": null,
       "grid_template_areas": null,
       "grid_template_columns": null,
       "grid_template_rows": null,
       "height": null,
       "justify_content": null,
       "justify_items": null,
       "left": null,
       "margin": null,
       "max_height": null,
       "max_width": null,
       "min_height": null,
       "min_width": null,
       "object_fit": null,
       "object_position": null,
       "order": null,
       "overflow": null,
       "overflow_x": null,
       "overflow_y": null,
       "padding": null,
       "right": null,
       "top": null,
       "visibility": null,
       "width": null
      }
     },
     "6a9e5434c6214395a749a9c3693074a0": {
      "model_module": "@jupyter-widgets/base",
      "model_module_version": "1.2.0",
      "model_name": "LayoutModel",
      "state": {
       "_model_module": "@jupyter-widgets/base",
       "_model_module_version": "1.2.0",
       "_model_name": "LayoutModel",
       "_view_count": null,
       "_view_module": "@jupyter-widgets/base",
       "_view_module_version": "1.2.0",
       "_view_name": "LayoutView",
       "align_content": null,
       "align_items": null,
       "align_self": null,
       "border": null,
       "bottom": null,
       "display": null,
       "flex": null,
       "flex_flow": null,
       "grid_area": null,
       "grid_auto_columns": null,
       "grid_auto_flow": null,
       "grid_auto_rows": null,
       "grid_column": null,
       "grid_gap": null,
       "grid_row": null,
       "grid_template_areas": null,
       "grid_template_columns": null,
       "grid_template_rows": null,
       "height": null,
       "justify_content": null,
       "justify_items": null,
       "left": null,
       "margin": null,
       "max_height": null,
       "max_width": null,
       "min_height": null,
       "min_width": null,
       "object_fit": null,
       "object_position": null,
       "order": null,
       "overflow": null,
       "overflow_x": null,
       "overflow_y": null,
       "padding": null,
       "right": null,
       "top": null,
       "visibility": null,
       "width": null
      }
     },
     "77715ab51e6943348bc5e76f3c1f5ca2": {
      "model_module": "@jupyter-widgets/controls",
      "model_module_version": "1.5.0",
      "model_name": "HTMLModel",
      "state": {
       "_dom_classes": [],
       "_model_module": "@jupyter-widgets/controls",
       "_model_module_version": "1.5.0",
       "_model_name": "HTMLModel",
       "_view_count": null,
       "_view_module": "@jupyter-widgets/controls",
       "_view_module_version": "1.5.0",
       "_view_name": "HTMLView",
       "description": "",
       "description_tooltip": null,
       "layout": "IPY_MODEL_ec6de755f5a045ce9e588d4b3012bc87",
       "placeholder": "​",
       "style": "IPY_MODEL_f988e986fc4b46eca82b1a6c71d4ec70",
       "value": "tokenizer.json: 100%"
      }
     },
     "7b01ec9feadb4c9fbc78245b083db170": {
      "model_module": "@jupyter-widgets/base",
      "model_module_version": "1.2.0",
      "model_name": "LayoutModel",
      "state": {
       "_model_module": "@jupyter-widgets/base",
       "_model_module_version": "1.2.0",
       "_model_name": "LayoutModel",
       "_view_count": null,
       "_view_module": "@jupyter-widgets/base",
       "_view_module_version": "1.2.0",
       "_view_name": "LayoutView",
       "align_content": null,
       "align_items": null,
       "align_self": null,
       "border": null,
       "bottom": null,
       "display": null,
       "flex": null,
       "flex_flow": null,
       "grid_area": null,
       "grid_auto_columns": null,
       "grid_auto_flow": null,
       "grid_auto_rows": null,
       "grid_column": null,
       "grid_gap": null,
       "grid_row": null,
       "grid_template_areas": null,
       "grid_template_columns": null,
       "grid_template_rows": null,
       "height": null,
       "justify_content": null,
       "justify_items": null,
       "left": null,
       "margin": null,
       "max_height": null,
       "max_width": null,
       "min_height": null,
       "min_width": null,
       "object_fit": null,
       "object_position": null,
       "order": null,
       "overflow": null,
       "overflow_x": null,
       "overflow_y": null,
       "padding": null,
       "right": null,
       "top": null,
       "visibility": null,
       "width": null
      }
     },
     "8aa5c981daf348da9a78282bd2d3a6c3": {
      "model_module": "@jupyter-widgets/controls",
      "model_module_version": "1.5.0",
      "model_name": "DescriptionStyleModel",
      "state": {
       "_model_module": "@jupyter-widgets/controls",
       "_model_module_version": "1.5.0",
       "_model_name": "DescriptionStyleModel",
       "_view_count": null,
       "_view_module": "@jupyter-widgets/base",
       "_view_module_version": "1.2.0",
       "_view_name": "StyleView",
       "description_width": ""
      }
     },
     "9f54cb4d569a4c6c843dd101bcc6ecaf": {
      "model_module": "@jupyter-widgets/controls",
      "model_module_version": "1.5.0",
      "model_name": "HTMLModel",
      "state": {
       "_dom_classes": [],
       "_model_module": "@jupyter-widgets/controls",
       "_model_module_version": "1.5.0",
       "_model_name": "HTMLModel",
       "_view_count": null,
       "_view_module": "@jupyter-widgets/controls",
       "_view_module_version": "1.5.0",
       "_view_name": "HTMLView",
       "description": "",
       "description_tooltip": null,
       "layout": "IPY_MODEL_e8ff6bec63af47b0acb3d1ed2b7fc6da",
       "placeholder": "​",
       "style": "IPY_MODEL_3fc439314f22471188ca9ec6fee0a66f",
       "value": " 1.96M/1.96M [00:00&lt;00:00, 4.72MB/s]"
      }
     },
     "a07c444aaefe48ff9d82ebf4e1ad85fb": {
      "model_module": "@jupyter-widgets/base",
      "model_module_version": "1.2.0",
      "model_name": "LayoutModel",
      "state": {
       "_model_module": "@jupyter-widgets/base",
       "_model_module_version": "1.2.0",
       "_model_name": "LayoutModel",
       "_view_count": null,
       "_view_module": "@jupyter-widgets/base",
       "_view_module_version": "1.2.0",
       "_view_name": "LayoutView",
       "align_content": null,
       "align_items": null,
       "align_self": null,
       "border": null,
       "bottom": null,
       "display": null,
       "flex": null,
       "flex_flow": null,
       "grid_area": null,
       "grid_auto_columns": null,
       "grid_auto_flow": null,
       "grid_auto_rows": null,
       "grid_column": null,
       "grid_gap": null,
       "grid_row": null,
       "grid_template_areas": null,
       "grid_template_columns": null,
       "grid_template_rows": null,
       "height": null,
       "justify_content": null,
       "justify_items": null,
       "left": null,
       "margin": null,
       "max_height": null,
       "max_width": null,
       "min_height": null,
       "min_width": null,
       "object_fit": null,
       "object_position": null,
       "order": null,
       "overflow": null,
       "overflow_x": null,
       "overflow_y": null,
       "padding": null,
       "right": null,
       "top": null,
       "visibility": null,
       "width": null
      }
     },
     "a687c6618b9149ce9eef2eebd6c119f3": {
      "model_module": "@jupyter-widgets/base",
      "model_module_version": "1.2.0",
      "model_name": "LayoutModel",
      "state": {
       "_model_module": "@jupyter-widgets/base",
       "_model_module_version": "1.2.0",
       "_model_name": "LayoutModel",
       "_view_count": null,
       "_view_module": "@jupyter-widgets/base",
       "_view_module_version": "1.2.0",
       "_view_name": "LayoutView",
       "align_content": null,
       "align_items": null,
       "align_self": null,
       "border": null,
       "bottom": null,
       "display": null,
       "flex": null,
       "flex_flow": null,
       "grid_area": null,
       "grid_auto_columns": null,
       "grid_auto_flow": null,
       "grid_auto_rows": null,
       "grid_column": null,
       "grid_gap": null,
       "grid_row": null,
       "grid_template_areas": null,
       "grid_template_columns": null,
       "grid_template_rows": null,
       "height": null,
       "justify_content": null,
       "justify_items": null,
       "left": null,
       "margin": null,
       "max_height": null,
       "max_width": null,
       "min_height": null,
       "min_width": null,
       "object_fit": null,
       "object_position": null,
       "order": null,
       "overflow": null,
       "overflow_x": null,
       "overflow_y": null,
       "padding": null,
       "right": null,
       "top": null,
       "visibility": null,
       "width": null
      }
     },
     "a83b0e1282ac46da9e56fc7b6f039e19": {
      "model_module": "@jupyter-widgets/base",
      "model_module_version": "1.2.0",
      "model_name": "LayoutModel",
      "state": {
       "_model_module": "@jupyter-widgets/base",
       "_model_module_version": "1.2.0",
       "_model_name": "LayoutModel",
       "_view_count": null,
       "_view_module": "@jupyter-widgets/base",
       "_view_module_version": "1.2.0",
       "_view_name": "LayoutView",
       "align_content": null,
       "align_items": null,
       "align_self": null,
       "border": null,
       "bottom": null,
       "display": null,
       "flex": null,
       "flex_flow": null,
       "grid_area": null,
       "grid_auto_columns": null,
       "grid_auto_flow": null,
       "grid_auto_rows": null,
       "grid_column": null,
       "grid_gap": null,
       "grid_row": null,
       "grid_template_areas": null,
       "grid_template_columns": null,
       "grid_template_rows": null,
       "height": null,
       "justify_content": null,
       "justify_items": null,
       "left": null,
       "margin": null,
       "max_height": null,
       "max_width": null,
       "min_height": null,
       "min_width": null,
       "object_fit": null,
       "object_position": null,
       "order": null,
       "overflow": null,
       "overflow_x": null,
       "overflow_y": null,
       "padding": null,
       "right": null,
       "top": null,
       "visibility": null,
       "width": null
      }
     },
     "b45e95385756440eab8672f54a842ef3": {
      "model_module": "@jupyter-widgets/controls",
      "model_module_version": "1.5.0",
      "model_name": "HTMLModel",
      "state": {
       "_dom_classes": [],
       "_model_module": "@jupyter-widgets/controls",
       "_model_module_version": "1.5.0",
       "_model_name": "HTMLModel",
       "_view_count": null,
       "_view_module": "@jupyter-widgets/controls",
       "_view_module_version": "1.5.0",
       "_view_name": "HTMLView",
       "description": "",
       "description_tooltip": null,
       "layout": "IPY_MODEL_5ea274987a91448da2714f26518debc0",
       "placeholder": "​",
       "style": "IPY_MODEL_8aa5c981daf348da9a78282bd2d3a6c3",
       "value": " 625/625 [00:00&lt;00:00, 49.2kB/s]"
      }
     },
     "b4f5f53e8694467f995dc76112679086": {
      "model_module": "@jupyter-widgets/controls",
      "model_module_version": "1.5.0",
      "model_name": "HTMLModel",
      "state": {
       "_dom_classes": [],
       "_model_module": "@jupyter-widgets/controls",
       "_model_module_version": "1.5.0",
       "_model_name": "HTMLModel",
       "_view_count": null,
       "_view_module": "@jupyter-widgets/controls",
       "_view_module_version": "1.5.0",
       "_view_name": "HTMLView",
       "description": "",
       "description_tooltip": null,
       "layout": "IPY_MODEL_176effa350f4479dbda38c949d1331f1",
       "placeholder": "​",
       "style": "IPY_MODEL_f64c5f5a34364c638a65daa6dda92263",
       "value": "vocab.txt: 100%"
      }
     },
     "b65d592317054cd6be47bfea7d274654": {
      "model_module": "@jupyter-widgets/controls",
      "model_module_version": "1.5.0",
      "model_name": "DescriptionStyleModel",
      "state": {
       "_model_module": "@jupyter-widgets/controls",
       "_model_module_version": "1.5.0",
       "_model_name": "DescriptionStyleModel",
       "_view_count": null,
       "_view_module": "@jupyter-widgets/base",
       "_view_module_version": "1.2.0",
       "_view_name": "StyleView",
       "description_width": ""
      }
     },
     "ba7901c0f2804954b6280982e941d8ad": {
      "model_module": "@jupyter-widgets/controls",
      "model_module_version": "1.5.0",
      "model_name": "DescriptionStyleModel",
      "state": {
       "_model_module": "@jupyter-widgets/controls",
       "_model_module_version": "1.5.0",
       "_model_name": "DescriptionStyleModel",
       "_view_count": null,
       "_view_module": "@jupyter-widgets/base",
       "_view_module_version": "1.2.0",
       "_view_name": "StyleView",
       "description_width": ""
      }
     },
     "bc06e6c4a68141349805883d53c59e98": {
      "model_module": "@jupyter-widgets/controls",
      "model_module_version": "1.5.0",
      "model_name": "HBoxModel",
      "state": {
       "_dom_classes": [],
       "_model_module": "@jupyter-widgets/controls",
       "_model_module_version": "1.5.0",
       "_model_name": "HBoxModel",
       "_view_count": null,
       "_view_module": "@jupyter-widgets/controls",
       "_view_module_version": "1.5.0",
       "_view_name": "HBoxView",
       "box_style": "",
       "children": [
        "IPY_MODEL_77715ab51e6943348bc5e76f3c1f5ca2",
        "IPY_MODEL_ccd13b8b3f8f471c8ff7e357839eeeeb",
        "IPY_MODEL_9f54cb4d569a4c6c843dd101bcc6ecaf"
       ],
       "layout": "IPY_MODEL_699e9c38c8654574a25a41313d0d92e2"
      }
     },
     "c2e44817c62547f1a19ec1ed1b415a8a": {
      "model_module": "@jupyter-widgets/controls",
      "model_module_version": "1.5.0",
      "model_name": "FloatProgressModel",
      "state": {
       "_dom_classes": [],
       "_model_module": "@jupyter-widgets/controls",
       "_model_module_version": "1.5.0",
       "_model_name": "FloatProgressModel",
       "_view_count": null,
       "_view_module": "@jupyter-widgets/controls",
       "_view_module_version": "1.5.0",
       "_view_name": "ProgressView",
       "bar_style": "success",
       "description": "",
       "description_tooltip": null,
       "layout": "IPY_MODEL_da51e36446ce4dc6aabb0ea9d8cd2733",
       "max": 995526.0,
       "min": 0.0,
       "orientation": "horizontal",
       "style": "IPY_MODEL_c59a7bd5e7a741638dc7017c0e3c72db",
       "value": 995526.0
      }
     },
     "c47ec000ade6485cb2bfabe95d6ef53a": {
      "model_module": "@jupyter-widgets/controls",
      "model_module_version": "1.5.0",
      "model_name": "HTMLModel",
      "state": {
       "_dom_classes": [],
       "_model_module": "@jupyter-widgets/controls",
       "_model_module_version": "1.5.0",
       "_model_name": "HTMLModel",
       "_view_count": null,
       "_view_module": "@jupyter-widgets/controls",
       "_view_module_version": "1.5.0",
       "_view_name": "HTMLView",
       "description": "",
       "description_tooltip": null,
       "layout": "IPY_MODEL_7b01ec9feadb4c9fbc78245b083db170",
       "placeholder": "​",
       "style": "IPY_MODEL_b65d592317054cd6be47bfea7d274654",
       "value": "config.json: 100%"
      }
     },
     "c59a7bd5e7a741638dc7017c0e3c72db": {
      "model_module": "@jupyter-widgets/controls",
      "model_module_version": "1.5.0",
      "model_name": "ProgressStyleModel",
      "state": {
       "_model_module": "@jupyter-widgets/controls",
       "_model_module_version": "1.5.0",
       "_model_name": "ProgressStyleModel",
       "_view_count": null,
       "_view_module": "@jupyter-widgets/base",
       "_view_module_version": "1.2.0",
       "_view_name": "StyleView",
       "bar_color": null,
       "description_width": ""
      }
     },
     "cbe51b62ac8e4c80b612f6e85b26b0d8": {
      "model_module": "@jupyter-widgets/controls",
      "model_module_version": "1.5.0",
      "model_name": "FloatProgressModel",
      "state": {
       "_dom_classes": [],
       "_model_module": "@jupyter-widgets/controls",
       "_model_module_version": "1.5.0",
       "_model_name": "FloatProgressModel",
       "_view_count": null,
       "_view_module": "@jupyter-widgets/controls",
       "_view_module_version": "1.5.0",
       "_view_name": "ProgressView",
       "bar_style": "success",
       "description": "",
       "description_tooltip": null,
       "layout": "IPY_MODEL_a83b0e1282ac46da9e56fc7b6f039e19",
       "max": 625.0,
       "min": 0.0,
       "orientation": "horizontal",
       "style": "IPY_MODEL_f6cbc82343fb45ee9f201c36becbdefc",
       "value": 625.0
      }
     },
     "ccd13b8b3f8f471c8ff7e357839eeeeb": {
      "model_module": "@jupyter-widgets/controls",
      "model_module_version": "1.5.0",
      "model_name": "FloatProgressModel",
      "state": {
       "_dom_classes": [],
       "_model_module": "@jupyter-widgets/controls",
       "_model_module_version": "1.5.0",
       "_model_name": "FloatProgressModel",
       "_view_count": null,
       "_view_module": "@jupyter-widgets/controls",
       "_view_module_version": "1.5.0",
       "_view_name": "ProgressView",
       "bar_style": "success",
       "description": "",
       "description_tooltip": null,
       "layout": "IPY_MODEL_fcccb1ee219c45f9bdecaa5e6ddac516",
       "max": 1961828.0,
       "min": 0.0,
       "orientation": "horizontal",
       "style": "IPY_MODEL_e7d600c75d6b46f5a5e10357c57068ce",
       "value": 1961828.0
      }
     },
     "d71912f3aa784c79a4a447e1a6ccd463": {
      "model_module": "@jupyter-widgets/controls",
      "model_module_version": "1.5.0",
      "model_name": "DescriptionStyleModel",
      "state": {
       "_model_module": "@jupyter-widgets/controls",
       "_model_module_version": "1.5.0",
       "_model_name": "DescriptionStyleModel",
       "_view_count": null,
       "_view_module": "@jupyter-widgets/base",
       "_view_module_version": "1.2.0",
       "_view_name": "StyleView",
       "description_width": ""
      }
     },
     "da51e36446ce4dc6aabb0ea9d8cd2733": {
      "model_module": "@jupyter-widgets/base",
      "model_module_version": "1.2.0",
      "model_name": "LayoutModel",
      "state": {
       "_model_module": "@jupyter-widgets/base",
       "_model_module_version": "1.2.0",
       "_model_name": "LayoutModel",
       "_view_count": null,
       "_view_module": "@jupyter-widgets/base",
       "_view_module_version": "1.2.0",
       "_view_name": "LayoutView",
       "align_content": null,
       "align_items": null,
       "align_self": null,
       "border": null,
       "bottom": null,
       "display": null,
       "flex": null,
       "flex_flow": null,
       "grid_area": null,
       "grid_auto_columns": null,
       "grid_auto_flow": null,
       "grid_auto_rows": null,
       "grid_column": null,
       "grid_gap": null,
       "grid_row": null,
       "grid_template_areas": null,
       "grid_template_columns": null,
       "grid_template_rows": null,
       "height": null,
       "justify_content": null,
       "justify_items": null,
       "left": null,
       "margin": null,
       "max_height": null,
       "max_width": null,
       "min_height": null,
       "min_width": null,
       "object_fit": null,
       "object_position": null,
       "order": null,
       "overflow": null,
       "overflow_x": null,
       "overflow_y": null,
       "padding": null,
       "right": null,
       "top": null,
       "visibility": null,
       "width": null
      }
     },
     "e25f0db9f2fe42fda5f0f2d347f0e8b6": {
      "model_module": "@jupyter-widgets/controls",
      "model_module_version": "1.5.0",
      "model_name": "ProgressStyleModel",
      "state": {
       "_model_module": "@jupyter-widgets/controls",
       "_model_module_version": "1.5.0",
       "_model_name": "ProgressStyleModel",
       "_view_count": null,
       "_view_module": "@jupyter-widgets/base",
       "_view_module_version": "1.2.0",
       "_view_name": "StyleView",
       "bar_color": null,
       "description_width": ""
      }
     },
     "e7d600c75d6b46f5a5e10357c57068ce": {
      "model_module": "@jupyter-widgets/controls",
      "model_module_version": "1.5.0",
      "model_name": "ProgressStyleModel",
      "state": {
       "_model_module": "@jupyter-widgets/controls",
       "_model_module_version": "1.5.0",
       "_model_name": "ProgressStyleModel",
       "_view_count": null,
       "_view_module": "@jupyter-widgets/base",
       "_view_module_version": "1.2.0",
       "_view_name": "StyleView",
       "bar_color": null,
       "description_width": ""
      }
     },
     "e8ff6bec63af47b0acb3d1ed2b7fc6da": {
      "model_module": "@jupyter-widgets/base",
      "model_module_version": "1.2.0",
      "model_name": "LayoutModel",
      "state": {
       "_model_module": "@jupyter-widgets/base",
       "_model_module_version": "1.2.0",
       "_model_name": "LayoutModel",
       "_view_count": null,
       "_view_module": "@jupyter-widgets/base",
       "_view_module_version": "1.2.0",
       "_view_name": "LayoutView",
       "align_content": null,
       "align_items": null,
       "align_self": null,
       "border": null,
       "bottom": null,
       "display": null,
       "flex": null,
       "flex_flow": null,
       "grid_area": null,
       "grid_auto_columns": null,
       "grid_auto_flow": null,
       "grid_auto_rows": null,
       "grid_column": null,
       "grid_gap": null,
       "grid_row": null,
       "grid_template_areas": null,
       "grid_template_columns": null,
       "grid_template_rows": null,
       "height": null,
       "justify_content": null,
       "justify_items": null,
       "left": null,
       "margin": null,
       "max_height": null,
       "max_width": null,
       "min_height": null,
       "min_width": null,
       "object_fit": null,
       "object_position": null,
       "order": null,
       "overflow": null,
       "overflow_x": null,
       "overflow_y": null,
       "padding": null,
       "right": null,
       "top": null,
       "visibility": null,
       "width": null
      }
     },
     "e9212f4a1a3949b0a837a723221b5c8b": {
      "model_module": "@jupyter-widgets/base",
      "model_module_version": "1.2.0",
      "model_name": "LayoutModel",
      "state": {
       "_model_module": "@jupyter-widgets/base",
       "_model_module_version": "1.2.0",
       "_model_name": "LayoutModel",
       "_view_count": null,
       "_view_module": "@jupyter-widgets/base",
       "_view_module_version": "1.2.0",
       "_view_name": "LayoutView",
       "align_content": null,
       "align_items": null,
       "align_self": null,
       "border": null,
       "bottom": null,
       "display": null,
       "flex": null,
       "flex_flow": null,
       "grid_area": null,
       "grid_auto_columns": null,
       "grid_auto_flow": null,
       "grid_auto_rows": null,
       "grid_column": null,
       "grid_gap": null,
       "grid_row": null,
       "grid_template_areas": null,
       "grid_template_columns": null,
       "grid_template_rows": null,
       "height": null,
       "justify_content": null,
       "justify_items": null,
       "left": null,
       "margin": null,
       "max_height": null,
       "max_width": null,
       "min_height": null,
       "min_width": null,
       "object_fit": null,
       "object_position": null,
       "order": null,
       "overflow": null,
       "overflow_x": null,
       "overflow_y": null,
       "padding": null,
       "right": null,
       "top": null,
       "visibility": null,
       "width": null
      }
     },
     "ec6de755f5a045ce9e588d4b3012bc87": {
      "model_module": "@jupyter-widgets/base",
      "model_module_version": "1.2.0",
      "model_name": "LayoutModel",
      "state": {
       "_model_module": "@jupyter-widgets/base",
       "_model_module_version": "1.2.0",
       "_model_name": "LayoutModel",
       "_view_count": null,
       "_view_module": "@jupyter-widgets/base",
       "_view_module_version": "1.2.0",
       "_view_name": "LayoutView",
       "align_content": null,
       "align_items": null,
       "align_self": null,
       "border": null,
       "bottom": null,
       "display": null,
       "flex": null,
       "flex_flow": null,
       "grid_area": null,
       "grid_auto_columns": null,
       "grid_auto_flow": null,
       "grid_auto_rows": null,
       "grid_column": null,
       "grid_gap": null,
       "grid_row": null,
       "grid_template_areas": null,
       "grid_template_columns": null,
       "grid_template_rows": null,
       "height": null,
       "justify_content": null,
       "justify_items": null,
       "left": null,
       "margin": null,
       "max_height": null,
       "max_width": null,
       "min_height": null,
       "min_width": null,
       "object_fit": null,
       "object_position": null,
       "order": null,
       "overflow": null,
       "overflow_x": null,
       "overflow_y": null,
       "padding": null,
       "right": null,
       "top": null,
       "visibility": null,
       "width": null
      }
     },
     "f02df3832d574c0f926479ecfa324659": {
      "model_module": "@jupyter-widgets/controls",
      "model_module_version": "1.5.0",
      "model_name": "HTMLModel",
      "state": {
       "_dom_classes": [],
       "_model_module": "@jupyter-widgets/controls",
       "_model_module_version": "1.5.0",
       "_model_name": "HTMLModel",
       "_view_count": null,
       "_view_module": "@jupyter-widgets/controls",
       "_view_module_version": "1.5.0",
       "_view_name": "HTMLView",
       "description": "",
       "description_tooltip": null,
       "layout": "IPY_MODEL_6a9e5434c6214395a749a9c3693074a0",
       "placeholder": "​",
       "style": "IPY_MODEL_d71912f3aa784c79a4a447e1a6ccd463",
       "value": "tokenizer_config.json: 100%"
      }
     },
     "f64c5f5a34364c638a65daa6dda92263": {
      "model_module": "@jupyter-widgets/controls",
      "model_module_version": "1.5.0",
      "model_name": "DescriptionStyleModel",
      "state": {
       "_model_module": "@jupyter-widgets/controls",
       "_model_module_version": "1.5.0",
       "_model_name": "DescriptionStyleModel",
       "_view_count": null,
       "_view_module": "@jupyter-widgets/base",
       "_view_module_version": "1.2.0",
       "_view_name": "StyleView",
       "description_width": ""
      }
     },
     "f6cbc82343fb45ee9f201c36becbdefc": {
      "model_module": "@jupyter-widgets/controls",
      "model_module_version": "1.5.0",
      "model_name": "ProgressStyleModel",
      "state": {
       "_model_module": "@jupyter-widgets/controls",
       "_model_module_version": "1.5.0",
       "_model_name": "ProgressStyleModel",
       "_view_count": null,
       "_view_module": "@jupyter-widgets/base",
       "_view_module_version": "1.2.0",
       "_view_name": "StyleView",
       "bar_color": null,
       "description_width": ""
      }
     },
     "f988e986fc4b46eca82b1a6c71d4ec70": {
      "model_module": "@jupyter-widgets/controls",
      "model_module_version": "1.5.0",
      "model_name": "DescriptionStyleModel",
      "state": {
       "_model_module": "@jupyter-widgets/controls",
       "_model_module_version": "1.5.0",
       "_model_name": "DescriptionStyleModel",
       "_view_count": null,
       "_view_module": "@jupyter-widgets/base",
       "_view_module_version": "1.2.0",
       "_view_name": "StyleView",
       "description_width": ""
      }
     },
     "fcccb1ee219c45f9bdecaa5e6ddac516": {
      "model_module": "@jupyter-widgets/base",
      "model_module_version": "1.2.0",
      "model_name": "LayoutModel",
      "state": {
       "_model_module": "@jupyter-widgets/base",
       "_model_module_version": "1.2.0",
       "_model_name": "LayoutModel",
       "_view_count": null,
       "_view_module": "@jupyter-widgets/base",
       "_view_module_version": "1.2.0",
       "_view_name": "LayoutView",
       "align_content": null,
       "align_items": null,
       "align_self": null,
       "border": null,
       "bottom": null,
       "display": null,
       "flex": null,
       "flex_flow": null,
       "grid_area": null,
       "grid_auto_columns": null,
       "grid_auto_flow": null,
       "grid_auto_rows": null,
       "grid_column": null,
       "grid_gap": null,
       "grid_row": null,
       "grid_template_areas": null,
       "grid_template_columns": null,
       "grid_template_rows": null,
       "height": null,
       "justify_content": null,
       "justify_items": null,
       "left": null,
       "margin": null,
       "max_height": null,
       "max_width": null,
       "min_height": null,
       "min_width": null,
       "object_fit": null,
       "object_position": null,
       "order": null,
       "overflow": null,
       "overflow_x": null,
       "overflow_y": null,
       "padding": null,
       "right": null,
       "top": null,
       "visibility": null,
       "width": null
      }
     }
    },
    "version_major": 2,
    "version_minor": 0
   }
  }
 },
 "nbformat": 4,
 "nbformat_minor": 5
}
