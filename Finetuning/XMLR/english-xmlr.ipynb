{
 "cells": [
  {
   "cell_type": "code",
   "execution_count": 1,
   "id": "dd7b7534",
   "metadata": {
    "execution": {
     "iopub.execute_input": "2024-04-15T14:38:44.553885Z",
     "iopub.status.busy": "2024-04-15T14:38:44.553537Z",
     "iopub.status.idle": "2024-04-15T14:38:45.310732Z",
     "shell.execute_reply": "2024-04-15T14:38:45.309877Z"
    },
    "id": "_MkUic7yFDkK",
    "papermill": {
     "duration": 0.784508,
     "end_time": "2024-04-15T14:38:45.313235",
     "exception": false,
     "start_time": "2024-04-15T14:38:44.528727",
     "status": "completed"
    },
    "tags": []
   },
   "outputs": [],
   "source": [
    "import numpy as np \n",
    "import pandas as pd "
   ]
  },
  {
   "cell_type": "code",
   "execution_count": 2,
   "id": "22d44e65",
   "metadata": {
    "execution": {
     "iopub.execute_input": "2024-04-15T14:38:45.362735Z",
     "iopub.status.busy": "2024-04-15T14:38:45.361898Z",
     "iopub.status.idle": "2024-04-15T14:38:45.423321Z",
     "shell.execute_reply": "2024-04-15T14:38:45.422357Z"
    },
    "id": "-mcg375BMOgs",
    "papermill": {
     "duration": 0.089467,
     "end_time": "2024-04-15T14:38:45.425954",
     "exception": false,
     "start_time": "2024-04-15T14:38:45.336487",
     "status": "completed"
    },
    "tags": []
   },
   "outputs": [
    {
     "name": "stdout",
     "output_type": "stream",
     "text": [
      "                                                                                                                                                                                                                                        text  \\\n",
      "0                                                    if you made it through this were not only able to start making money for yourself but sustain living that way all from home fuck these company corporate pig power to the people always   \n",
      "1                                                                                                                                                                                 technically that is still turning back the clock dick head   \n",
      "2  and you are the govt stop thinking about world medium liberal gang or any optic whatsoever and act now already if this is what a person at your level is facing then shudder to think the plight of common people in bengal bengalburning   \n",
      "3                                                                                                                                                                                                          soldier of japan who ha dick head   \n",
      "4                                                                                                                                                               you would be better off asking who doe not think he is a sleazy shitbag lmao   \n",
      "\n",
      "   label  \n",
      "0      0  \n",
      "1      0  \n",
      "2      1  \n",
      "3      0  \n",
      "4      0  \n"
     ]
    }
   ],
   "source": [
    "pd.set_option('display.max_rows', None)  # Show all rows\n",
    "pd.set_option('display.max_colwidth', None)\n",
    "pd.set_option('display.max_columns', None)  # Show all columns\n",
    "df = pd.read_csv('/kaggle/input/english-preprocessed1/english_preprocessed (1).csv')\n",
    "print(df.head())\n"
   ]
  },
  {
   "cell_type": "markdown",
   "id": "d3118872",
   "metadata": {
    "papermill": {
     "duration": 0.0236,
     "end_time": "2024-04-15T14:38:45.475157",
     "exception": false,
     "start_time": "2024-04-15T14:38:45.451557",
     "status": "completed"
    },
    "tags": []
   },
   "source": [
    "**Install Transformer**"
   ]
  },
  {
   "cell_type": "code",
   "execution_count": 3,
   "id": "44aa3892",
   "metadata": {
    "execution": {
     "iopub.execute_input": "2024-04-15T14:38:45.523434Z",
     "iopub.status.busy": "2024-04-15T14:38:45.522660Z",
     "iopub.status.idle": "2024-04-15T14:39:08.964226Z",
     "shell.execute_reply": "2024-04-15T14:39:08.963116Z"
    },
    "id": "fyfCkr_4Gfgc",
    "outputId": "b649afb7-2a8e-448f-c9d2-d46ff7335c3f",
    "papermill": {
     "duration": 23.468242,
     "end_time": "2024-04-15T14:39:08.966619",
     "exception": false,
     "start_time": "2024-04-15T14:38:45.498377",
     "status": "completed"
    },
    "tags": []
   },
   "outputs": [
    {
     "name": "stdout",
     "output_type": "stream",
     "text": [
      "Collecting transformers==4.16.2\r\n",
      "  Downloading transformers-4.16.2-py3-none-any.whl.metadata (61 kB)\r\n",
      "\u001b[2K     \u001b[90m━━━━━━━━━━━━━━━━━━━━━━━━━━━━━━━━━━━━━━━━\u001b[0m \u001b[32m61.8/61.8 kB\u001b[0m \u001b[31m2.4 MB/s\u001b[0m eta \u001b[36m0:00:00\u001b[0m\r\n",
      "\u001b[?25hRequirement already satisfied: filelock in /opt/conda/lib/python3.10/site-packages (from transformers==4.16.2) (3.13.1)\r\n",
      "Requirement already satisfied: huggingface-hub<1.0,>=0.1.0 in /opt/conda/lib/python3.10/site-packages (from transformers==4.16.2) (0.22.2)\r\n",
      "Requirement already satisfied: numpy>=1.17 in /opt/conda/lib/python3.10/site-packages (from transformers==4.16.2) (1.26.4)\r\n",
      "Requirement already satisfied: packaging>=20.0 in /opt/conda/lib/python3.10/site-packages (from transformers==4.16.2) (21.3)\r\n",
      "Requirement already satisfied: pyyaml>=5.1 in /opt/conda/lib/python3.10/site-packages (from transformers==4.16.2) (6.0.1)\r\n",
      "Requirement already satisfied: regex!=2019.12.17 in /opt/conda/lib/python3.10/site-packages (from transformers==4.16.2) (2023.12.25)\r\n",
      "Requirement already satisfied: requests in /opt/conda/lib/python3.10/site-packages (from transformers==4.16.2) (2.31.0)\r\n",
      "Collecting sacremoses (from transformers==4.16.2)\r\n",
      "  Downloading sacremoses-0.1.1-py3-none-any.whl.metadata (8.3 kB)\r\n",
      "Requirement already satisfied: tokenizers!=0.11.3,>=0.10.1 in /opt/conda/lib/python3.10/site-packages (from transformers==4.16.2) (0.15.2)\r\n",
      "Requirement already satisfied: tqdm>=4.27 in /opt/conda/lib/python3.10/site-packages (from transformers==4.16.2) (4.66.1)\r\n",
      "Requirement already satisfied: fsspec>=2023.5.0 in /opt/conda/lib/python3.10/site-packages (from huggingface-hub<1.0,>=0.1.0->transformers==4.16.2) (2024.2.0)\r\n",
      "Requirement already satisfied: typing-extensions>=3.7.4.3 in /opt/conda/lib/python3.10/site-packages (from huggingface-hub<1.0,>=0.1.0->transformers==4.16.2) (4.9.0)\r\n",
      "Requirement already satisfied: pyparsing!=3.0.5,>=2.0.2 in /opt/conda/lib/python3.10/site-packages (from packaging>=20.0->transformers==4.16.2) (3.1.1)\r\n",
      "Requirement already satisfied: charset-normalizer<4,>=2 in /opt/conda/lib/python3.10/site-packages (from requests->transformers==4.16.2) (3.3.2)\r\n",
      "Requirement already satisfied: idna<4,>=2.5 in /opt/conda/lib/python3.10/site-packages (from requests->transformers==4.16.2) (3.6)\r\n",
      "Requirement already satisfied: urllib3<3,>=1.21.1 in /opt/conda/lib/python3.10/site-packages (from requests->transformers==4.16.2) (1.26.18)\r\n",
      "Requirement already satisfied: certifi>=2017.4.17 in /opt/conda/lib/python3.10/site-packages (from requests->transformers==4.16.2) (2024.2.2)\r\n",
      "Requirement already satisfied: click in /opt/conda/lib/python3.10/site-packages (from sacremoses->transformers==4.16.2) (8.1.7)\r\n",
      "Requirement already satisfied: joblib in /opt/conda/lib/python3.10/site-packages (from sacremoses->transformers==4.16.2) (1.3.2)\r\n",
      "Downloading transformers-4.16.2-py3-none-any.whl (3.5 MB)\r\n",
      "\u001b[2K   \u001b[90m━━━━━━━━━━━━━━━━━━━━━━━━━━━━━━━━━━━━━━━━\u001b[0m \u001b[32m3.5/3.5 MB\u001b[0m \u001b[31m54.1 MB/s\u001b[0m eta \u001b[36m0:00:00\u001b[0m\r\n",
      "\u001b[?25hDownloading sacremoses-0.1.1-py3-none-any.whl (897 kB)\r\n",
      "\u001b[2K   \u001b[90m━━━━━━━━━━━━━━━━━━━━━━━━━━━━━━━━━━━━━━━━\u001b[0m \u001b[32m897.5/897.5 kB\u001b[0m \u001b[31m35.5 MB/s\u001b[0m eta \u001b[36m0:00:00\u001b[0m\r\n",
      "\u001b[?25hInstalling collected packages: sacremoses, transformers\r\n",
      "  Attempting uninstall: transformers\r\n",
      "    Found existing installation: transformers 4.39.3\r\n",
      "    Uninstalling transformers-4.39.3:\r\n",
      "      Successfully uninstalled transformers-4.39.3\r\n",
      "\u001b[31mERROR: pip's dependency resolver does not currently take into account all the packages that are installed. This behaviour is the source of the following dependency conflicts.\r\n",
      "kaggle-environments 1.14.3 requires transformers>=4.33.1, but you have transformers 4.16.2 which is incompatible.\u001b[0m\u001b[31m\r\n",
      "\u001b[0mSuccessfully installed sacremoses-0.1.1 transformers-4.16.2\r\n"
     ]
    }
   ],
   "source": [
    "# install transformers\n",
    "!pip install \"transformers ==4.16.2\"\n",
    "import torch\n",
    "from torch.utils.data import TensorDataset, DataLoader, RandomSampler, SequentialSampler"
   ]
  },
  {
   "cell_type": "code",
   "execution_count": 4,
   "id": "5dfb6928",
   "metadata": {
    "execution": {
     "iopub.execute_input": "2024-04-15T14:39:09.017245Z",
     "iopub.status.busy": "2024-04-15T14:39:09.016737Z",
     "iopub.status.idle": "2024-04-15T14:39:12.339076Z",
     "shell.execute_reply": "2024-04-15T14:39:12.338040Z"
    },
    "id": "Ir6cRpraGzIx",
    "outputId": "a7bb0643-521d-4e5c-d613-4b4b0df16dca",
    "papermill": {
     "duration": 3.349943,
     "end_time": "2024-04-15T14:39:12.341149",
     "exception": false,
     "start_time": "2024-04-15T14:39:08.991206",
     "status": "completed"
    },
    "tags": []
   },
   "outputs": [
    {
     "data": {
      "application/vnd.jupyter.widget-view+json": {
       "model_id": "97b39febac14462ab52121bd5ad3c80d",
       "version_major": 2,
       "version_minor": 0
      },
      "text/plain": [
       "Downloading:   0%|          | 0.00/25.0 [00:00<?, ?B/s]"
      ]
     },
     "metadata": {},
     "output_type": "display_data"
    },
    {
     "data": {
      "application/vnd.jupyter.widget-view+json": {
       "model_id": "e045463ef16341e19e0fbcba81d88627",
       "version_major": 2,
       "version_minor": 0
      },
      "text/plain": [
       "Downloading:   0%|          | 0.00/615 [00:00<?, ?B/s]"
      ]
     },
     "metadata": {},
     "output_type": "display_data"
    },
    {
     "data": {
      "application/vnd.jupyter.widget-view+json": {
       "model_id": "0e9c6157b4da4a8a9f37756d9d5de578",
       "version_major": 2,
       "version_minor": 0
      },
      "text/plain": [
       "Downloading:   0%|          | 0.00/4.83M [00:00<?, ?B/s]"
      ]
     },
     "metadata": {},
     "output_type": "display_data"
    },
    {
     "data": {
      "application/vnd.jupyter.widget-view+json": {
       "model_id": "85803b11de1147278e6af1307d007220",
       "version_major": 2,
       "version_minor": 0
      },
      "text/plain": [
       "Downloading:   0%|          | 0.00/8.68M [00:00<?, ?B/s]"
      ]
     },
     "metadata": {},
     "output_type": "display_data"
    },
    {
     "name": "stderr",
     "output_type": "stream",
     "text": [
      "Special tokens have been added in the vocabulary, make sure the associated word embeddings are fine-tuned or trained.\n"
     ]
    }
   ],
   "source": [
    "# load tokens\n",
    "from transformers import AutoTokenizer\n",
    "tokenizer = AutoTokenizer.from_pretrained('xlm-roberta-base')"
   ]
  },
  {
   "cell_type": "code",
   "execution_count": 5,
   "id": "b4332097",
   "metadata": {
    "execution": {
     "iopub.execute_input": "2024-04-15T14:39:12.394138Z",
     "iopub.status.busy": "2024-04-15T14:39:12.393819Z",
     "iopub.status.idle": "2024-04-15T14:39:12.401844Z",
     "shell.execute_reply": "2024-04-15T14:39:12.400936Z"
    },
    "id": "sZJXYvCNHCs3",
    "outputId": "d9a55c33-d62e-4a12-8c67-5f1e98292427",
    "papermill": {
     "duration": 0.035963,
     "end_time": "2024-04-15T14:39:12.403886",
     "exception": false,
     "start_time": "2024-04-15T14:39:12.367923",
     "status": "completed"
    },
    "tags": []
   },
   "outputs": [
    {
     "data": {
      "text/plain": [
       "'if you made it through this were not only able to start making money for yourself but sustain living that way all from home fuck these company corporate pig power to the people always'"
      ]
     },
     "execution_count": 5,
     "metadata": {},
     "output_type": "execute_result"
    }
   ],
   "source": [
    "# print first text\n",
    "df.text.values[0]"
   ]
  },
  {
   "cell_type": "code",
   "execution_count": 6,
   "id": "a5cc2db0",
   "metadata": {
    "execution": {
     "iopub.execute_input": "2024-04-15T14:39:12.455875Z",
     "iopub.status.busy": "2024-04-15T14:39:12.455289Z",
     "iopub.status.idle": "2024-04-15T14:39:12.464039Z",
     "shell.execute_reply": "2024-04-15T14:39:12.462956Z"
    },
    "id": "bhExEr1sHPY5",
    "outputId": "952f0a79-30c9-454d-c29b-fab40e58a96e",
    "papermill": {
     "duration": 0.036995,
     "end_time": "2024-04-15T14:39:12.465911",
     "exception": false,
     "start_time": "2024-04-15T14:39:12.428916",
     "status": "completed"
    },
    "tags": []
   },
   "outputs": [
    {
     "name": "stdout",
     "output_type": "stream",
     "text": [
      "{'if': [2174], 'you': [398], 'made': [7228], 'it': [442], 'through': [8305], 'this': [903], 'were': [3542], 'not': [959], 'only': [4734], 'able': [19048], 'to': [47], 'start': [4034], 'making': [20662], 'money': [17265], 'for': [100], 'yourself': [31949], 'but': [1284], 'sustain': [205027], 'living': [38043], 'that': [450], 'way': [3917], 'all': [756], 'from': [1295], 'home': [5368], 'fuck': [40878], 'these': [6097], 'company': [14380], 'corporate': [145781], 'pig': [53408], 'power': [14537], 'the': [70], 'people': [3395], 'always': [11343]}\n"
     ]
    }
   ],
   "source": [
    "#Print tokens of first text\n",
    "print({x : tokenizer.encode(x, add_special_tokens=False) for x in df.text.values[0].split()})"
   ]
  },
  {
   "cell_type": "code",
   "execution_count": 7,
   "id": "08c6257d",
   "metadata": {
    "execution": {
     "iopub.execute_input": "2024-04-15T14:39:12.518613Z",
     "iopub.status.busy": "2024-04-15T14:39:12.517788Z",
     "iopub.status.idle": "2024-04-15T14:39:12.530812Z",
     "shell.execute_reply": "2024-04-15T14:39:12.529817Z"
    },
    "papermill": {
     "duration": 0.041867,
     "end_time": "2024-04-15T14:39:12.532988",
     "exception": false,
     "start_time": "2024-04-15T14:39:12.491121",
     "status": "completed"
    },
    "tags": []
   },
   "outputs": [],
   "source": [
    "#drop null values\n",
    "df = df.dropna()"
   ]
  },
  {
   "cell_type": "markdown",
   "id": "ce3821f7",
   "metadata": {
    "papermill": {
     "duration": 0.025336,
     "end_time": "2024-04-15T14:39:12.583984",
     "exception": false,
     "start_time": "2024-04-15T14:39:12.558648",
     "status": "completed"
    },
    "tags": []
   },
   "source": [
    "**Finding Max length of tokenized sentence**"
   ]
  },
  {
   "cell_type": "code",
   "execution_count": 8,
   "id": "e5cee913",
   "metadata": {
    "execution": {
     "iopub.execute_input": "2024-04-15T14:39:12.636425Z",
     "iopub.status.busy": "2024-04-15T14:39:12.636060Z",
     "iopub.status.idle": "2024-04-15T14:39:25.462938Z",
     "shell.execute_reply": "2024-04-15T14:39:25.461915Z"
    },
    "id": "f6ASlVtsHtsz",
    "outputId": "5fb098e6-ed2e-4b61-ee4b-e5e08b2a7cda",
    "papermill": {
     "duration": 12.855362,
     "end_time": "2024-04-15T14:39:25.465075",
     "exception": false,
     "start_time": "2024-04-15T14:39:12.609713",
     "status": "completed"
    },
    "tags": []
   },
   "outputs": [
    {
     "name": "stderr",
     "output_type": "stream",
     "text": [
      "huggingface/tokenizers: The current process just got forked, after parallelism has already been used. Disabling parallelism to avoid deadlocks...\n",
      "To disable this warning, you can either:\n",
      "\t- Avoid using `tokenizers` before the fork if possible\n",
      "\t- Explicitly set the environment variable TOKENIZERS_PARALLELISM=(true | false)\n"
     ]
    },
    {
     "name": "stdout",
     "output_type": "stream",
     "text": [
      "Requirement already satisfied: matplotlib in /opt/conda/lib/python3.10/site-packages (3.7.5)\r\n",
      "Requirement already satisfied: contourpy>=1.0.1 in /opt/conda/lib/python3.10/site-packages (from matplotlib) (1.2.0)\r\n",
      "Requirement already satisfied: cycler>=0.10 in /opt/conda/lib/python3.10/site-packages (from matplotlib) (0.12.1)\r\n",
      "Requirement already satisfied: fonttools>=4.22.0 in /opt/conda/lib/python3.10/site-packages (from matplotlib) (4.47.0)\r\n",
      "Requirement already satisfied: kiwisolver>=1.0.1 in /opt/conda/lib/python3.10/site-packages (from matplotlib) (1.4.5)\r\n",
      "Requirement already satisfied: numpy<2,>=1.20 in /opt/conda/lib/python3.10/site-packages (from matplotlib) (1.26.4)\r\n",
      "Requirement already satisfied: packaging>=20.0 in /opt/conda/lib/python3.10/site-packages (from matplotlib) (21.3)\r\n",
      "Requirement already satisfied: pillow>=6.2.0 in /opt/conda/lib/python3.10/site-packages (from matplotlib) (9.5.0)\r\n",
      "Requirement already satisfied: pyparsing>=2.3.1 in /opt/conda/lib/python3.10/site-packages (from matplotlib) (3.1.1)\r\n",
      "Requirement already satisfied: python-dateutil>=2.7 in /opt/conda/lib/python3.10/site-packages (from matplotlib) (2.9.0.post0)\r\n",
      "Requirement already satisfied: six>=1.5 in /opt/conda/lib/python3.10/site-packages (from python-dateutil>=2.7->matplotlib) (1.16.0)\r\n",
      "max:  116\n",
      "min:  3\n"
     ]
    },
    {
     "data": {
      "text/plain": [
       "(array([   0.,  500., 1000., 1500., 2000., 2500.]),\n",
       " [Text(0, 0.0, '0'),\n",
       "  Text(0, 500.0, '500'),\n",
       "  Text(0, 1000.0, '1000'),\n",
       "  Text(0, 1500.0, '1500'),\n",
       "  Text(0, 2000.0, '2000'),\n",
       "  Text(0, 2500.0, '2500')])"
      ]
     },
     "execution_count": 8,
     "metadata": {},
     "output_type": "execute_result"
    },
    {
     "data": {
      "image/png": "[encoded data removed]",
      "text/plain": [
       "<Figure size 2000x800 with 1 Axes>"
      ]
     },
     "metadata": {},
     "output_type": "display_data"
    }
   ],
   "source": [
    "# install matplotlib\n",
    "!pip install matplotlib\n",
    "# tokenize the text feature\n",
    "tokenized_feature_raw = tokenizer.batch_encode_plus(\n",
    "                            # Sentences to encode\n",
    "                            df.text.values.tolist(),\n",
    "                            # Add '[CLS]' and '[SEP]'\n",
    "                            add_special_tokens = True\n",
    "                   )\n",
    "# collect tokenized sentence length\n",
    "token_sentence_length = [len(x) for x in tokenized_feature_raw['input_ids']]\n",
    "print('max: ', max(token_sentence_length))\n",
    "print('min: ', min(token_sentence_length))\n",
    "# plot the distribution\n",
    "import matplotlib.pyplot as plt\n",
    "plt.figure(figsize=(20, 8))\n",
    "plt.hist(token_sentence_length, rwidth = 0.9)\n",
    "plt.xlabel('Sequence Length', fontsize = 18)\n",
    "plt.ylabel('# of Samples', fontsize = 18)\n",
    "plt.xticks(fontsize = 14)\n",
    "plt.yticks(fontsize = 14)"
   ]
  },
  {
   "cell_type": "markdown",
   "id": "e59efe2e",
   "metadata": {
    "papermill": {
     "duration": 0.025831,
     "end_time": "2024-04-15T14:39:25.517479",
     "exception": false,
     "start_time": "2024-04-15T14:39:25.491648",
     "status": "completed"
    },
    "tags": []
   },
   "source": [
    "**Identify Features and target**"
   ]
  },
  {
   "cell_type": "code",
   "execution_count": 9,
   "id": "9d80ce03",
   "metadata": {
    "execution": {
     "iopub.execute_input": "2024-04-15T14:39:25.572750Z",
     "iopub.status.busy": "2024-04-15T14:39:25.572378Z",
     "iopub.status.idle": "2024-04-15T14:39:25.577860Z",
     "shell.execute_reply": "2024-04-15T14:39:25.576986Z"
    },
    "id": "k62BIQcZJ1Vh",
    "papermill": {
     "duration": 0.034711,
     "end_time": "2024-04-15T14:39:25.579739",
     "exception": false,
     "start_time": "2024-04-15T14:39:25.545028",
     "status": "completed"
    },
    "tags": []
   },
   "outputs": [],
   "source": [
    "# identify features and target\n",
    "features = df.text.values.tolist()\n",
    "target = df.label.values.tolist()"
   ]
  },
  {
   "cell_type": "markdown",
   "id": "44a6065e",
   "metadata": {
    "papermill": {
     "duration": 0.025781,
     "end_time": "2024-04-15T14:39:25.631653",
     "exception": false,
     "start_time": "2024-04-15T14:39:25.605872",
     "status": "completed"
    },
    "tags": []
   },
   "source": [
    "**Tokenize Features**"
   ]
  },
  {
   "cell_type": "code",
   "execution_count": 10,
   "id": "9e41e8c5",
   "metadata": {
    "execution": {
     "iopub.execute_input": "2024-04-15T14:39:25.685585Z",
     "iopub.status.busy": "2024-04-15T14:39:25.684757Z",
     "iopub.status.idle": "2024-04-15T14:39:26.918598Z",
     "shell.execute_reply": "2024-04-15T14:39:26.917575Z"
    },
    "id": "dW9p9snHI3Wz",
    "papermill": {
     "duration": 1.263377,
     "end_time": "2024-04-15T14:39:26.921012",
     "exception": false,
     "start_time": "2024-04-15T14:39:25.657635",
     "status": "completed"
    },
    "tags": []
   },
   "outputs": [],
   "source": [
    "# tokenize features\n",
    "MAX_LEN = 116\n",
    "tokenized_feature = tokenizer.batch_encode_plus(\n",
    "                            # Sentences to encode\n",
    "                            features,\n",
    "                            # Add '[CLS]' and '[SEP]'\n",
    "                            add_special_tokens = True,\n",
    "                            # Add empty tokens if len(text)<MAX_LEN\n",
    "                            padding = 'max_length',\n",
    "                            # Truncate all sentences to max length\n",
    "                            truncation=True,\n",
    "                            # Set the maximum length\n",
    "                            max_length = MAX_LEN,\n",
    "                            # Return attention mask\n",
    "                            return_attention_mask = True,\n",
    "                            # Return pytorch tensors\n",
    "                            return_tensors = 'pt'\n",
    "                   )"
   ]
  },
  {
   "cell_type": "code",
   "execution_count": 11,
   "id": "bfeb199f",
   "metadata": {
    "execution": {
     "iopub.execute_input": "2024-04-15T14:39:26.976238Z",
     "iopub.status.busy": "2024-04-15T14:39:26.975548Z",
     "iopub.status.idle": "2024-04-15T14:39:27.018086Z",
     "shell.execute_reply": "2024-04-15T14:39:27.017136Z"
    },
    "id": "0-TNsKiIzs9B",
    "outputId": "1c1253df-2f6b-41ba-8b7a-1017754c806e",
    "papermill": {
     "duration": 0.072232,
     "end_time": "2024-04-15T14:39:27.020114",
     "exception": false,
     "start_time": "2024-04-15T14:39:26.947882",
     "status": "completed"
    },
    "tags": []
   },
   "outputs": [
    {
     "name": "stdout",
     "output_type": "stream",
     "text": [
      "{'input_ids': tensor([[     0,   2174,    398,  ...,      1,      1,      1],\n",
      "        [     0, 121392,    538,  ...,      1,      1,      1],\n",
      "        [     0,    136,    398,  ...,      1,      1,      1],\n",
      "        ...,\n",
      "        [     0,  88669,    111,  ...,      1,      1,      1],\n",
      "        [     0,     70,  67915,  ...,      1,      1,      1],\n",
      "        [     0,  17723, 101207,  ...,      1,      1,      1]]), 'attention_mask': tensor([[1, 1, 1,  ..., 0, 0, 0],\n",
      "        [1, 1, 1,  ..., 0, 0, 0],\n",
      "        [1, 1, 1,  ..., 0, 0, 0],\n",
      "        ...,\n",
      "        [1, 1, 1,  ..., 0, 0, 0],\n",
      "        [1, 1, 1,  ..., 0, 0, 0],\n",
      "        [1, 1, 1,  ..., 0, 0, 0]])}\n"
     ]
    }
   ],
   "source": [
    "print(tokenized_feature)"
   ]
  },
  {
   "cell_type": "markdown",
   "id": "d4337f4b",
   "metadata": {
    "id": "ooCNHwQ58MwM",
    "papermill": {
     "duration": 0.026146,
     "end_time": "2024-04-15T14:39:27.073211",
     "exception": false,
     "start_time": "2024-04-15T14:39:27.047065",
     "status": "completed"
    },
    "tags": []
   },
   "source": [
    "**Train Test Split**"
   ]
  },
  {
   "cell_type": "code",
   "execution_count": 12,
   "id": "a35b1489",
   "metadata": {
    "execution": {
     "iopub.execute_input": "2024-04-15T14:39:27.126689Z",
     "iopub.status.busy": "2024-04-15T14:39:27.126339Z",
     "iopub.status.idle": "2024-04-15T14:39:28.218419Z",
     "shell.execute_reply": "2024-04-15T14:39:28.217350Z"
    },
    "id": "WTTPXoANkC4T",
    "papermill": {
     "duration": 1.121822,
     "end_time": "2024-04-15T14:39:28.221077",
     "exception": false,
     "start_time": "2024-04-15T14:39:27.099255",
     "status": "completed"
    },
    "tags": []
   },
   "outputs": [],
   "source": [
    "from sklearn.model_selection import train_test_split\n",
    "\n",
    "# First, split the data into training and the rest\n",
    "train_inputs, rest_inputs, train_labels, rest_labels, train_masks, rest_masks = train_test_split(tokenized_feature['input_ids'],\n",
    "                                                                                                target,\n",
    "                                                                                                tokenized_feature['attention_mask'],\n",
    "                                                                                                random_state=2018,\n",
    "                                                                                                test_size=0.2,\n",
    "                                                                                                stratify=target)\n",
    "\n",
    "# Then, split the rest into validation and testing\n",
    "validation_inputs, test_inputs, validation_labels, test_labels, validation_masks, test_masks = train_test_split(rest_inputs,\n",
    "                                                                                                                  rest_labels,\n",
    "                                                                                                                  rest_masks,\n",
    "                                                                                                                  random_state=2018,\n",
    "                                                                                                                  test_size=0.5,\n",
    "                                                                                                                stratify=rest_labels)\n",
    "                               "
   ]
  },
  {
   "cell_type": "code",
   "execution_count": 13,
   "id": "082a4fe2",
   "metadata": {
    "execution": {
     "iopub.execute_input": "2024-04-15T14:39:28.277674Z",
     "iopub.status.busy": "2024-04-15T14:39:28.277112Z",
     "iopub.status.idle": "2024-04-15T14:39:28.283107Z",
     "shell.execute_reply": "2024-04-15T14:39:28.282252Z"
    },
    "id": "7nZU-BUaQo_n",
    "outputId": "e53973b1-adcb-4b88-bc28-905e47a7d9fd",
    "papermill": {
     "duration": 0.036038,
     "end_time": "2024-04-15T14:39:28.285427",
     "exception": false,
     "start_time": "2024-04-15T14:39:28.249389",
     "status": "completed"
    },
    "tags": []
   },
   "outputs": [
    {
     "data": {
      "text/plain": [
       "869"
      ]
     },
     "execution_count": 13,
     "metadata": {},
     "output_type": "execute_result"
    }
   ],
   "source": [
    "len(validation_inputs)"
   ]
  },
  {
   "cell_type": "code",
   "execution_count": 14,
   "id": "3e60ccc6",
   "metadata": {
    "execution": {
     "iopub.execute_input": "2024-04-15T14:39:28.340152Z",
     "iopub.status.busy": "2024-04-15T14:39:28.339801Z",
     "iopub.status.idle": "2024-04-15T14:39:28.345705Z",
     "shell.execute_reply": "2024-04-15T14:39:28.344806Z"
    },
    "id": "sS0PS1HiQwo2",
    "outputId": "afc1f0f5-8f4d-4b3b-b0fd-82fbef11c8dc",
    "papermill": {
     "duration": 0.035343,
     "end_time": "2024-04-15T14:39:28.347591",
     "exception": false,
     "start_time": "2024-04-15T14:39:28.312248",
     "status": "completed"
    },
    "tags": []
   },
   "outputs": [
    {
     "data": {
      "text/plain": [
       "torch.Size([6948, 116])"
      ]
     },
     "execution_count": 14,
     "metadata": {},
     "output_type": "execute_result"
    }
   ],
   "source": [
    "train_inputs.shape"
   ]
  },
  {
   "cell_type": "markdown",
   "id": "e146d4df",
   "metadata": {
    "papermill": {
     "duration": 0.026033,
     "end_time": "2024-04-15T14:39:28.400092",
     "exception": false,
     "start_time": "2024-04-15T14:39:28.374059",
     "status": "completed"
    },
    "tags": []
   },
   "source": [
    "**Create Dataloaders**"
   ]
  },
  {
   "cell_type": "code",
   "execution_count": 15,
   "id": "667e54d8",
   "metadata": {
    "execution": {
     "iopub.execute_input": "2024-04-15T14:39:28.498259Z",
     "iopub.status.busy": "2024-04-15T14:39:28.497890Z",
     "iopub.status.idle": "2024-04-15T14:39:28.508533Z",
     "shell.execute_reply": "2024-04-15T14:39:28.507719Z"
    },
    "id": "Dzu-L4T9kOzg",
    "papermill": {
     "duration": 0.0399,
     "end_time": "2024-04-15T14:39:28.510411",
     "exception": false,
     "start_time": "2024-04-15T14:39:28.470511",
     "status": "completed"
    },
    "tags": []
   },
   "outputs": [],
   "source": [
    "# define batch_size\n",
    "batch_size = 16\n",
    "# Create the DataLoader for our training set\n",
    "train_data = TensorDataset(train_inputs, train_masks, torch.tensor(train_labels))\n",
    "train_sampler = RandomSampler(train_data)\n",
    "train_dataloader = DataLoader(train_data, sampler=train_sampler, batch_size=batch_size)\n",
    "# Create the DataLoader for our validation set\n",
    "validation_data = TensorDataset(validation_inputs, validation_masks, torch.tensor(validation_labels))\n",
    "validation_sampler = SequentialSampler(validation_data)\n",
    "validation_dataloader = DataLoader(validation_data, sampler=validation_sampler, batch_size=batch_size)\n",
    "# Create the DataLoader for our test set\n",
    "test_data = TensorDataset(test_inputs, test_masks, torch.tensor(test_labels))\n",
    "test_sampler = SequentialSampler(test_data)\n",
    "test_dataloader = DataLoader(test_data, sampler=test_sampler, batch_size=batch_size)\n"
   ]
  },
  {
   "cell_type": "markdown",
   "id": "536b8bb2",
   "metadata": {
    "papermill": {
     "duration": 0.026479,
     "end_time": "2024-04-15T14:39:28.563482",
     "exception": false,
     "start_time": "2024-04-15T14:39:28.537003",
     "status": "completed"
    },
    "tags": []
   },
   "source": [
    "**Define XMLR Pretrained model**"
   ]
  },
  {
   "cell_type": "code",
   "execution_count": 16,
   "id": "f89f641d",
   "metadata": {
    "execution": {
     "iopub.execute_input": "2024-04-15T14:39:28.619970Z",
     "iopub.status.busy": "2024-04-15T14:39:28.619013Z",
     "iopub.status.idle": "2024-04-15T14:40:05.776935Z",
     "shell.execute_reply": "2024-04-15T14:40:05.775928Z"
    },
    "id": "Y_CmvFOacGac",
    "outputId": "f7a5870b-893d-41d9-9f9d-10da547e77a3",
    "papermill": {
     "duration": 37.188525,
     "end_time": "2024-04-15T14:40:05.779027",
     "exception": false,
     "start_time": "2024-04-15T14:39:28.590502",
     "status": "completed"
    },
    "tags": []
   },
   "outputs": [
    {
     "name": "stderr",
     "output_type": "stream",
     "text": [
      "2024-04-15 14:39:30.463196: E external/local_xla/xla/stream_executor/cuda/cuda_dnn.cc:9261] Unable to register cuDNN factory: Attempting to register factory for plugin cuDNN when one has already been registered\n",
      "2024-04-15 14:39:30.463302: E external/local_xla/xla/stream_executor/cuda/cuda_fft.cc:607] Unable to register cuFFT factory: Attempting to register factory for plugin cuFFT when one has already been registered\n",
      "2024-04-15 14:39:30.602470: E external/local_xla/xla/stream_executor/cuda/cuda_blas.cc:1515] Unable to register cuBLAS factory: Attempting to register factory for plugin cuBLAS when one has already been registered\n"
     ]
    },
    {
     "data": {
      "application/vnd.jupyter.widget-view+json": {
       "model_id": "672b016629f240098000c72f057f0135",
       "version_major": 2,
       "version_minor": 0
      },
      "text/plain": [
       "Downloading:   0%|          | 0.00/1.04G [00:00<?, ?B/s]"
      ]
     },
     "metadata": {},
     "output_type": "display_data"
    },
    {
     "name": "stderr",
     "output_type": "stream",
     "text": [
      "Some weights of the model checkpoint at xlm-roberta-base were not used when initializing XLMRobertaForSequenceClassification: ['roberta.pooler.dense.bias', 'lm_head.bias', 'lm_head.decoder.weight', 'lm_head.dense.weight', 'lm_head.layer_norm.bias', 'lm_head.layer_norm.weight', 'lm_head.dense.bias', 'roberta.pooler.dense.weight']\n",
      "- This IS expected if you are initializing XLMRobertaForSequenceClassification from the checkpoint of a model trained on another task or with another architecture (e.g. initializing a BertForSequenceClassification model from a BertForPreTraining model).\n",
      "- This IS NOT expected if you are initializing XLMRobertaForSequenceClassification from the checkpoint of a model that you expect to be exactly identical (initializing a BertForSequenceClassification model from a BertForSequenceClassification model).\n",
      "Some weights of XLMRobertaForSequenceClassification were not initialized from the model checkpoint at xlm-roberta-base and are newly initialized: ['classifier.out_proj.bias', 'classifier.dense.bias', 'classifier.out_proj.weight', 'classifier.dense.weight']\n",
      "You should probably TRAIN this model on a down-stream task to be able to use it for predictions and inference.\n"
     ]
    }
   ],
   "source": [
    "\n",
    "from transformers import XLMRobertaForSequenceClassification, AdamW, get_linear_schedule_with_warmup\n",
    "model = XLMRobertaForSequenceClassification.from_pretrained(\n",
    "    \"xlm-roberta-base\",\n",
    "    # Specify number of classes\n",
    "    num_labels = len(set(target)),\n",
    "    # Whether the model returns attentions weights\n",
    "    output_attentions = False,\n",
    "    # Whether the model returns all hidden-states\n",
    "    output_hidden_states = False\n",
    ")"
   ]
  },
  {
   "cell_type": "code",
   "execution_count": 17,
   "id": "f5c3791d",
   "metadata": {
    "execution": {
     "iopub.execute_input": "2024-04-15T14:40:05.840095Z",
     "iopub.status.busy": "2024-04-15T14:40:05.839487Z",
     "iopub.status.idle": "2024-04-15T14:40:05.849138Z",
     "shell.execute_reply": "2024-04-15T14:40:05.848214Z"
    },
    "papermill": {
     "duration": 0.041246,
     "end_time": "2024-04-15T14:40:05.851150",
     "exception": false,
     "start_time": "2024-04-15T14:40:05.809904",
     "status": "completed"
    },
    "tags": []
   },
   "outputs": [],
   "source": [
    "from torch import nn\n",
    "class CustomRobertaClassificationHead(nn.Module):\n",
    "    def __init__(self, input_size, hidden_size, num_labels):\n",
    "        super(CustomRobertaClassificationHead, self).__init__()\n",
    "        print(input_size)\n",
    "        self.dense = nn.Linear(input_size, hidden_size)\n",
    "        self.dropout = nn.Dropout(0.1)\n",
    "        self.additional_linear = nn.Linear(768, 768)  # Add one more linear layer\n",
    "        self.out_proj = nn.Linear(hidden_size, num_labels)\n",
    "\n",
    "    def forward(self, x):\n",
    "        x = self.dropout(x)\n",
    "        batch_size = x.size(0)  # Get the batch size dynamically\n",
    "        x = x.view(-1, x.size(-1))  # Reshape without hardcoding input_size\n",
    "        x = nn.functional.relu(self.dense(x))\n",
    "        x = self.dropout(x)\n",
    "        x = x.view(batch_size, -1, 768)  # Reshape to original shape for additional_linear\n",
    "        x = nn.functional.relu(self.additional_linear(x))  # Pass through additional linear layer\n",
    "        x = self.dropout(x)\n",
    "        x = x.mean(dim=1)  # Pooling operation to aggregate information across tokens\n",
    "        x = self.out_proj(x)\n",
    "        return x\n"
   ]
  },
  {
   "cell_type": "code",
   "execution_count": 18,
   "id": "8271652a",
   "metadata": {
    "execution": {
     "iopub.execute_input": "2024-04-15T14:40:05.909579Z",
     "iopub.status.busy": "2024-04-15T14:40:05.908709Z",
     "iopub.status.idle": "2024-04-15T14:40:05.929026Z",
     "shell.execute_reply": "2024-04-15T14:40:05.927889Z"
    },
    "papermill": {
     "duration": 0.052262,
     "end_time": "2024-04-15T14:40:05.931318",
     "exception": false,
     "start_time": "2024-04-15T14:40:05.879056",
     "status": "completed"
    },
    "tags": []
   },
   "outputs": [
    {
     "name": "stdout",
     "output_type": "stream",
     "text": [
      "768\n"
     ]
    }
   ],
   "source": [
    "\n",
    "input_size = model.config.hidden_size  # Input size is the hidden size of RoBERTa\n",
    "hidden_size = 768\n",
    "num_labels = 2  # Number of output labels\n",
    "\n",
    "model.config.num_labels = num_labels\n",
    "model.classifier = CustomRobertaClassificationHead(input_size, hidden_size, num_labels)\n"
   ]
  },
  {
   "cell_type": "markdown",
   "id": "caa28165",
   "metadata": {
    "papermill": {
     "duration": 0.031975,
     "end_time": "2024-04-15T14:40:05.995570",
     "exception": false,
     "start_time": "2024-04-15T14:40:05.963595",
     "status": "completed"
    },
    "tags": []
   },
   "source": [
    "**Define Optimizer**"
   ]
  },
  {
   "cell_type": "code",
   "execution_count": 19,
   "id": "6efc7ebf",
   "metadata": {
    "execution": {
     "iopub.execute_input": "2024-04-15T14:40:06.060703Z",
     "iopub.status.busy": "2024-04-15T14:40:06.059760Z",
     "iopub.status.idle": "2024-04-15T14:40:06.775837Z",
     "shell.execute_reply": "2024-04-15T14:40:06.774785Z"
    },
    "id": "xpaNpYCjcVmV",
    "outputId": "9a395d5a-ff7c-4c9b-c718-17e65dfc8a37",
    "papermill": {
     "duration": 0.7511,
     "end_time": "2024-04-15T14:40:06.778136",
     "exception": false,
     "start_time": "2024-04-15T14:40:06.027036",
     "status": "completed"
    },
    "tags": []
   },
   "outputs": [
    {
     "name": "stderr",
     "output_type": "stream",
     "text": [
      "/opt/conda/lib/python3.10/site-packages/transformers/optimization.py:306: FutureWarning: This implementation of AdamW is deprecated and will be removed in a future version. Use thePyTorch implementation torch.optim.AdamW instead, or set `no_deprecation_warning=True` to disable this warning\n",
      "  warnings.warn(\n"
     ]
    }
   ],
   "source": [
    "# Optimizer \n",
    "optimizer = AdamW(model.parameters(),\n",
    "                  lr = 2e-5,\n",
    "                  eps = 1e-8,\n",
    "                  weight_decay=0.01\n",
    "                )"
   ]
  },
  {
   "cell_type": "markdown",
   "id": "ddf1e779",
   "metadata": {
    "papermill": {
     "duration": 0.026932,
     "end_time": "2024-04-15T14:40:06.833318",
     "exception": false,
     "start_time": "2024-04-15T14:40:06.806386",
     "status": "completed"
    },
    "tags": []
   },
   "source": [
    "**Define Scheduler and epochs**"
   ]
  },
  {
   "cell_type": "code",
   "execution_count": 20,
   "id": "ed17ba8b",
   "metadata": {
    "execution": {
     "iopub.execute_input": "2024-04-15T14:40:06.889489Z",
     "iopub.status.busy": "2024-04-15T14:40:06.888785Z",
     "iopub.status.idle": "2024-04-15T14:40:06.894120Z",
     "shell.execute_reply": "2024-04-15T14:40:06.893234Z"
    },
    "id": "KIv-ece0cteh",
    "papermill": {
     "duration": 0.035944,
     "end_time": "2024-04-15T14:40:06.896024",
     "exception": false,
     "start_time": "2024-04-15T14:40:06.860080",
     "status": "completed"
    },
    "tags": []
   },
   "outputs": [],
   "source": [
    "# Number of training epochs\n",
    "epochs = 4\n",
    "# Total number of training steps is number of batches * number of epochs.\n",
    "total_steps = len(train_dataloader) * epochs\n",
    "# Create the learning rate scheduler\n",
    "scheduler = get_linear_schedule_with_warmup(optimizer,\n",
    "                                            num_warmup_steps = 5,\n",
    "                                            num_training_steps = total_steps)"
   ]
  },
  {
   "cell_type": "code",
   "execution_count": 21,
   "id": "52c4f02d",
   "metadata": {
    "execution": {
     "iopub.execute_input": "2024-04-15T14:40:06.952770Z",
     "iopub.status.busy": "2024-04-15T14:40:06.952415Z",
     "iopub.status.idle": "2024-04-15T14:40:07.039273Z",
     "shell.execute_reply": "2024-04-15T14:40:07.038209Z"
    },
    "id": "slhVeeCqdbTW",
    "outputId": "2e410ca7-abfb-4239-8682-b736402705b9",
    "papermill": {
     "duration": 0.117669,
     "end_time": "2024-04-15T14:40:07.041385",
     "exception": false,
     "start_time": "2024-04-15T14:40:06.923716",
     "status": "completed"
    },
    "tags": []
   },
   "outputs": [
    {
     "name": "stdout",
     "output_type": "stream",
     "text": [
      "Using GPU: Tesla P100-PCIE-16GB\n"
     ]
    }
   ],
   "source": [
    "import torch\n",
    "\n",
    "# Check if GPU is available\n",
    "if torch.cuda.is_available():\n",
    "    device = torch.device(\"cuda\")\n",
    "    print('Using GPU:', torch.cuda.get_device_name(0))\n",
    "else:\n",
    "    device = torch.device(\"cpu\")\n",
    "    print('Using CPU')\n"
   ]
  },
  {
   "cell_type": "code",
   "execution_count": 22,
   "id": "a713cbc4",
   "metadata": {
    "execution": {
     "iopub.execute_input": "2024-04-15T14:40:07.100777Z",
     "iopub.status.busy": "2024-04-15T14:40:07.099745Z",
     "iopub.status.idle": "2024-04-15T14:40:07.560028Z",
     "shell.execute_reply": "2024-04-15T14:40:07.558315Z"
    },
    "id": "pEyGRvHSgwXM",
    "outputId": "c0f2b67a-2920-4983-8370-e955e8be7dcb",
    "papermill": {
     "duration": 0.491943,
     "end_time": "2024-04-15T14:40:07.562519",
     "exception": false,
     "start_time": "2024-04-15T14:40:07.070576",
     "status": "completed"
    },
    "tags": []
   },
   "outputs": [
    {
     "data": {
      "text/plain": [
       "XLMRobertaForSequenceClassification(\n",
       "  (roberta): RobertaModel(\n",
       "    (embeddings): RobertaEmbeddings(\n",
       "      (word_embeddings): Embedding(250002, 768, padding_idx=1)\n",
       "      (position_embeddings): Embedding(514, 768, padding_idx=1)\n",
       "      (token_type_embeddings): Embedding(1, 768)\n",
       "      (LayerNorm): LayerNorm((768,), eps=1e-05, elementwise_affine=True)\n",
       "      (dropout): Dropout(p=0.1, inplace=False)\n",
       "    )\n",
       "    (encoder): RobertaEncoder(\n",
       "      (layer): ModuleList(\n",
       "        (0-11): 12 x RobertaLayer(\n",
       "          (attention): RobertaAttention(\n",
       "            (self): RobertaSelfAttention(\n",
       "              (query): Linear(in_features=768, out_features=768, bias=True)\n",
       "              (key): Linear(in_features=768, out_features=768, bias=True)\n",
       "              (value): Linear(in_features=768, out_features=768, bias=True)\n",
       "              (dropout): Dropout(p=0.1, inplace=False)\n",
       "            )\n",
       "            (output): RobertaSelfOutput(\n",
       "              (dense): Linear(in_features=768, out_features=768, bias=True)\n",
       "              (LayerNorm): LayerNorm((768,), eps=1e-05, elementwise_affine=True)\n",
       "              (dropout): Dropout(p=0.1, inplace=False)\n",
       "            )\n",
       "          )\n",
       "          (intermediate): RobertaIntermediate(\n",
       "            (dense): Linear(in_features=768, out_features=3072, bias=True)\n",
       "          )\n",
       "          (output): RobertaOutput(\n",
       "            (dense): Linear(in_features=3072, out_features=768, bias=True)\n",
       "            (LayerNorm): LayerNorm((768,), eps=1e-05, elementwise_affine=True)\n",
       "            (dropout): Dropout(p=0.1, inplace=False)\n",
       "          )\n",
       "        )\n",
       "      )\n",
       "    )\n",
       "  )\n",
       "  (classifier): CustomRobertaClassificationHead(\n",
       "    (dense): Linear(in_features=768, out_features=768, bias=True)\n",
       "    (dropout): Dropout(p=0.1, inplace=False)\n",
       "    (additional_linear): Linear(in_features=768, out_features=768, bias=True)\n",
       "    (out_proj): Linear(in_features=768, out_features=2, bias=True)\n",
       "  )\n",
       ")"
      ]
     },
     "execution_count": 22,
     "metadata": {},
     "output_type": "execute_result"
    }
   ],
   "source": [
    "#move model to device\n",
    "model.to(device)"
   ]
  },
  {
   "cell_type": "code",
   "execution_count": 23,
   "id": "696cef32",
   "metadata": {
    "execution": {
     "iopub.execute_input": "2024-04-15T14:40:07.622545Z",
     "iopub.status.busy": "2024-04-15T14:40:07.621793Z",
     "iopub.status.idle": "2024-04-15T14:40:07.627087Z",
     "shell.execute_reply": "2024-04-15T14:40:07.626202Z"
    },
    "id": "TaXIy1qHAOA4",
    "papermill": {
     "duration": 0.036009,
     "end_time": "2024-04-15T14:40:07.629001",
     "exception": false,
     "start_time": "2024-04-15T14:40:07.592992",
     "status": "completed"
    },
    "tags": []
   },
   "outputs": [],
   "source": [
    "import time\n",
    "\n",
    "def epoch_time(start_time, end_time):\n",
    "    elapsed_time = end_time - start_time\n",
    "    elapsed_mins = int(elapsed_time / 60)\n",
    "    elapsed_secs = int(elapsed_time - (elapsed_mins * 60))\n",
    "    return elapsed_mins, elapsed_secs\n"
   ]
  },
  {
   "cell_type": "code",
   "execution_count": 24,
   "id": "554761ae",
   "metadata": {
    "execution": {
     "iopub.execute_input": "2024-04-15T14:40:07.687939Z",
     "iopub.status.busy": "2024-04-15T14:40:07.687577Z",
     "iopub.status.idle": "2024-04-15T14:40:07.693136Z",
     "shell.execute_reply": "2024-04-15T14:40:07.692075Z"
    },
    "id": "AOaKiA9hAPNK",
    "papermill": {
     "duration": 0.03918,
     "end_time": "2024-04-15T14:40:07.696792",
     "exception": false,
     "start_time": "2024-04-15T14:40:07.657612",
     "status": "completed"
    },
    "tags": []
   },
   "outputs": [],
   "source": [
    "\n",
    "import random\n",
    "\n",
    "seed_val = 111\n",
    "\n",
    "random.seed(seed_val)\n",
    "np.random.seed(seed_val)\n",
    "torch.manual_seed(seed_val)\n",
    "torch.cuda.manual_seed_all(seed_val)"
   ]
  },
  {
   "cell_type": "markdown",
   "id": "8d3daab0",
   "metadata": {
    "papermill": {
     "duration": 0.027923,
     "end_time": "2024-04-15T14:40:07.753079",
     "exception": false,
     "start_time": "2024-04-15T14:40:07.725156",
     "status": "completed"
    },
    "tags": []
   },
   "source": [
    "**Training and Validation Phase**"
   ]
  },
  {
   "cell_type": "code",
   "execution_count": 25,
   "id": "05fc33e4",
   "metadata": {
    "execution": {
     "iopub.execute_input": "2024-04-15T14:40:07.813334Z",
     "iopub.status.busy": "2024-04-15T14:40:07.812941Z",
     "iopub.status.idle": "2024-04-15T14:46:37.576372Z",
     "shell.execute_reply": "2024-04-15T14:46:37.575236Z"
    },
    "id": "iOB95Zq1FL-G",
    "outputId": "bac70d85-3dd1-4eb5-c8d1-5640428e3971",
    "papermill": {
     "duration": 389.827232,
     "end_time": "2024-04-15T14:46:37.609431",
     "exception": false,
     "start_time": "2024-04-15T14:40:07.782199",
     "status": "completed"
    },
    "tags": []
   },
   "outputs": [
    {
     "name": "stdout",
     "output_type": "stream",
     "text": [
      "Training report after iteration 1:\n",
      "              precision    recall  f1-score   support\n",
      "\n",
      "         NOT       0.77      0.73      0.75      3708\n",
      "         HOF       0.71      0.76      0.73      3240\n",
      "\n",
      "    accuracy                           0.74      6948\n",
      "   macro avg       0.74      0.74      0.74      6948\n",
      "weighted avg       0.74      0.74      0.74      6948\n",
      "\n",
      "Validation report after iteration 1:\n",
      "              precision    recall  f1-score   support\n",
      "\n",
      "         NOT       0.75      0.93      0.83       463\n",
      "         HOF       0.89      0.65      0.75       406\n",
      "\n",
      "    accuracy                           0.80       869\n",
      "   macro avg       0.82      0.79      0.79       869\n",
      "weighted avg       0.82      0.80      0.79       869\n",
      "\n",
      "Time: 1.0m 38.11675715446472s\n",
      "Training report after iteration 2:\n",
      "              precision    recall  f1-score   support\n",
      "\n",
      "         NOT       0.83      0.87      0.85      3708\n",
      "         HOF       0.84      0.80      0.82      3240\n",
      "\n",
      "    accuracy                           0.84      6948\n",
      "   macro avg       0.84      0.83      0.84      6948\n",
      "weighted avg       0.84      0.84      0.84      6948\n",
      "\n",
      "Validation report after iteration 2:\n",
      "              precision    recall  f1-score   support\n",
      "\n",
      "         NOT       0.84      0.89      0.86       463\n",
      "         HOF       0.87      0.80      0.83       406\n",
      "\n",
      "    accuracy                           0.85       869\n",
      "   macro avg       0.85      0.85      0.85       869\n",
      "weighted avg       0.85      0.85      0.85       869\n",
      "\n",
      "Time: 1.0m 37.189926862716675s\n",
      "Training report after iteration 3:\n",
      "              precision    recall  f1-score   support\n",
      "\n",
      "         NOT       0.87      0.90      0.89      3708\n",
      "         HOF       0.88      0.84      0.86      3240\n",
      "\n",
      "    accuracy                           0.87      6948\n",
      "   macro avg       0.88      0.87      0.87      6948\n",
      "weighted avg       0.88      0.87      0.87      6948\n",
      "\n",
      "Validation report after iteration 3:\n",
      "              precision    recall  f1-score   support\n",
      "\n",
      "         NOT       0.83      0.91      0.87       463\n",
      "         HOF       0.88      0.79      0.83       406\n",
      "\n",
      "    accuracy                           0.85       869\n",
      "   macro avg       0.86      0.85      0.85       869\n",
      "weighted avg       0.86      0.85      0.85       869\n",
      "\n",
      "Time: 1.0m 37.218921422958374s\n",
      "Training report after iteration 4:\n",
      "              precision    recall  f1-score   support\n",
      "\n",
      "         NOT       0.90      0.93      0.91      3708\n",
      "         HOF       0.92      0.88      0.90      3240\n",
      "\n",
      "    accuracy                           0.91      6948\n",
      "   macro avg       0.91      0.90      0.91      6948\n",
      "weighted avg       0.91      0.91      0.91      6948\n",
      "\n",
      "Validation report after iteration 4:\n",
      "              precision    recall  f1-score   support\n",
      "\n",
      "         NOT       0.86      0.87      0.86       463\n",
      "         HOF       0.85      0.83      0.84       406\n",
      "\n",
      "    accuracy                           0.85       869\n",
      "   macro avg       0.85      0.85      0.85       869\n",
      "weighted avg       0.85      0.85      0.85       869\n",
      "\n",
      "Time: 1.0m 37.22254014015198s\n"
     ]
    }
   ],
   "source": [
    "from sklearn.metrics import classification_report\n",
    "\n",
    "train_losses= []\n",
    "val_losses=[]\n",
    "\n",
    "for n in range(epochs):\n",
    "    # List to store predictions and ground truth labels for both training and validation sets\n",
    "    train_preds = []\n",
    "    train_labels_all = []\n",
    "    val_preds = []\n",
    "    val_labels_all = []\n",
    "\n",
    "    train_loss = 0\n",
    "    val_loss = 0\n",
    "    start_time = time.time()\n",
    "    \n",
    "    # Calculate number of mini-batches for training and validation sets\n",
    "    num_mb_train = len(train_dataloader)\n",
    "    num_mb_val = len(validation_dataloader)\n",
    "\n",
    "    # Training phase\n",
    "    for k, (mb_x, mb_m, mb_y) in enumerate(train_dataloader):\n",
    "        optimizer.zero_grad()\n",
    "        model.train()\n",
    "\n",
    "        mb_x = mb_x.to(device)\n",
    "        mb_m = mb_m.to(device)\n",
    "        mb_y = mb_y.to(device)\n",
    "\n",
    "        outputs = model(mb_x, attention_mask=mb_m, labels=mb_y)\n",
    "        loss = outputs[0]\n",
    "        loss.backward()\n",
    "        torch.nn.utils.clip_grad_norm_(model.parameters(), 1.0)\n",
    "        optimizer.step()\n",
    "        scheduler.step()\n",
    "\n",
    "        train_loss += loss.data / num_mb_train\n",
    "\n",
    "        # Append predictions and labels\n",
    "        train_preds += torch.argmax(outputs.logits, dim=1).cpu().tolist()\n",
    "        train_labels_all += mb_y.cpu().tolist()\n",
    "\n",
    "    # Validation phase\n",
    "    with torch.no_grad():\n",
    "        model.eval()\n",
    "\n",
    "        for k, (mb_x, mb_m, mb_y) in enumerate(validation_dataloader):\n",
    "            mb_x = mb_x.to(device)\n",
    "            mb_m = mb_m.to(device)\n",
    "            mb_y = mb_y.to(device)\n",
    "\n",
    "            outputs = model(mb_x, attention_mask=mb_m, labels=mb_y)\n",
    "            loss = outputs[0]\n",
    "            val_loss += loss.data / num_mb_val\n",
    "\n",
    "            # Append predictions and labels\n",
    "            val_preds += torch.argmax(outputs.logits, dim=1).cpu().tolist()\n",
    "            val_labels_all += mb_y.cpu().tolist()\n",
    "\n",
    "    # Compute metrics\n",
    "    train_report = classification_report(train_labels_all, train_preds, target_names=['NOT', 'HOF'])\n",
    "    val_report = classification_report(val_labels_all, val_preds, target_names=['NOT', 'HOF'])\n",
    "\n",
    "    print(f'Training report after iteration {n+1}:\\n{train_report}')\n",
    "    print(f'Validation report after iteration {n+1}:\\n{val_report}')\n",
    "\n",
    "    train_losses.append(train_loss.cpu())\n",
    "    val_losses.append(val_loss.cpu())\n",
    "\n",
    "    end_time = time.time()\n",
    "    epoch_mins, epoch_secs = divmod(end_time - start_time, 60)\n",
    "    print(f'Time: {epoch_mins}m {epoch_secs}s')\n"
   ]
  },
  {
   "cell_type": "code",
   "execution_count": 26,
   "id": "68dff6f5",
   "metadata": {
    "execution": {
     "iopub.execute_input": "2024-04-15T14:46:37.666663Z",
     "iopub.status.busy": "2024-04-15T14:46:37.666287Z",
     "iopub.status.idle": "2024-04-15T14:46:37.687835Z",
     "shell.execute_reply": "2024-04-15T14:46:37.686596Z"
    },
    "papermill": {
     "duration": 0.052529,
     "end_time": "2024-04-15T14:46:37.689849",
     "exception": false,
     "start_time": "2024-04-15T14:46:37.637320",
     "status": "completed"
    },
    "tags": []
   },
   "outputs": [
    {
     "name": "stdout",
     "output_type": "stream",
     "text": [
      "[tensor(0.5262), tensor(0.3849), tensor(0.3145), tensor(0.2540)]\n"
     ]
    }
   ],
   "source": [
    "print(train_losses)"
   ]
  },
  {
   "cell_type": "code",
   "execution_count": 27,
   "id": "308b2753",
   "metadata": {
    "execution": {
     "iopub.execute_input": "2024-04-15T14:46:37.749404Z",
     "iopub.status.busy": "2024-04-15T14:46:37.748597Z",
     "iopub.status.idle": "2024-04-15T14:46:37.755895Z",
     "shell.execute_reply": "2024-04-15T14:46:37.754885Z"
    },
    "papermill": {
     "duration": 0.039582,
     "end_time": "2024-04-15T14:46:37.757900",
     "exception": false,
     "start_time": "2024-04-15T14:46:37.718318",
     "status": "completed"
    },
    "tags": []
   },
   "outputs": [
    {
     "name": "stdout",
     "output_type": "stream",
     "text": [
      "[tensor(0.4869), tensor(0.3905), tensor(0.3633), tensor(0.3928)]\n"
     ]
    }
   ],
   "source": [
    "print(val_losses)"
   ]
  },
  {
   "cell_type": "markdown",
   "id": "0b9deace",
   "metadata": {
    "papermill": {
     "duration": 0.027975,
     "end_time": "2024-04-15T14:46:37.814446",
     "exception": false,
     "start_time": "2024-04-15T14:46:37.786471",
     "status": "completed"
    },
    "tags": []
   },
   "source": [
    "**Test Phase**"
   ]
  },
  {
   "cell_type": "code",
   "execution_count": 28,
   "id": "96d611f8",
   "metadata": {
    "execution": {
     "iopub.execute_input": "2024-04-15T14:46:37.872561Z",
     "iopub.status.busy": "2024-04-15T14:46:37.871803Z",
     "iopub.status.idle": "2024-04-15T14:46:40.941764Z",
     "shell.execute_reply": "2024-04-15T14:46:40.940937Z"
    },
    "papermill": {
     "duration": 3.101937,
     "end_time": "2024-04-15T14:46:40.944369",
     "exception": false,
     "start_time": "2024-04-15T14:46:37.842432",
     "status": "completed"
    },
    "tags": []
   },
   "outputs": [
    {
     "name": "stdout",
     "output_type": "stream",
     "text": [
      "Testing report:\n",
      "              precision    recall  f1-score   support\n",
      "\n",
      "         NOT       0.84      0.88      0.86       464\n",
      "         HOF       0.85      0.80      0.83       405\n",
      "\n",
      "    accuracy                           0.84       869\n",
      "   macro avg       0.84      0.84      0.84       869\n",
      "weighted avg       0.84      0.84      0.84       869\n",
      "\n"
     ]
    }
   ],
   "source": [
    "# Testing \n",
    "model.eval()\n",
    "test_preds = []\n",
    "test_labels_all = []\n",
    "\n",
    "with torch.no_grad():\n",
    "    for mb_x, mb_m, mb_y in test_dataloader:\n",
    "        mb_x = mb_x.to(device)\n",
    "        mb_m = mb_m.to(device)\n",
    "        mb_y = mb_y.to(device)\n",
    "\n",
    "        outputs = model(mb_x, attention_mask=mb_m, labels=mb_y)\n",
    "        test_preds += torch.argmax(outputs.logits, dim=1).cpu().tolist()\n",
    "        test_labels_all += mb_y.cpu().tolist()\n",
    "\n",
    "# Compute and print classification report for testing\n",
    "test_report = classification_report(test_labels_all, test_preds, target_names=['NOT', 'HOF'])\n",
    "print(f'Testing report:\\n{test_report}')"
   ]
  },
  {
   "cell_type": "markdown",
   "id": "b56a92ad",
   "metadata": {
    "papermill": {
     "duration": 0.027874,
     "end_time": "2024-04-15T14:46:41.002578",
     "exception": false,
     "start_time": "2024-04-15T14:46:40.974704",
     "status": "completed"
    },
    "tags": []
   },
   "source": [
    "**Confusion matrix for Test Data**"
   ]
  },
  {
   "cell_type": "code",
   "execution_count": 29,
   "id": "6e0f3b47",
   "metadata": {
    "execution": {
     "iopub.execute_input": "2024-04-15T14:46:41.061109Z",
     "iopub.status.busy": "2024-04-15T14:46:41.060534Z",
     "iopub.status.idle": "2024-04-15T14:46:41.526662Z",
     "shell.execute_reply": "2024-04-15T14:46:41.525645Z"
    },
    "id": "Whkmox8nPsKL",
    "outputId": "1c068a77-300e-4824-d954-bf2006ccf80c",
    "papermill": {
     "duration": 0.498543,
     "end_time": "2024-04-15T14:46:41.529009",
     "exception": false,
     "start_time": "2024-04-15T14:46:41.030466",
     "status": "completed"
    },
    "tags": []
   },
   "outputs": [
    {
     "data": {
      "image/png": "[encoded data removed]",
      "text/plain": [
       "<Figure size 800x600 with 2 Axes>"
      ]
     },
     "metadata": {},
     "output_type": "display_data"
    }
   ],
   "source": [
    "from sklearn.metrics import confusion_matrix\n",
    "import matplotlib.pyplot as plt\n",
    "import seaborn as sns\n",
    "\n",
    "conf_matrix = confusion_matrix(test_labels_all, test_preds)\n",
    "\n",
    "# Plot the confusion matrix\n",
    "plt.figure(figsize=(8, 6))\n",
    "sns.heatmap(conf_matrix, annot=True, fmt=\"d\", cmap=\"Blues\")\n",
    "plt.xlabel(\"Predicted Label\")\n",
    "plt.ylabel(\"True Label\")\n",
    "plt.title(\"Confusion Matrix\")\n",
    "plt.show()"
   ]
  }
 ],
 "metadata": {
  "accelerator": "GPU",
  "colab": {
   "gpuType": "T4",
   "provenance": []
  },
  "kaggle": {
   "accelerator": "gpu",
   "dataSources": [
    {
     "datasetId": 4571530,
     "sourceId": 7806275,
     "sourceType": "datasetVersion"
    },
    {
     "datasetId": 4575721,
     "sourceId": 7812037,
     "sourceType": "datasetVersion"
    },
    {
     "datasetId": 4576012,
     "sourceId": 7812392,
     "sourceType": "datasetVersion"
    },
    {
     "datasetId": 4793532,
     "sourceId": 8114020,
     "sourceType": "datasetVersion"
    },
    {
     "datasetId": 4795359,
     "sourceId": 8116476,
     "sourceType": "datasetVersion"
    }
   ],
   "dockerImageVersionId": 30684,
   "isGpuEnabled": true,
   "isInternetEnabled": true,
   "language": "python",
   "sourceType": "notebook"
  },
  "kernelspec": {
   "display_name": "Python 3",
   "language": "python",
   "name": "python3"
  },
  "language_info": {
   "codemirror_mode": {
    "name": "ipython",
    "version": 3
   },
   "file_extension": ".py",
   "mimetype": "text/x-python",
   "name": "python",
   "nbconvert_exporter": "python",
   "pygments_lexer": "ipython3",
   "version": "3.10.13"
  },
  "papermill": {
   "default_parameters": {},
   "duration": 483.414136,
   "end_time": "2024-04-15T14:46:45.145046",
   "environment_variables": {},
   "exception": null,
   "input_path": "__notebook__.ipynb",
   "output_path": "__notebook__.ipynb",
   "parameters": {},
   "start_time": "2024-04-15T14:38:41.730910",
   "version": "2.5.0"
  },
  "widgets": {
   "application/vnd.jupyter.widget-state+json": {
    "state": {
     "0843078ec37c4277bd56e58551732ce7": {
      "model_module": "@jupyter-widgets/base",
      "model_module_version": "1.2.0",
      "model_name": "LayoutModel",
      "state": {
       "_model_module": "@jupyter-widgets/base",
       "_model_module_version": "1.2.0",
       "_model_name": "LayoutModel",
       "_view_count": null,
       "_view_module": "@jupyter-widgets/base",
       "_view_module_version": "1.2.0",
       "_view_name": "LayoutView",
       "align_content": null,
       "align_items": null,
       "align_self": null,
       "border": null,
       "bottom": null,
       "display": null,
       "flex": null,
       "flex_flow": null,
       "grid_area": null,
       "grid_auto_columns": null,
       "grid_auto_flow": null,
       "grid_auto_rows": null,
       "grid_column": null,
       "grid_gap": null,
       "grid_row": null,
       "grid_template_areas": null,
       "grid_template_columns": null,
       "grid_template_rows": null,
       "height": null,
       "justify_content": null,
       "justify_items": null,
       "left": null,
       "margin": null,
       "max_height": null,
       "max_width": null,
       "min_height": null,
       "min_width": null,
       "object_fit": null,
       "object_position": null,
       "order": null,
       "overflow": null,
       "overflow_x": null,
       "overflow_y": null,
       "padding": null,
       "right": null,
       "top": null,
       "visibility": null,
       "width": null
      }
     },
     "0ba8fc34c79f430a8c0be89cd914ba62": {
      "model_module": "@jupyter-widgets/controls",
      "model_module_version": "1.5.0",
      "model_name": "DescriptionStyleModel",
      "state": {
       "_model_module": "@jupyter-widgets/controls",
       "_model_module_version": "1.5.0",
       "_model_name": "DescriptionStyleModel",
       "_view_count": null,
       "_view_module": "@jupyter-widgets/base",
       "_view_module_version": "1.2.0",
       "_view_name": "StyleView",
       "description_width": ""
      }
     },
     "0e9c6157b4da4a8a9f37756d9d5de578": {
      "model_module": "@jupyter-widgets/controls",
      "model_module_version": "1.5.0",
      "model_name": "HBoxModel",
      "state": {
       "_dom_classes": [],
       "_model_module": "@jupyter-widgets/controls",
       "_model_module_version": "1.5.0",
       "_model_name": "HBoxModel",
       "_view_count": null,
       "_view_module": "@jupyter-widgets/controls",
       "_view_module_version": "1.5.0",
       "_view_name": "HBoxView",
       "box_style": "",
       "children": [
        "IPY_MODEL_a2345b956b0641ebac82dd5c1d761c29",
        "IPY_MODEL_18ce3e7905c04742a204d36e6ffb859c",
        "IPY_MODEL_30db45a9a6934bd3863d5c7e99babcba"
       ],
       "layout": "IPY_MODEL_a0da829d4f9e4df19f4edfea6ce18a1b"
      }
     },
     "0f914d559bde4cf9b88260dbbe34d39c": {
      "model_module": "@jupyter-widgets/base",
      "model_module_version": "1.2.0",
      "model_name": "LayoutModel",
      "state": {
       "_model_module": "@jupyter-widgets/base",
       "_model_module_version": "1.2.0",
       "_model_name": "LayoutModel",
       "_view_count": null,
       "_view_module": "@jupyter-widgets/base",
       "_view_module_version": "1.2.0",
       "_view_name": "LayoutView",
       "align_content": null,
       "align_items": null,
       "align_self": null,
       "border": null,
       "bottom": null,
       "display": null,
       "flex": null,
       "flex_flow": null,
       "grid_area": null,
       "grid_auto_columns": null,
       "grid_auto_flow": null,
       "grid_auto_rows": null,
       "grid_column": null,
       "grid_gap": null,
       "grid_row": null,
       "grid_template_areas": null,
       "grid_template_columns": null,
       "grid_template_rows": null,
       "height": null,
       "justify_content": null,
       "justify_items": null,
       "left": null,
       "margin": null,
       "max_height": null,
       "max_width": null,
       "min_height": null,
       "min_width": null,
       "object_fit": null,
       "object_position": null,
       "order": null,
       "overflow": null,
       "overflow_x": null,
       "overflow_y": null,
       "padding": null,
       "right": null,
       "top": null,
       "visibility": null,
       "width": null
      }
     },
     "15ee23689f774d21831ca3770bf50d1e": {
      "model_module": "@jupyter-widgets/base",
      "model_module_version": "1.2.0",
      "model_name": "LayoutModel",
      "state": {
       "_model_module": "@jupyter-widgets/base",
       "_model_module_version": "1.2.0",
       "_model_name": "LayoutModel",
       "_view_count": null,
       "_view_module": "@jupyter-widgets/base",
       "_view_module_version": "1.2.0",
       "_view_name": "LayoutView",
       "align_content": null,
       "align_items": null,
       "align_self": null,
       "border": null,
       "bottom": null,
       "display": null,
       "flex": null,
       "flex_flow": null,
       "grid_area": null,
       "grid_auto_columns": null,
       "grid_auto_flow": null,
       "grid_auto_rows": null,
       "grid_column": null,
       "grid_gap": null,
       "grid_row": null,
       "grid_template_areas": null,
       "grid_template_columns": null,
       "grid_template_rows": null,
       "height": null,
       "justify_content": null,
       "justify_items": null,
       "left": null,
       "margin": null,
       "max_height": null,
       "max_width": null,
       "min_height": null,
       "min_width": null,
       "object_fit": null,
       "object_position": null,
       "order": null,
       "overflow": null,
       "overflow_x": null,
       "overflow_y": null,
       "padding": null,
       "right": null,
       "top": null,
       "visibility": null,
       "width": null
      }
     },
     "18ce3e7905c04742a204d36e6ffb859c": {
      "model_module": "@jupyter-widgets/controls",
      "model_module_version": "1.5.0",
      "model_name": "FloatProgressModel",
      "state": {
       "_dom_classes": [],
       "_model_module": "@jupyter-widgets/controls",
       "_model_module_version": "1.5.0",
       "_model_name": "FloatProgressModel",
       "_view_count": null,
       "_view_module": "@jupyter-widgets/controls",
       "_view_module_version": "1.5.0",
       "_view_name": "ProgressView",
       "bar_style": "success",
       "description": "",
       "description_tooltip": null,
       "layout": "IPY_MODEL_0843078ec37c4277bd56e58551732ce7",
       "max": 5069051.0,
       "min": 0.0,
       "orientation": "horizontal",
       "style": "IPY_MODEL_e4df273188f54cbdbd710d1ab69bd2bc",
       "value": 5069051.0
      }
     },
     "19f4d332ddcf4d129a709dda7a4bda80": {
      "model_module": "@jupyter-widgets/controls",
      "model_module_version": "1.5.0",
      "model_name": "FloatProgressModel",
      "state": {
       "_dom_classes": [],
       "_model_module": "@jupyter-widgets/controls",
       "_model_module_version": "1.5.0",
       "_model_name": "FloatProgressModel",
       "_view_count": null,
       "_view_module": "@jupyter-widgets/controls",
       "_view_module_version": "1.5.0",
       "_view_name": "ProgressView",
       "bar_style": "success",
       "description": "",
       "description_tooltip": null,
       "layout": "IPY_MODEL_2e2aa19050774c3fa59fabf5114b6e1e",
       "max": 25.0,
       "min": 0.0,
       "orientation": "horizontal",
       "style": "IPY_MODEL_b3e86ffdc5254e938fae41f27c29ac94",
       "value": 25.0
      }
     },
     "2a02207cd42e4bd4af03d6e6d3fe70a5": {
      "model_module": "@jupyter-widgets/base",
      "model_module_version": "1.2.0",
      "model_name": "LayoutModel",
      "state": {
       "_model_module": "@jupyter-widgets/base",
       "_model_module_version": "1.2.0",
       "_model_name": "LayoutModel",
       "_view_count": null,
       "_view_module": "@jupyter-widgets/base",
       "_view_module_version": "1.2.0",
       "_view_name": "LayoutView",
       "align_content": null,
       "align_items": null,
       "align_self": null,
       "border": null,
       "bottom": null,
       "display": null,
       "flex": null,
       "flex_flow": null,
       "grid_area": null,
       "grid_auto_columns": null,
       "grid_auto_flow": null,
       "grid_auto_rows": null,
       "grid_column": null,
       "grid_gap": null,
       "grid_row": null,
       "grid_template_areas": null,
       "grid_template_columns": null,
       "grid_template_rows": null,
       "height": null,
       "justify_content": null,
       "justify_items": null,
       "left": null,
       "margin": null,
       "max_height": null,
       "max_width": null,
       "min_height": null,
       "min_width": null,
       "object_fit": null,
       "object_position": null,
       "order": null,
       "overflow": null,
       "overflow_x": null,
       "overflow_y": null,
       "padding": null,
       "right": null,
       "top": null,
       "visibility": null,
       "width": null
      }
     },
     "2e2aa19050774c3fa59fabf5114b6e1e": {
      "model_module": "@jupyter-widgets/base",
      "model_module_version": "1.2.0",
      "model_name": "LayoutModel",
      "state": {
       "_model_module": "@jupyter-widgets/base",
       "_model_module_version": "1.2.0",
       "_model_name": "LayoutModel",
       "_view_count": null,
       "_view_module": "@jupyter-widgets/base",
       "_view_module_version": "1.2.0",
       "_view_name": "LayoutView",
       "align_content": null,
       "align_items": null,
       "align_self": null,
       "border": null,
       "bottom": null,
       "display": null,
       "flex": null,
       "flex_flow": null,
       "grid_area": null,
       "grid_auto_columns": null,
       "grid_auto_flow": null,
       "grid_auto_rows": null,
       "grid_column": null,
       "grid_gap": null,
       "grid_row": null,
       "grid_template_areas": null,
       "grid_template_columns": null,
       "grid_template_rows": null,
       "height": null,
       "justify_content": null,
       "justify_items": null,
       "left": null,
       "margin": null,
       "max_height": null,
       "max_width": null,
       "min_height": null,
       "min_width": null,
       "object_fit": null,
       "object_position": null,
       "order": null,
       "overflow": null,
       "overflow_x": null,
       "overflow_y": null,
       "padding": null,
       "right": null,
       "top": null,
       "visibility": null,
       "width": null
      }
     },
     "2e43dd3637ae4b08a165165985f40f97": {
      "model_module": "@jupyter-widgets/controls",
      "model_module_version": "1.5.0",
      "model_name": "ProgressStyleModel",
      "state": {
       "_model_module": "@jupyter-widgets/controls",
       "_model_module_version": "1.5.0",
       "_model_name": "ProgressStyleModel",
       "_view_count": null,
       "_view_module": "@jupyter-widgets/base",
       "_view_module_version": "1.2.0",
       "_view_name": "StyleView",
       "bar_color": null,
       "description_width": ""
      }
     },
     "2e6ee65315024e64a690669f8eabde78": {
      "model_module": "@jupyter-widgets/controls",
      "model_module_version": "1.5.0",
      "model_name": "HTMLModel",
      "state": {
       "_dom_classes": [],
       "_model_module": "@jupyter-widgets/controls",
       "_model_module_version": "1.5.0",
       "_model_name": "HTMLModel",
       "_view_count": null,
       "_view_module": "@jupyter-widgets/controls",
       "_view_module_version": "1.5.0",
       "_view_name": "HTMLView",
       "description": "",
       "description_tooltip": null,
       "layout": "IPY_MODEL_fa487e44e8fc40dfaca3fbc7f3e1b129",
       "placeholder": "​",
       "style": "IPY_MODEL_7669f473ee9f49e08d70ad115be2e691",
       "value": " 1.04G/1.04G [00:21&lt;00:00, 44.0MB/s]"
      }
     },
     "2fab7cd238bb4c3c9dbf797ca5e8acde": {
      "model_module": "@jupyter-widgets/controls",
      "model_module_version": "1.5.0",
      "model_name": "DescriptionStyleModel",
      "state": {
       "_model_module": "@jupyter-widgets/controls",
       "_model_module_version": "1.5.0",
       "_model_name": "DescriptionStyleModel",
       "_view_count": null,
       "_view_module": "@jupyter-widgets/base",
       "_view_module_version": "1.2.0",
       "_view_name": "StyleView",
       "description_width": ""
      }
     },
     "30db45a9a6934bd3863d5c7e99babcba": {
      "model_module": "@jupyter-widgets/controls",
      "model_module_version": "1.5.0",
      "model_name": "HTMLModel",
      "state": {
       "_dom_classes": [],
       "_model_module": "@jupyter-widgets/controls",
       "_model_module_version": "1.5.0",
       "_model_name": "HTMLModel",
       "_view_count": null,
       "_view_module": "@jupyter-widgets/controls",
       "_view_module_version": "1.5.0",
       "_view_name": "HTMLView",
       "description": "",
       "description_tooltip": null,
       "layout": "IPY_MODEL_451c3276e22442eda68aec8e3830dcdf",
       "placeholder": "​",
       "style": "IPY_MODEL_fa7d8570a82444e792cb440ce1708b03",
       "value": " 4.83M/4.83M [00:00&lt;00:00, 25.5MB/s]"
      }
     },
     "30f0a673b898441283ef0e806a3a60d1": {
      "model_module": "@jupyter-widgets/base",
      "model_module_version": "1.2.0",
      "model_name": "LayoutModel",
      "state": {
       "_model_module": "@jupyter-widgets/base",
       "_model_module_version": "1.2.0",
       "_model_name": "LayoutModel",
       "_view_count": null,
       "_view_module": "@jupyter-widgets/base",
       "_view_module_version": "1.2.0",
       "_view_name": "LayoutView",
       "align_content": null,
       "align_items": null,
       "align_self": null,
       "border": null,
       "bottom": null,
       "display": null,
       "flex": null,
       "flex_flow": null,
       "grid_area": null,
       "grid_auto_columns": null,
       "grid_auto_flow": null,
       "grid_auto_rows": null,
       "grid_column": null,
       "grid_gap": null,
       "grid_row": null,
       "grid_template_areas": null,
       "grid_template_columns": null,
       "grid_template_rows": null,
       "height": null,
       "justify_content": null,
       "justify_items": null,
       "left": null,
       "margin": null,
       "max_height": null,
       "max_width": null,
       "min_height": null,
       "min_width": null,
       "object_fit": null,
       "object_position": null,
       "order": null,
       "overflow": null,
       "overflow_x": null,
       "overflow_y": null,
       "padding": null,
       "right": null,
       "top": null,
       "visibility": null,
       "width": null
      }
     },
     "337d0c7ea87644bfb13fb9f4e26fce2a": {
      "model_module": "@jupyter-widgets/controls",
      "model_module_version": "1.5.0",
      "model_name": "FloatProgressModel",
      "state": {
       "_dom_classes": [],
       "_model_module": "@jupyter-widgets/controls",
       "_model_module_version": "1.5.0",
       "_model_name": "FloatProgressModel",
       "_view_count": null,
       "_view_module": "@jupyter-widgets/controls",
       "_view_module_version": "1.5.0",
       "_view_name": "ProgressView",
       "bar_style": "success",
       "description": "",
       "description_tooltip": null,
       "layout": "IPY_MODEL_e089f253ba0747f583c8cc2869ba4357",
       "max": 9096718.0,
       "min": 0.0,
       "orientation": "horizontal",
       "style": "IPY_MODEL_845f878e8b6846388b8ab30e973a98cd",
       "value": 9096718.0
      }
     },
     "39fea60750bf4d319798d50a37f839e4": {
      "model_module": "@jupyter-widgets/controls",
      "model_module_version": "1.5.0",
      "model_name": "DescriptionStyleModel",
      "state": {
       "_model_module": "@jupyter-widgets/controls",
       "_model_module_version": "1.5.0",
       "_model_name": "DescriptionStyleModel",
       "_view_count": null,
       "_view_module": "@jupyter-widgets/base",
       "_view_module_version": "1.2.0",
       "_view_name": "StyleView",
       "description_width": ""
      }
     },
     "3bedaa287917407fbcf81bc1be1c1043": {
      "model_module": "@jupyter-widgets/controls",
      "model_module_version": "1.5.0",
      "model_name": "ProgressStyleModel",
      "state": {
       "_model_module": "@jupyter-widgets/controls",
       "_model_module_version": "1.5.0",
       "_model_name": "ProgressStyleModel",
       "_view_count": null,
       "_view_module": "@jupyter-widgets/base",
       "_view_module_version": "1.2.0",
       "_view_name": "StyleView",
       "bar_color": null,
       "description_width": ""
      }
     },
     "407f6b621a4043d7823d2830d08becc7": {
      "model_module": "@jupyter-widgets/base",
      "model_module_version": "1.2.0",
      "model_name": "LayoutModel",
      "state": {
       "_model_module": "@jupyter-widgets/base",
       "_model_module_version": "1.2.0",
       "_model_name": "LayoutModel",
       "_view_count": null,
       "_view_module": "@jupyter-widgets/base",
       "_view_module_version": "1.2.0",
       "_view_name": "LayoutView",
       "align_content": null,
       "align_items": null,
       "align_self": null,
       "border": null,
       "bottom": null,
       "display": null,
       "flex": null,
       "flex_flow": null,
       "grid_area": null,
       "grid_auto_columns": null,
       "grid_auto_flow": null,
       "grid_auto_rows": null,
       "grid_column": null,
       "grid_gap": null,
       "grid_row": null,
       "grid_template_areas": null,
       "grid_template_columns": null,
       "grid_template_rows": null,
       "height": null,
       "justify_content": null,
       "justify_items": null,
       "left": null,
       "margin": null,
       "max_height": null,
       "max_width": null,
       "min_height": null,
       "min_width": null,
       "object_fit": null,
       "object_position": null,
       "order": null,
       "overflow": null,
       "overflow_x": null,
       "overflow_y": null,
       "padding": null,
       "right": null,
       "top": null,
       "visibility": null,
       "width": null
      }
     },
     "43d524c985ae4cf8889966dbac095799": {
      "model_module": "@jupyter-widgets/controls",
      "model_module_version": "1.5.0",
      "model_name": "HTMLModel",
      "state": {
       "_dom_classes": [],
       "_model_module": "@jupyter-widgets/controls",
       "_model_module_version": "1.5.0",
       "_model_name": "HTMLModel",
       "_view_count": null,
       "_view_module": "@jupyter-widgets/controls",
       "_view_module_version": "1.5.0",
       "_view_name": "HTMLView",
       "description": "",
       "description_tooltip": null,
       "layout": "IPY_MODEL_f72bbf45229b43c79b4c0f0f21e99867",
       "placeholder": "​",
       "style": "IPY_MODEL_2fab7cd238bb4c3c9dbf797ca5e8acde",
       "value": "Downloading: 100%"
      }
     },
     "451c3276e22442eda68aec8e3830dcdf": {
      "model_module": "@jupyter-widgets/base",
      "model_module_version": "1.2.0",
      "model_name": "LayoutModel",
      "state": {
       "_model_module": "@jupyter-widgets/base",
       "_model_module_version": "1.2.0",
       "_model_name": "LayoutModel",
       "_view_count": null,
       "_view_module": "@jupyter-widgets/base",
       "_view_module_version": "1.2.0",
       "_view_name": "LayoutView",
       "align_content": null,
       "align_items": null,
       "align_self": null,
       "border": null,
       "bottom": null,
       "display": null,
       "flex": null,
       "flex_flow": null,
       "grid_area": null,
       "grid_auto_columns": null,
       "grid_auto_flow": null,
       "grid_auto_rows": null,
       "grid_column": null,
       "grid_gap": null,
       "grid_row": null,
       "grid_template_areas": null,
       "grid_template_columns": null,
       "grid_template_rows": null,
       "height": null,
       "justify_content": null,
       "justify_items": null,
       "left": null,
       "margin": null,
       "max_height": null,
       "max_width": null,
       "min_height": null,
       "min_width": null,
       "object_fit": null,
       "object_position": null,
       "order": null,
       "overflow": null,
       "overflow_x": null,
       "overflow_y": null,
       "padding": null,
       "right": null,
       "top": null,
       "visibility": null,
       "width": null
      }
     },
     "48c50b4fcbdb49fbb0d4052d7f94ced6": {
      "model_module": "@jupyter-widgets/controls",
      "model_module_version": "1.5.0",
      "model_name": "DescriptionStyleModel",
      "state": {
       "_model_module": "@jupyter-widgets/controls",
       "_model_module_version": "1.5.0",
       "_model_name": "DescriptionStyleModel",
       "_view_count": null,
       "_view_module": "@jupyter-widgets/base",
       "_view_module_version": "1.2.0",
       "_view_name": "StyleView",
       "description_width": ""
      }
     },
     "49aac825bc764f2d8f487ddf5a9a6825": {
      "model_module": "@jupyter-widgets/controls",
      "model_module_version": "1.5.0",
      "model_name": "HTMLModel",
      "state": {
       "_dom_classes": [],
       "_model_module": "@jupyter-widgets/controls",
       "_model_module_version": "1.5.0",
       "_model_name": "HTMLModel",
       "_view_count": null,
       "_view_module": "@jupyter-widgets/controls",
       "_view_module_version": "1.5.0",
       "_view_name": "HTMLView",
       "description": "",
       "description_tooltip": null,
       "layout": "IPY_MODEL_407f6b621a4043d7823d2830d08becc7",
       "placeholder": "​",
       "style": "IPY_MODEL_da5d029e4e5d44d1b42bde0639740a9d",
       "value": "Downloading: 100%"
      }
     },
     "5ce8a79d999548db9b6278f37a8eed4a": {
      "model_module": "@jupyter-widgets/controls",
      "model_module_version": "1.5.0",
      "model_name": "FloatProgressModel",
      "state": {
       "_dom_classes": [],
       "_model_module": "@jupyter-widgets/controls",
       "_model_module_version": "1.5.0",
       "_model_name": "FloatProgressModel",
       "_view_count": null,
       "_view_module": "@jupyter-widgets/controls",
       "_view_module_version": "1.5.0",
       "_view_name": "ProgressView",
       "bar_style": "success",
       "description": "",
       "description_tooltip": null,
       "layout": "IPY_MODEL_5f630dddc3be4f1eb0472ee8460c8df1",
       "max": 1115590446.0,
       "min": 0.0,
       "orientation": "horizontal",
       "style": "IPY_MODEL_3bedaa287917407fbcf81bc1be1c1043",
       "value": 1115590446.0
      }
     },
     "5f630dddc3be4f1eb0472ee8460c8df1": {
      "model_module": "@jupyter-widgets/base",
      "model_module_version": "1.2.0",
      "model_name": "LayoutModel",
      "state": {
       "_model_module": "@jupyter-widgets/base",
       "_model_module_version": "1.2.0",
       "_model_name": "LayoutModel",
       "_view_count": null,
       "_view_module": "@jupyter-widgets/base",
       "_view_module_version": "1.2.0",
       "_view_name": "LayoutView",
       "align_content": null,
       "align_items": null,
       "align_self": null,
       "border": null,
       "bottom": null,
       "display": null,
       "flex": null,
       "flex_flow": null,
       "grid_area": null,
       "grid_auto_columns": null,
       "grid_auto_flow": null,
       "grid_auto_rows": null,
       "grid_column": null,
       "grid_gap": null,
       "grid_row": null,
       "grid_template_areas": null,
       "grid_template_columns": null,
       "grid_template_rows": null,
       "height": null,
       "justify_content": null,
       "justify_items": null,
       "left": null,
       "margin": null,
       "max_height": null,
       "max_width": null,
       "min_height": null,
       "min_width": null,
       "object_fit": null,
       "object_position": null,
       "order": null,
       "overflow": null,
       "overflow_x": null,
       "overflow_y": null,
       "padding": null,
       "right": null,
       "top": null,
       "visibility": null,
       "width": null
      }
     },
     "5ff89490ebe24ffa88d205612e7d1c01": {
      "model_module": "@jupyter-widgets/base",
      "model_module_version": "1.2.0",
      "model_name": "LayoutModel",
      "state": {
       "_model_module": "@jupyter-widgets/base",
       "_model_module_version": "1.2.0",
       "_model_name": "LayoutModel",
       "_view_count": null,
       "_view_module": "@jupyter-widgets/base",
       "_view_module_version": "1.2.0",
       "_view_name": "LayoutView",
       "align_content": null,
       "align_items": null,
       "align_self": null,
       "border": null,
       "bottom": null,
       "display": null,
       "flex": null,
       "flex_flow": null,
       "grid_area": null,
       "grid_auto_columns": null,
       "grid_auto_flow": null,
       "grid_auto_rows": null,
       "grid_column": null,
       "grid_gap": null,
       "grid_row": null,
       "grid_template_areas": null,
       "grid_template_columns": null,
       "grid_template_rows": null,
       "height": null,
       "justify_content": null,
       "justify_items": null,
       "left": null,
       "margin": null,
       "max_height": null,
       "max_width": null,
       "min_height": null,
       "min_width": null,
       "object_fit": null,
       "object_position": null,
       "order": null,
       "overflow": null,
       "overflow_x": null,
       "overflow_y": null,
       "padding": null,
       "right": null,
       "top": null,
       "visibility": null,
       "width": null
      }
     },
     "61c8012288e04c7e9ec972d10c5d3a4c": {
      "model_module": "@jupyter-widgets/controls",
      "model_module_version": "1.5.0",
      "model_name": "HTMLModel",
      "state": {
       "_dom_classes": [],
       "_model_module": "@jupyter-widgets/controls",
       "_model_module_version": "1.5.0",
       "_model_name": "HTMLModel",
       "_view_count": null,
       "_view_module": "@jupyter-widgets/controls",
       "_view_module_version": "1.5.0",
       "_view_name": "HTMLView",
       "description": "",
       "description_tooltip": null,
       "layout": "IPY_MODEL_5ff89490ebe24ffa88d205612e7d1c01",
       "placeholder": "​",
       "style": "IPY_MODEL_48c50b4fcbdb49fbb0d4052d7f94ced6",
       "value": " 8.68M/8.68M [00:00&lt;00:00, 46.4MB/s]"
      }
     },
     "672b016629f240098000c72f057f0135": {
      "model_module": "@jupyter-widgets/controls",
      "model_module_version": "1.5.0",
      "model_name": "HBoxModel",
      "state": {
       "_dom_classes": [],
       "_model_module": "@jupyter-widgets/controls",
       "_model_module_version": "1.5.0",
       "_model_name": "HBoxModel",
       "_view_count": null,
       "_view_module": "@jupyter-widgets/controls",
       "_view_module_version": "1.5.0",
       "_view_name": "HBoxView",
       "box_style": "",
       "children": [
        "IPY_MODEL_81c3418eff36415ca958f1137511ccf9",
        "IPY_MODEL_5ce8a79d999548db9b6278f37a8eed4a",
        "IPY_MODEL_2e6ee65315024e64a690669f8eabde78"
       ],
       "layout": "IPY_MODEL_e7f4653b3a4b484f903e9570ca34ac9e"
      }
     },
     "67a63c7f858a4b6a8229f5f473821db5": {
      "model_module": "@jupyter-widgets/controls",
      "model_module_version": "1.5.0",
      "model_name": "HTMLModel",
      "state": {
       "_dom_classes": [],
       "_model_module": "@jupyter-widgets/controls",
       "_model_module_version": "1.5.0",
       "_model_name": "HTMLModel",
       "_view_count": null,
       "_view_module": "@jupyter-widgets/controls",
       "_view_module_version": "1.5.0",
       "_view_name": "HTMLView",
       "description": "",
       "description_tooltip": null,
       "layout": "IPY_MODEL_b18e420e9b8247ebb173a7d67a4d6307",
       "placeholder": "​",
       "style": "IPY_MODEL_39fea60750bf4d319798d50a37f839e4",
       "value": "Downloading: 100%"
      }
     },
     "67cee8ad5a8c4a95a995324b7d809f29": {
      "model_module": "@jupyter-widgets/controls",
      "model_module_version": "1.5.0",
      "model_name": "FloatProgressModel",
      "state": {
       "_dom_classes": [],
       "_model_module": "@jupyter-widgets/controls",
       "_model_module_version": "1.5.0",
       "_model_name": "FloatProgressModel",
       "_view_count": null,
       "_view_module": "@jupyter-widgets/controls",
       "_view_module_version": "1.5.0",
       "_view_name": "ProgressView",
       "bar_style": "success",
       "description": "",
       "description_tooltip": null,
       "layout": "IPY_MODEL_0f914d559bde4cf9b88260dbbe34d39c",
       "max": 615.0,
       "min": 0.0,
       "orientation": "horizontal",
       "style": "IPY_MODEL_2e43dd3637ae4b08a165165985f40f97",
       "value": 615.0
      }
     },
     "6ef46126803b45369789b501fd0147b1": {
      "model_module": "@jupyter-widgets/base",
      "model_module_version": "1.2.0",
      "model_name": "LayoutModel",
      "state": {
       "_model_module": "@jupyter-widgets/base",
       "_model_module_version": "1.2.0",
       "_model_name": "LayoutModel",
       "_view_count": null,
       "_view_module": "@jupyter-widgets/base",
       "_view_module_version": "1.2.0",
       "_view_name": "LayoutView",
       "align_content": null,
       "align_items": null,
       "align_self": null,
       "border": null,
       "bottom": null,
       "display": null,
       "flex": null,
       "flex_flow": null,
       "grid_area": null,
       "grid_auto_columns": null,
       "grid_auto_flow": null,
       "grid_auto_rows": null,
       "grid_column": null,
       "grid_gap": null,
       "grid_row": null,
       "grid_template_areas": null,
       "grid_template_columns": null,
       "grid_template_rows": null,
       "height": null,
       "justify_content": null,
       "justify_items": null,
       "left": null,
       "margin": null,
       "max_height": null,
       "max_width": null,
       "min_height": null,
       "min_width": null,
       "object_fit": null,
       "object_position": null,
       "order": null,
       "overflow": null,
       "overflow_x": null,
       "overflow_y": null,
       "padding": null,
       "right": null,
       "top": null,
       "visibility": null,
       "width": null
      }
     },
     "70fc070bde814907bc174b4acec2b8aa": {
      "model_module": "@jupyter-widgets/controls",
      "model_module_version": "1.5.0",
      "model_name": "DescriptionStyleModel",
      "state": {
       "_model_module": "@jupyter-widgets/controls",
       "_model_module_version": "1.5.0",
       "_model_name": "DescriptionStyleModel",
       "_view_count": null,
       "_view_module": "@jupyter-widgets/base",
       "_view_module_version": "1.2.0",
       "_view_name": "StyleView",
       "description_width": ""
      }
     },
     "7669f473ee9f49e08d70ad115be2e691": {
      "model_module": "@jupyter-widgets/controls",
      "model_module_version": "1.5.0",
      "model_name": "DescriptionStyleModel",
      "state": {
       "_model_module": "@jupyter-widgets/controls",
       "_model_module_version": "1.5.0",
       "_model_name": "DescriptionStyleModel",
       "_view_count": null,
       "_view_module": "@jupyter-widgets/base",
       "_view_module_version": "1.2.0",
       "_view_name": "StyleView",
       "description_width": ""
      }
     },
     "81c3418eff36415ca958f1137511ccf9": {
      "model_module": "@jupyter-widgets/controls",
      "model_module_version": "1.5.0",
      "model_name": "HTMLModel",
      "state": {
       "_dom_classes": [],
       "_model_module": "@jupyter-widgets/controls",
       "_model_module_version": "1.5.0",
       "_model_name": "HTMLModel",
       "_view_count": null,
       "_view_module": "@jupyter-widgets/controls",
       "_view_module_version": "1.5.0",
       "_view_name": "HTMLView",
       "description": "",
       "description_tooltip": null,
       "layout": "IPY_MODEL_e8802ec7daa84338ba5329cdd638a16e",
       "placeholder": "​",
       "style": "IPY_MODEL_9cd19a93fe7c4c1ba767c4e38df75385",
       "value": "Downloading: 100%"
      }
     },
     "845f878e8b6846388b8ab30e973a98cd": {
      "model_module": "@jupyter-widgets/controls",
      "model_module_version": "1.5.0",
      "model_name": "ProgressStyleModel",
      "state": {
       "_model_module": "@jupyter-widgets/controls",
       "_model_module_version": "1.5.0",
       "_model_name": "ProgressStyleModel",
       "_view_count": null,
       "_view_module": "@jupyter-widgets/base",
       "_view_module_version": "1.2.0",
       "_view_name": "StyleView",
       "bar_color": null,
       "description_width": ""
      }
     },
     "85803b11de1147278e6af1307d007220": {
      "model_module": "@jupyter-widgets/controls",
      "model_module_version": "1.5.0",
      "model_name": "HBoxModel",
      "state": {
       "_dom_classes": [],
       "_model_module": "@jupyter-widgets/controls",
       "_model_module_version": "1.5.0",
       "_model_name": "HBoxModel",
       "_view_count": null,
       "_view_module": "@jupyter-widgets/controls",
       "_view_module_version": "1.5.0",
       "_view_name": "HBoxView",
       "box_style": "",
       "children": [
        "IPY_MODEL_49aac825bc764f2d8f487ddf5a9a6825",
        "IPY_MODEL_337d0c7ea87644bfb13fb9f4e26fce2a",
        "IPY_MODEL_61c8012288e04c7e9ec972d10c5d3a4c"
       ],
       "layout": "IPY_MODEL_2a02207cd42e4bd4af03d6e6d3fe70a5"
      }
     },
     "8fbeb6b10ce54475bfca9d562b12d679": {
      "model_module": "@jupyter-widgets/base",
      "model_module_version": "1.2.0",
      "model_name": "LayoutModel",
      "state": {
       "_model_module": "@jupyter-widgets/base",
       "_model_module_version": "1.2.0",
       "_model_name": "LayoutModel",
       "_view_count": null,
       "_view_module": "@jupyter-widgets/base",
       "_view_module_version": "1.2.0",
       "_view_name": "LayoutView",
       "align_content": null,
       "align_items": null,
       "align_self": null,
       "border": null,
       "bottom": null,
       "display": null,
       "flex": null,
       "flex_flow": null,
       "grid_area": null,
       "grid_auto_columns": null,
       "grid_auto_flow": null,
       "grid_auto_rows": null,
       "grid_column": null,
       "grid_gap": null,
       "grid_row": null,
       "grid_template_areas": null,
       "grid_template_columns": null,
       "grid_template_rows": null,
       "height": null,
       "justify_content": null,
       "justify_items": null,
       "left": null,
       "margin": null,
       "max_height": null,
       "max_width": null,
       "min_height": null,
       "min_width": null,
       "object_fit": null,
       "object_position": null,
       "order": null,
       "overflow": null,
       "overflow_x": null,
       "overflow_y": null,
       "padding": null,
       "right": null,
       "top": null,
       "visibility": null,
       "width": null
      }
     },
     "97b39febac14462ab52121bd5ad3c80d": {
      "model_module": "@jupyter-widgets/controls",
      "model_module_version": "1.5.0",
      "model_name": "HBoxModel",
      "state": {
       "_dom_classes": [],
       "_model_module": "@jupyter-widgets/controls",
       "_model_module_version": "1.5.0",
       "_model_name": "HBoxModel",
       "_view_count": null,
       "_view_module": "@jupyter-widgets/controls",
       "_view_module_version": "1.5.0",
       "_view_name": "HBoxView",
       "box_style": "",
       "children": [
        "IPY_MODEL_67a63c7f858a4b6a8229f5f473821db5",
        "IPY_MODEL_19f4d332ddcf4d129a709dda7a4bda80",
        "IPY_MODEL_aa967b66919948dba8fe0188f782c81c"
       ],
       "layout": "IPY_MODEL_30f0a673b898441283ef0e806a3a60d1"
      }
     },
     "9cd19a93fe7c4c1ba767c4e38df75385": {
      "model_module": "@jupyter-widgets/controls",
      "model_module_version": "1.5.0",
      "model_name": "DescriptionStyleModel",
      "state": {
       "_model_module": "@jupyter-widgets/controls",
       "_model_module_version": "1.5.0",
       "_model_name": "DescriptionStyleModel",
       "_view_count": null,
       "_view_module": "@jupyter-widgets/base",
       "_view_module_version": "1.2.0",
       "_view_name": "StyleView",
       "description_width": ""
      }
     },
     "a0da829d4f9e4df19f4edfea6ce18a1b": {
      "model_module": "@jupyter-widgets/base",
      "model_module_version": "1.2.0",
      "model_name": "LayoutModel",
      "state": {
       "_model_module": "@jupyter-widgets/base",
       "_model_module_version": "1.2.0",
       "_model_name": "LayoutModel",
       "_view_count": null,
       "_view_module": "@jupyter-widgets/base",
       "_view_module_version": "1.2.0",
       "_view_name": "LayoutView",
       "align_content": null,
       "align_items": null,
       "align_self": null,
       "border": null,
       "bottom": null,
       "display": null,
       "flex": null,
       "flex_flow": null,
       "grid_area": null,
       "grid_auto_columns": null,
       "grid_auto_flow": null,
       "grid_auto_rows": null,
       "grid_column": null,
       "grid_gap": null,
       "grid_row": null,
       "grid_template_areas": null,
       "grid_template_columns": null,
       "grid_template_rows": null,
       "height": null,
       "justify_content": null,
       "justify_items": null,
       "left": null,
       "margin": null,
       "max_height": null,
       "max_width": null,
       "min_height": null,
       "min_width": null,
       "object_fit": null,
       "object_position": null,
       "order": null,
       "overflow": null,
       "overflow_x": null,
       "overflow_y": null,
       "padding": null,
       "right": null,
       "top": null,
       "visibility": null,
       "width": null
      }
     },
     "a2345b956b0641ebac82dd5c1d761c29": {
      "model_module": "@jupyter-widgets/controls",
      "model_module_version": "1.5.0",
      "model_name": "HTMLModel",
      "state": {
       "_dom_classes": [],
       "_model_module": "@jupyter-widgets/controls",
       "_model_module_version": "1.5.0",
       "_model_name": "HTMLModel",
       "_view_count": null,
       "_view_module": "@jupyter-widgets/controls",
       "_view_module_version": "1.5.0",
       "_view_name": "HTMLView",
       "description": "",
       "description_tooltip": null,
       "layout": "IPY_MODEL_8fbeb6b10ce54475bfca9d562b12d679",
       "placeholder": "​",
       "style": "IPY_MODEL_a9219ee117f14730a02dadd528fb0136",
       "value": "Downloading: 100%"
      }
     },
     "a9219ee117f14730a02dadd528fb0136": {
      "model_module": "@jupyter-widgets/controls",
      "model_module_version": "1.5.0",
      "model_name": "DescriptionStyleModel",
      "state": {
       "_model_module": "@jupyter-widgets/controls",
       "_model_module_version": "1.5.0",
       "_model_name": "DescriptionStyleModel",
       "_view_count": null,
       "_view_module": "@jupyter-widgets/base",
       "_view_module_version": "1.2.0",
       "_view_name": "StyleView",
       "description_width": ""
      }
     },
     "aa967b66919948dba8fe0188f782c81c": {
      "model_module": "@jupyter-widgets/controls",
      "model_module_version": "1.5.0",
      "model_name": "HTMLModel",
      "state": {
       "_dom_classes": [],
       "_model_module": "@jupyter-widgets/controls",
       "_model_module_version": "1.5.0",
       "_model_name": "HTMLModel",
       "_view_count": null,
       "_view_module": "@jupyter-widgets/controls",
       "_view_module_version": "1.5.0",
       "_view_name": "HTMLView",
       "description": "",
       "description_tooltip": null,
       "layout": "IPY_MODEL_6ef46126803b45369789b501fd0147b1",
       "placeholder": "​",
       "style": "IPY_MODEL_0ba8fc34c79f430a8c0be89cd914ba62",
       "value": " 25.0/25.0 [00:00&lt;00:00, 2.04kB/s]"
      }
     },
     "b18e420e9b8247ebb173a7d67a4d6307": {
      "model_module": "@jupyter-widgets/base",
      "model_module_version": "1.2.0",
      "model_name": "LayoutModel",
      "state": {
       "_model_module": "@jupyter-widgets/base",
       "_model_module_version": "1.2.0",
       "_model_name": "LayoutModel",
       "_view_count": null,
       "_view_module": "@jupyter-widgets/base",
       "_view_module_version": "1.2.0",
       "_view_name": "LayoutView",
       "align_content": null,
       "align_items": null,
       "align_self": null,
       "border": null,
       "bottom": null,
       "display": null,
       "flex": null,
       "flex_flow": null,
       "grid_area": null,
       "grid_auto_columns": null,
       "grid_auto_flow": null,
       "grid_auto_rows": null,
       "grid_column": null,
       "grid_gap": null,
       "grid_row": null,
       "grid_template_areas": null,
       "grid_template_columns": null,
       "grid_template_rows": null,
       "height": null,
       "justify_content": null,
       "justify_items": null,
       "left": null,
       "margin": null,
       "max_height": null,
       "max_width": null,
       "min_height": null,
       "min_width": null,
       "object_fit": null,
       "object_position": null,
       "order": null,
       "overflow": null,
       "overflow_x": null,
       "overflow_y": null,
       "padding": null,
       "right": null,
       "top": null,
       "visibility": null,
       "width": null
      }
     },
     "b3e86ffdc5254e938fae41f27c29ac94": {
      "model_module": "@jupyter-widgets/controls",
      "model_module_version": "1.5.0",
      "model_name": "ProgressStyleModel",
      "state": {
       "_model_module": "@jupyter-widgets/controls",
       "_model_module_version": "1.5.0",
       "_model_name": "ProgressStyleModel",
       "_view_count": null,
       "_view_module": "@jupyter-widgets/base",
       "_view_module_version": "1.2.0",
       "_view_name": "StyleView",
       "bar_color": null,
       "description_width": ""
      }
     },
     "c3dd9e2e79ed49b392eb6a35bff70488": {
      "model_module": "@jupyter-widgets/controls",
      "model_module_version": "1.5.0",
      "model_name": "HTMLModel",
      "state": {
       "_dom_classes": [],
       "_model_module": "@jupyter-widgets/controls",
       "_model_module_version": "1.5.0",
       "_model_name": "HTMLModel",
       "_view_count": null,
       "_view_module": "@jupyter-widgets/controls",
       "_view_module_version": "1.5.0",
       "_view_name": "HTMLView",
       "description": "",
       "description_tooltip": null,
       "layout": "IPY_MODEL_e4d2f1769b474f939dea7d93d25966b2",
       "placeholder": "​",
       "style": "IPY_MODEL_70fc070bde814907bc174b4acec2b8aa",
       "value": " 615/615 [00:00&lt;00:00, 53.9kB/s]"
      }
     },
     "da5d029e4e5d44d1b42bde0639740a9d": {
      "model_module": "@jupyter-widgets/controls",
      "model_module_version": "1.5.0",
      "model_name": "DescriptionStyleModel",
      "state": {
       "_model_module": "@jupyter-widgets/controls",
       "_model_module_version": "1.5.0",
       "_model_name": "DescriptionStyleModel",
       "_view_count": null,
       "_view_module": "@jupyter-widgets/base",
       "_view_module_version": "1.2.0",
       "_view_name": "StyleView",
       "description_width": ""
      }
     },
     "e045463ef16341e19e0fbcba81d88627": {
      "model_module": "@jupyter-widgets/controls",
      "model_module_version": "1.5.0",
      "model_name": "HBoxModel",
      "state": {
       "_dom_classes": [],
       "_model_module": "@jupyter-widgets/controls",
       "_model_module_version": "1.5.0",
       "_model_name": "HBoxModel",
       "_view_count": null,
       "_view_module": "@jupyter-widgets/controls",
       "_view_module_version": "1.5.0",
       "_view_name": "HBoxView",
       "box_style": "",
       "children": [
        "IPY_MODEL_43d524c985ae4cf8889966dbac095799",
        "IPY_MODEL_67cee8ad5a8c4a95a995324b7d809f29",
        "IPY_MODEL_c3dd9e2e79ed49b392eb6a35bff70488"
       ],
       "layout": "IPY_MODEL_15ee23689f774d21831ca3770bf50d1e"
      }
     },
     "e089f253ba0747f583c8cc2869ba4357": {
      "model_module": "@jupyter-widgets/base",
      "model_module_version": "1.2.0",
      "model_name": "LayoutModel",
      "state": {
       "_model_module": "@jupyter-widgets/base",
       "_model_module_version": "1.2.0",
       "_model_name": "LayoutModel",
       "_view_count": null,
       "_view_module": "@jupyter-widgets/base",
       "_view_module_version": "1.2.0",
       "_view_name": "LayoutView",
       "align_content": null,
       "align_items": null,
       "align_self": null,
       "border": null,
       "bottom": null,
       "display": null,
       "flex": null,
       "flex_flow": null,
       "grid_area": null,
       "grid_auto_columns": null,
       "grid_auto_flow": null,
       "grid_auto_rows": null,
       "grid_column": null,
       "grid_gap": null,
       "grid_row": null,
       "grid_template_areas": null,
       "grid_template_columns": null,
       "grid_template_rows": null,
       "height": null,
       "justify_content": null,
       "justify_items": null,
       "left": null,
       "margin": null,
       "max_height": null,
       "max_width": null,
       "min_height": null,
       "min_width": null,
       "object_fit": null,
       "object_position": null,
       "order": null,
       "overflow": null,
       "overflow_x": null,
       "overflow_y": null,
       "padding": null,
       "right": null,
       "top": null,
       "visibility": null,
       "width": null
      }
     },
     "e4d2f1769b474f939dea7d93d25966b2": {
      "model_module": "@jupyter-widgets/base",
      "model_module_version": "1.2.0",
      "model_name": "LayoutModel",
      "state": {
       "_model_module": "@jupyter-widgets/base",
       "_model_module_version": "1.2.0",
       "_model_name": "LayoutModel",
       "_view_count": null,
       "_view_module": "@jupyter-widgets/base",
       "_view_module_version": "1.2.0",
       "_view_name": "LayoutView",
       "align_content": null,
       "align_items": null,
       "align_self": null,
       "border": null,
       "bottom": null,
       "display": null,
       "flex": null,
       "flex_flow": null,
       "grid_area": null,
       "grid_auto_columns": null,
       "grid_auto_flow": null,
       "grid_auto_rows": null,
       "grid_column": null,
       "grid_gap": null,
       "grid_row": null,
       "grid_template_areas": null,
       "grid_template_columns": null,
       "grid_template_rows": null,
       "height": null,
       "justify_content": null,
       "justify_items": null,
       "left": null,
       "margin": null,
       "max_height": null,
       "max_width": null,
       "min_height": null,
       "min_width": null,
       "object_fit": null,
       "object_position": null,
       "order": null,
       "overflow": null,
       "overflow_x": null,
       "overflow_y": null,
       "padding": null,
       "right": null,
       "top": null,
       "visibility": null,
       "width": null
      }
     },
     "e4df273188f54cbdbd710d1ab69bd2bc": {
      "model_module": "@jupyter-widgets/controls",
      "model_module_version": "1.5.0",
      "model_name": "ProgressStyleModel",
      "state": {
       "_model_module": "@jupyter-widgets/controls",
       "_model_module_version": "1.5.0",
       "_model_name": "ProgressStyleModel",
       "_view_count": null,
       "_view_module": "@jupyter-widgets/base",
       "_view_module_version": "1.2.0",
       "_view_name": "StyleView",
       "bar_color": null,
       "description_width": ""
      }
     },
     "e7f4653b3a4b484f903e9570ca34ac9e": {
      "model_module": "@jupyter-widgets/base",
      "model_module_version": "1.2.0",
      "model_name": "LayoutModel",
      "state": {
       "_model_module": "@jupyter-widgets/base",
       "_model_module_version": "1.2.0",
       "_model_name": "LayoutModel",
       "_view_count": null,
       "_view_module": "@jupyter-widgets/base",
       "_view_module_version": "1.2.0",
       "_view_name": "LayoutView",
       "align_content": null,
       "align_items": null,
       "align_self": null,
       "border": null,
       "bottom": null,
       "display": null,
       "flex": null,
       "flex_flow": null,
       "grid_area": null,
       "grid_auto_columns": null,
       "grid_auto_flow": null,
       "grid_auto_rows": null,
       "grid_column": null,
       "grid_gap": null,
       "grid_row": null,
       "grid_template_areas": null,
       "grid_template_columns": null,
       "grid_template_rows": null,
       "height": null,
       "justify_content": null,
       "justify_items": null,
       "left": null,
       "margin": null,
       "max_height": null,
       "max_width": null,
       "min_height": null,
       "min_width": null,
       "object_fit": null,
       "object_position": null,
       "order": null,
       "overflow": null,
       "overflow_x": null,
       "overflow_y": null,
       "padding": null,
       "right": null,
       "top": null,
       "visibility": null,
       "width": null
      }
     },
     "e8802ec7daa84338ba5329cdd638a16e": {
      "model_module": "@jupyter-widgets/base",
      "model_module_version": "1.2.0",
      "model_name": "LayoutModel",
      "state": {
       "_model_module": "@jupyter-widgets/base",
       "_model_module_version": "1.2.0",
       "_model_name": "LayoutModel",
       "_view_count": null,
       "_view_module": "@jupyter-widgets/base",
       "_view_module_version": "1.2.0",
       "_view_name": "LayoutView",
       "align_content": null,
       "align_items": null,
       "align_self": null,
       "border": null,
       "bottom": null,
       "display": null,
       "flex": null,
       "flex_flow": null,
       "grid_area": null,
       "grid_auto_columns": null,
       "grid_auto_flow": null,
       "grid_auto_rows": null,
       "grid_column": null,
       "grid_gap": null,
       "grid_row": null,
       "grid_template_areas": null,
       "grid_template_columns": null,
       "grid_template_rows": null,
       "height": null,
       "justify_content": null,
       "justify_items": null,
       "left": null,
       "margin": null,
       "max_height": null,
       "max_width": null,
       "min_height": null,
       "min_width": null,
       "object_fit": null,
       "object_position": null,
       "order": null,
       "overflow": null,
       "overflow_x": null,
       "overflow_y": null,
       "padding": null,
       "right": null,
       "top": null,
       "visibility": null,
       "width": null
      }
     },
     "f72bbf45229b43c79b4c0f0f21e99867": {
      "model_module": "@jupyter-widgets/base",
      "model_module_version": "1.2.0",
      "model_name": "LayoutModel",
      "state": {
       "_model_module": "@jupyter-widgets/base",
       "_model_module_version": "1.2.0",
       "_model_name": "LayoutModel",
       "_view_count": null,
       "_view_module": "@jupyter-widgets/base",
       "_view_module_version": "1.2.0",
       "_view_name": "LayoutView",
       "align_content": null,
       "align_items": null,
       "align_self": null,
       "border": null,
       "bottom": null,
       "display": null,
       "flex": null,
       "flex_flow": null,
       "grid_area": null,
       "grid_auto_columns": null,
       "grid_auto_flow": null,
       "grid_auto_rows": null,
       "grid_column": null,
       "grid_gap": null,
       "grid_row": null,
       "grid_template_areas": null,
       "grid_template_columns": null,
       "grid_template_rows": null,
       "height": null,
       "justify_content": null,
       "justify_items": null,
       "left": null,
       "margin": null,
       "max_height": null,
       "max_width": null,
       "min_height": null,
       "min_width": null,
       "object_fit": null,
       "object_position": null,
       "order": null,
       "overflow": null,
       "overflow_x": null,
       "overflow_y": null,
       "padding": null,
       "right": null,
       "top": null,
       "visibility": null,
       "width": null
      }
     },
     "fa487e44e8fc40dfaca3fbc7f3e1b129": {
      "model_module": "@jupyter-widgets/base",
      "model_module_version": "1.2.0",
      "model_name": "LayoutModel",
      "state": {
       "_model_module": "@jupyter-widgets/base",
       "_model_module_version": "1.2.0",
       "_model_name": "LayoutModel",
       "_view_count": null,
       "_view_module": "@jupyter-widgets/base",
       "_view_module_version": "1.2.0",
       "_view_name": "LayoutView",
       "align_content": null,
       "align_items": null,
       "align_self": null,
       "border": null,
       "bottom": null,
       "display": null,
       "flex": null,
       "flex_flow": null,
       "grid_area": null,
       "grid_auto_columns": null,
       "grid_auto_flow": null,
       "grid_auto_rows": null,
       "grid_column": null,
       "grid_gap": null,
       "grid_row": null,
       "grid_template_areas": null,
       "grid_template_columns": null,
       "grid_template_rows": null,
       "height": null,
       "justify_content": null,
       "justify_items": null,
       "left": null,
       "margin": null,
       "max_height": null,
       "max_width": null,
       "min_height": null,
       "min_width": null,
       "object_fit": null,
       "object_position": null,
       "order": null,
       "overflow": null,
       "overflow_x": null,
       "overflow_y": null,
       "padding": null,
       "right": null,
       "top": null,
       "visibility": null,
       "width": null
      }
     },
     "fa7d8570a82444e792cb440ce1708b03": {
      "model_module": "@jupyter-widgets/controls",
      "model_module_version": "1.5.0",
      "model_name": "DescriptionStyleModel",
      "state": {
       "_model_module": "@jupyter-widgets/controls",
       "_model_module_version": "1.5.0",
       "_model_name": "DescriptionStyleModel",
       "_view_count": null,
       "_view_module": "@jupyter-widgets/base",
       "_view_module_version": "1.2.0",
       "_view_name": "StyleView",
       "description_width": ""
      }
     }
    },
    "version_major": 2,
    "version_minor": 0
   }
  }
 },
 "nbformat": 4,
 "nbformat_minor": 5
}
