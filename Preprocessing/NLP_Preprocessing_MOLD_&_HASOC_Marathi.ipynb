{
  "metadata": {
    "kernelspec": {
      "language": "python",
      "display_name": "Python 3",
      "name": "python3"
    },
    "language_info": {
      "name": "python",
      "version": "3.10.13",
      "mimetype": "text/x-python",
      "codemirror_mode": {
        "name": "ipython",
        "version": 3
      },
      "pygments_lexer": "ipython3",
      "nbconvert_exporter": "python",
      "file_extension": ".py"
    },
    "kaggle": {
      "accelerator": "none",
      "dataSources": [
        {
          "sourceId": 7809159,
          "sourceType": "datasetVersion",
          "datasetId": 4573657
        },
        {
          "sourceId": 7809170,
          "sourceType": "datasetVersion",
          "datasetId": 4573667
        }
      ],
      "dockerImageVersionId": 30646,
      "isInternetEnabled": true,
      "language": "python",
      "sourceType": "notebook",
      "isGpuEnabled": false
    },
    "colab": {
      "provenance": []
    },
    "widgets": {
      "application/vnd.jupyter.widget-state+json": {
        "6762a503cd93403990d516b5e3c6fe42": {
          "model_module": "@jupyter-widgets/controls",
          "model_name": "HBoxModel",
          "model_module_version": "1.5.0",
          "state": {
            "_dom_classes": [],
            "_model_module": "@jupyter-widgets/controls",
            "_model_module_version": "1.5.0",
            "_model_name": "HBoxModel",
            "_view_count": null,
            "_view_module": "@jupyter-widgets/controls",
            "_view_module_version": "1.5.0",
            "_view_name": "HBoxView",
            "box_style": "",
            "children": [
              "IPY_MODEL_1be1bc875bcf412581716e1b453e94a5",
              "IPY_MODEL_13bcf5b404ea493db081e0960ead88db",
              "IPY_MODEL_e5c5717d47424854be67169db263ff6d"
            ],
            "layout": "IPY_MODEL_c277eaf091044bfbbfb079d16c66f450"
          }
        },
        "1be1bc875bcf412581716e1b453e94a5": {
          "model_module": "@jupyter-widgets/controls",
          "model_name": "HTMLModel",
          "model_module_version": "1.5.0",
          "state": {
            "_dom_classes": [],
            "_model_module": "@jupyter-widgets/controls",
            "_model_module_version": "1.5.0",
            "_model_name": "HTMLModel",
            "_view_count": null,
            "_view_module": "@jupyter-widgets/controls",
            "_view_module_version": "1.5.0",
            "_view_name": "HTMLView",
            "description": "",
            "description_tooltip": null,
            "layout": "IPY_MODEL_bc3a76d1a85d43178b880261cb511ef5",
            "placeholder": "​",
            "style": "IPY_MODEL_ca6f272920a04e3fbd586a4c05b28fa9",
            "value": "tokenizer_config.json: 100%"
          }
        },
        "13bcf5b404ea493db081e0960ead88db": {
          "model_module": "@jupyter-widgets/controls",
          "model_name": "FloatProgressModel",
          "model_module_version": "1.5.0",
          "state": {
            "_dom_classes": [],
            "_model_module": "@jupyter-widgets/controls",
            "_model_module_version": "1.5.0",
            "_model_name": "FloatProgressModel",
            "_view_count": null,
            "_view_module": "@jupyter-widgets/controls",
            "_view_module_version": "1.5.0",
            "_view_name": "ProgressView",
            "bar_style": "success",
            "description": "",
            "description_tooltip": null,
            "layout": "IPY_MODEL_95fda77d044e40eaa15186cf97923e36",
            "max": 49,
            "min": 0,
            "orientation": "horizontal",
            "style": "IPY_MODEL_d30ae7a28ffc4fa5a81e97642de7d641",
            "value": 49
          }
        },
        "e5c5717d47424854be67169db263ff6d": {
          "model_module": "@jupyter-widgets/controls",
          "model_name": "HTMLModel",
          "model_module_version": "1.5.0",
          "state": {
            "_dom_classes": [],
            "_model_module": "@jupyter-widgets/controls",
            "_model_module_version": "1.5.0",
            "_model_name": "HTMLModel",
            "_view_count": null,
            "_view_module": "@jupyter-widgets/controls",
            "_view_module_version": "1.5.0",
            "_view_name": "HTMLView",
            "description": "",
            "description_tooltip": null,
            "layout": "IPY_MODEL_ba77992c88a24cadb3c2ceabe27c7f46",
            "placeholder": "​",
            "style": "IPY_MODEL_4017078407574f2ebd92b8f8954e0123",
            "value": " 49.0/49.0 [00:00&lt;00:00, 1.03kB/s]"
          }
        },
        "c277eaf091044bfbbfb079d16c66f450": {
          "model_module": "@jupyter-widgets/base",
          "model_name": "LayoutModel",
          "model_module_version": "1.2.0",
          "state": {
            "_model_module": "@jupyter-widgets/base",
            "_model_module_version": "1.2.0",
            "_model_name": "LayoutModel",
            "_view_count": null,
            "_view_module": "@jupyter-widgets/base",
            "_view_module_version": "1.2.0",
            "_view_name": "LayoutView",
            "align_content": null,
            "align_items": null,
            "align_self": null,
            "border": null,
            "bottom": null,
            "display": null,
            "flex": null,
            "flex_flow": null,
            "grid_area": null,
            "grid_auto_columns": null,
            "grid_auto_flow": null,
            "grid_auto_rows": null,
            "grid_column": null,
            "grid_gap": null,
            "grid_row": null,
            "grid_template_areas": null,
            "grid_template_columns": null,
            "grid_template_rows": null,
            "height": null,
            "justify_content": null,
            "justify_items": null,
            "left": null,
            "margin": null,
            "max_height": null,
            "max_width": null,
            "min_height": null,
            "min_width": null,
            "object_fit": null,
            "object_position": null,
            "order": null,
            "overflow": null,
            "overflow_x": null,
            "overflow_y": null,
            "padding": null,
            "right": null,
            "top": null,
            "visibility": null,
            "width": null
          }
        },
        "bc3a76d1a85d43178b880261cb511ef5": {
          "model_module": "@jupyter-widgets/base",
          "model_name": "LayoutModel",
          "model_module_version": "1.2.0",
          "state": {
            "_model_module": "@jupyter-widgets/base",
            "_model_module_version": "1.2.0",
            "_model_name": "LayoutModel",
            "_view_count": null,
            "_view_module": "@jupyter-widgets/base",
            "_view_module_version": "1.2.0",
            "_view_name": "LayoutView",
            "align_content": null,
            "align_items": null,
            "align_self": null,
            "border": null,
            "bottom": null,
            "display": null,
            "flex": null,
            "flex_flow": null,
            "grid_area": null,
            "grid_auto_columns": null,
            "grid_auto_flow": null,
            "grid_auto_rows": null,
            "grid_column": null,
            "grid_gap": null,
            "grid_row": null,
            "grid_template_areas": null,
            "grid_template_columns": null,
            "grid_template_rows": null,
            "height": null,
            "justify_content": null,
            "justify_items": null,
            "left": null,
            "margin": null,
            "max_height": null,
            "max_width": null,
            "min_height": null,
            "min_width": null,
            "object_fit": null,
            "object_position": null,
            "order": null,
            "overflow": null,
            "overflow_x": null,
            "overflow_y": null,
            "padding": null,
            "right": null,
            "top": null,
            "visibility": null,
            "width": null
          }
        },
        "ca6f272920a04e3fbd586a4c05b28fa9": {
          "model_module": "@jupyter-widgets/controls",
          "model_name": "DescriptionStyleModel",
          "model_module_version": "1.5.0",
          "state": {
            "_model_module": "@jupyter-widgets/controls",
            "_model_module_version": "1.5.0",
            "_model_name": "DescriptionStyleModel",
            "_view_count": null,
            "_view_module": "@jupyter-widgets/base",
            "_view_module_version": "1.2.0",
            "_view_name": "StyleView",
            "description_width": ""
          }
        },
        "95fda77d044e40eaa15186cf97923e36": {
          "model_module": "@jupyter-widgets/base",
          "model_name": "LayoutModel",
          "model_module_version": "1.2.0",
          "state": {
            "_model_module": "@jupyter-widgets/base",
            "_model_module_version": "1.2.0",
            "_model_name": "LayoutModel",
            "_view_count": null,
            "_view_module": "@jupyter-widgets/base",
            "_view_module_version": "1.2.0",
            "_view_name": "LayoutView",
            "align_content": null,
            "align_items": null,
            "align_self": null,
            "border": null,
            "bottom": null,
            "display": null,
            "flex": null,
            "flex_flow": null,
            "grid_area": null,
            "grid_auto_columns": null,
            "grid_auto_flow": null,
            "grid_auto_rows": null,
            "grid_column": null,
            "grid_gap": null,
            "grid_row": null,
            "grid_template_areas": null,
            "grid_template_columns": null,
            "grid_template_rows": null,
            "height": null,
            "justify_content": null,
            "justify_items": null,
            "left": null,
            "margin": null,
            "max_height": null,
            "max_width": null,
            "min_height": null,
            "min_width": null,
            "object_fit": null,
            "object_position": null,
            "order": null,
            "overflow": null,
            "overflow_x": null,
            "overflow_y": null,
            "padding": null,
            "right": null,
            "top": null,
            "visibility": null,
            "width": null
          }
        },
        "d30ae7a28ffc4fa5a81e97642de7d641": {
          "model_module": "@jupyter-widgets/controls",
          "model_name": "ProgressStyleModel",
          "model_module_version": "1.5.0",
          "state": {
            "_model_module": "@jupyter-widgets/controls",
            "_model_module_version": "1.5.0",
            "_model_name": "ProgressStyleModel",
            "_view_count": null,
            "_view_module": "@jupyter-widgets/base",
            "_view_module_version": "1.2.0",
            "_view_name": "StyleView",
            "bar_color": null,
            "description_width": ""
          }
        },
        "ba77992c88a24cadb3c2ceabe27c7f46": {
          "model_module": "@jupyter-widgets/base",
          "model_name": "LayoutModel",
          "model_module_version": "1.2.0",
          "state": {
            "_model_module": "@jupyter-widgets/base",
            "_model_module_version": "1.2.0",
            "_model_name": "LayoutModel",
            "_view_count": null,
            "_view_module": "@jupyter-widgets/base",
            "_view_module_version": "1.2.0",
            "_view_name": "LayoutView",
            "align_content": null,
            "align_items": null,
            "align_self": null,
            "border": null,
            "bottom": null,
            "display": null,
            "flex": null,
            "flex_flow": null,
            "grid_area": null,
            "grid_auto_columns": null,
            "grid_auto_flow": null,
            "grid_auto_rows": null,
            "grid_column": null,
            "grid_gap": null,
            "grid_row": null,
            "grid_template_areas": null,
            "grid_template_columns": null,
            "grid_template_rows": null,
            "height": null,
            "justify_content": null,
            "justify_items": null,
            "left": null,
            "margin": null,
            "max_height": null,
            "max_width": null,
            "min_height": null,
            "min_width": null,
            "object_fit": null,
            "object_position": null,
            "order": null,
            "overflow": null,
            "overflow_x": null,
            "overflow_y": null,
            "padding": null,
            "right": null,
            "top": null,
            "visibility": null,
            "width": null
          }
        },
        "4017078407574f2ebd92b8f8954e0123": {
          "model_module": "@jupyter-widgets/controls",
          "model_name": "DescriptionStyleModel",
          "model_module_version": "1.5.0",
          "state": {
            "_model_module": "@jupyter-widgets/controls",
            "_model_module_version": "1.5.0",
            "_model_name": "DescriptionStyleModel",
            "_view_count": null,
            "_view_module": "@jupyter-widgets/base",
            "_view_module_version": "1.2.0",
            "_view_name": "StyleView",
            "description_width": ""
          }
        },
        "f1f2117de83047b796552dda7085da58": {
          "model_module": "@jupyter-widgets/controls",
          "model_name": "HBoxModel",
          "model_module_version": "1.5.0",
          "state": {
            "_dom_classes": [],
            "_model_module": "@jupyter-widgets/controls",
            "_model_module_version": "1.5.0",
            "_model_name": "HBoxModel",
            "_view_count": null,
            "_view_module": "@jupyter-widgets/controls",
            "_view_module_version": "1.5.0",
            "_view_name": "HBoxView",
            "box_style": "",
            "children": [
              "IPY_MODEL_47855b127ae84c449a023b3e4cf8c3db",
              "IPY_MODEL_4bc54a6be59c4ec2897bec612ffb0b89",
              "IPY_MODEL_d4a954613dff4891bff3fc7ed2657b6d"
            ],
            "layout": "IPY_MODEL_0ca19c3179884c259755db5348f9064b"
          }
        },
        "47855b127ae84c449a023b3e4cf8c3db": {
          "model_module": "@jupyter-widgets/controls",
          "model_name": "HTMLModel",
          "model_module_version": "1.5.0",
          "state": {
            "_dom_classes": [],
            "_model_module": "@jupyter-widgets/controls",
            "_model_module_version": "1.5.0",
            "_model_name": "HTMLModel",
            "_view_count": null,
            "_view_module": "@jupyter-widgets/controls",
            "_view_module_version": "1.5.0",
            "_view_name": "HTMLView",
            "description": "",
            "description_tooltip": null,
            "layout": "IPY_MODEL_b1729e14de8643099820e23f02571de2",
            "placeholder": "​",
            "style": "IPY_MODEL_b4ac65567d4f4c89b886dfda195f1f42",
            "value": "vocab.txt: 100%"
          }
        },
        "4bc54a6be59c4ec2897bec612ffb0b89": {
          "model_module": "@jupyter-widgets/controls",
          "model_name": "FloatProgressModel",
          "model_module_version": "1.5.0",
          "state": {
            "_dom_classes": [],
            "_model_module": "@jupyter-widgets/controls",
            "_model_module_version": "1.5.0",
            "_model_name": "FloatProgressModel",
            "_view_count": null,
            "_view_module": "@jupyter-widgets/controls",
            "_view_module_version": "1.5.0",
            "_view_name": "ProgressView",
            "bar_style": "success",
            "description": "",
            "description_tooltip": null,
            "layout": "IPY_MODEL_97ced2179c384acfb6149ea3b48332ca",
            "max": 995526,
            "min": 0,
            "orientation": "horizontal",
            "style": "IPY_MODEL_d8308bf5827247348b1582e8061afeb3",
            "value": 995526
          }
        },
        "d4a954613dff4891bff3fc7ed2657b6d": {
          "model_module": "@jupyter-widgets/controls",
          "model_name": "HTMLModel",
          "model_module_version": "1.5.0",
          "state": {
            "_dom_classes": [],
            "_model_module": "@jupyter-widgets/controls",
            "_model_module_version": "1.5.0",
            "_model_name": "HTMLModel",
            "_view_count": null,
            "_view_module": "@jupyter-widgets/controls",
            "_view_module_version": "1.5.0",
            "_view_name": "HTMLView",
            "description": "",
            "description_tooltip": null,
            "layout": "IPY_MODEL_eb6824a720f24d509d431b7849dc463e",
            "placeholder": "​",
            "style": "IPY_MODEL_792d612e94f64061b706232b14eaac39",
            "value": " 996k/996k [00:00&lt;00:00, 12.5MB/s]"
          }
        },
        "0ca19c3179884c259755db5348f9064b": {
          "model_module": "@jupyter-widgets/base",
          "model_name": "LayoutModel",
          "model_module_version": "1.2.0",
          "state": {
            "_model_module": "@jupyter-widgets/base",
            "_model_module_version": "1.2.0",
            "_model_name": "LayoutModel",
            "_view_count": null,
            "_view_module": "@jupyter-widgets/base",
            "_view_module_version": "1.2.0",
            "_view_name": "LayoutView",
            "align_content": null,
            "align_items": null,
            "align_self": null,
            "border": null,
            "bottom": null,
            "display": null,
            "flex": null,
            "flex_flow": null,
            "grid_area": null,
            "grid_auto_columns": null,
            "grid_auto_flow": null,
            "grid_auto_rows": null,
            "grid_column": null,
            "grid_gap": null,
            "grid_row": null,
            "grid_template_areas": null,
            "grid_template_columns": null,
            "grid_template_rows": null,
            "height": null,
            "justify_content": null,
            "justify_items": null,
            "left": null,
            "margin": null,
            "max_height": null,
            "max_width": null,
            "min_height": null,
            "min_width": null,
            "object_fit": null,
            "object_position": null,
            "order": null,
            "overflow": null,
            "overflow_x": null,
            "overflow_y": null,
            "padding": null,
            "right": null,
            "top": null,
            "visibility": null,
            "width": null
          }
        },
        "b1729e14de8643099820e23f02571de2": {
          "model_module": "@jupyter-widgets/base",
          "model_name": "LayoutModel",
          "model_module_version": "1.2.0",
          "state": {
            "_model_module": "@jupyter-widgets/base",
            "_model_module_version": "1.2.0",
            "_model_name": "LayoutModel",
            "_view_count": null,
            "_view_module": "@jupyter-widgets/base",
            "_view_module_version": "1.2.0",
            "_view_name": "LayoutView",
            "align_content": null,
            "align_items": null,
            "align_self": null,
            "border": null,
            "bottom": null,
            "display": null,
            "flex": null,
            "flex_flow": null,
            "grid_area": null,
            "grid_auto_columns": null,
            "grid_auto_flow": null,
            "grid_auto_rows": null,
            "grid_column": null,
            "grid_gap": null,
            "grid_row": null,
            "grid_template_areas": null,
            "grid_template_columns": null,
            "grid_template_rows": null,
            "height": null,
            "justify_content": null,
            "justify_items": null,
            "left": null,
            "margin": null,
            "max_height": null,
            "max_width": null,
            "min_height": null,
            "min_width": null,
            "object_fit": null,
            "object_position": null,
            "order": null,
            "overflow": null,
            "overflow_x": null,
            "overflow_y": null,
            "padding": null,
            "right": null,
            "top": null,
            "visibility": null,
            "width": null
          }
        },
        "b4ac65567d4f4c89b886dfda195f1f42": {
          "model_module": "@jupyter-widgets/controls",
          "model_name": "DescriptionStyleModel",
          "model_module_version": "1.5.0",
          "state": {
            "_model_module": "@jupyter-widgets/controls",
            "_model_module_version": "1.5.0",
            "_model_name": "DescriptionStyleModel",
            "_view_count": null,
            "_view_module": "@jupyter-widgets/base",
            "_view_module_version": "1.2.0",
            "_view_name": "StyleView",
            "description_width": ""
          }
        },
        "97ced2179c384acfb6149ea3b48332ca": {
          "model_module": "@jupyter-widgets/base",
          "model_name": "LayoutModel",
          "model_module_version": "1.2.0",
          "state": {
            "_model_module": "@jupyter-widgets/base",
            "_model_module_version": "1.2.0",
            "_model_name": "LayoutModel",
            "_view_count": null,
            "_view_module": "@jupyter-widgets/base",
            "_view_module_version": "1.2.0",
            "_view_name": "LayoutView",
            "align_content": null,
            "align_items": null,
            "align_self": null,
            "border": null,
            "bottom": null,
            "display": null,
            "flex": null,
            "flex_flow": null,
            "grid_area": null,
            "grid_auto_columns": null,
            "grid_auto_flow": null,
            "grid_auto_rows": null,
            "grid_column": null,
            "grid_gap": null,
            "grid_row": null,
            "grid_template_areas": null,
            "grid_template_columns": null,
            "grid_template_rows": null,
            "height": null,
            "justify_content": null,
            "justify_items": null,
            "left": null,
            "margin": null,
            "max_height": null,
            "max_width": null,
            "min_height": null,
            "min_width": null,
            "object_fit": null,
            "object_position": null,
            "order": null,
            "overflow": null,
            "overflow_x": null,
            "overflow_y": null,
            "padding": null,
            "right": null,
            "top": null,
            "visibility": null,
            "width": null
          }
        },
        "d8308bf5827247348b1582e8061afeb3": {
          "model_module": "@jupyter-widgets/controls",
          "model_name": "ProgressStyleModel",
          "model_module_version": "1.5.0",
          "state": {
            "_model_module": "@jupyter-widgets/controls",
            "_model_module_version": "1.5.0",
            "_model_name": "ProgressStyleModel",
            "_view_count": null,
            "_view_module": "@jupyter-widgets/base",
            "_view_module_version": "1.2.0",
            "_view_name": "StyleView",
            "bar_color": null,
            "description_width": ""
          }
        },
        "eb6824a720f24d509d431b7849dc463e": {
          "model_module": "@jupyter-widgets/base",
          "model_name": "LayoutModel",
          "model_module_version": "1.2.0",
          "state": {
            "_model_module": "@jupyter-widgets/base",
            "_model_module_version": "1.2.0",
            "_model_name": "LayoutModel",
            "_view_count": null,
            "_view_module": "@jupyter-widgets/base",
            "_view_module_version": "1.2.0",
            "_view_name": "LayoutView",
            "align_content": null,
            "align_items": null,
            "align_self": null,
            "border": null,
            "bottom": null,
            "display": null,
            "flex": null,
            "flex_flow": null,
            "grid_area": null,
            "grid_auto_columns": null,
            "grid_auto_flow": null,
            "grid_auto_rows": null,
            "grid_column": null,
            "grid_gap": null,
            "grid_row": null,
            "grid_template_areas": null,
            "grid_template_columns": null,
            "grid_template_rows": null,
            "height": null,
            "justify_content": null,
            "justify_items": null,
            "left": null,
            "margin": null,
            "max_height": null,
            "max_width": null,
            "min_height": null,
            "min_width": null,
            "object_fit": null,
            "object_position": null,
            "order": null,
            "overflow": null,
            "overflow_x": null,
            "overflow_y": null,
            "padding": null,
            "right": null,
            "top": null,
            "visibility": null,
            "width": null
          }
        },
        "792d612e94f64061b706232b14eaac39": {
          "model_module": "@jupyter-widgets/controls",
          "model_name": "DescriptionStyleModel",
          "model_module_version": "1.5.0",
          "state": {
            "_model_module": "@jupyter-widgets/controls",
            "_model_module_version": "1.5.0",
            "_model_name": "DescriptionStyleModel",
            "_view_count": null,
            "_view_module": "@jupyter-widgets/base",
            "_view_module_version": "1.2.0",
            "_view_name": "StyleView",
            "description_width": ""
          }
        },
        "45d78acecae64b42add2d611cfc09746": {
          "model_module": "@jupyter-widgets/controls",
          "model_name": "HBoxModel",
          "model_module_version": "1.5.0",
          "state": {
            "_dom_classes": [],
            "_model_module": "@jupyter-widgets/controls",
            "_model_module_version": "1.5.0",
            "_model_name": "HBoxModel",
            "_view_count": null,
            "_view_module": "@jupyter-widgets/controls",
            "_view_module_version": "1.5.0",
            "_view_name": "HBoxView",
            "box_style": "",
            "children": [
              "IPY_MODEL_3627eef5b5df4dd79069dd464d893eec",
              "IPY_MODEL_565641d6ac7144638fcaa982c69ee3dd",
              "IPY_MODEL_bc15d421ee784f558270e06bd3eb2fc8"
            ],
            "layout": "IPY_MODEL_1296d2fe40b3439d9f50b7082bb0307d"
          }
        },
        "3627eef5b5df4dd79069dd464d893eec": {
          "model_module": "@jupyter-widgets/controls",
          "model_name": "HTMLModel",
          "model_module_version": "1.5.0",
          "state": {
            "_dom_classes": [],
            "_model_module": "@jupyter-widgets/controls",
            "_model_module_version": "1.5.0",
            "_model_name": "HTMLModel",
            "_view_count": null,
            "_view_module": "@jupyter-widgets/controls",
            "_view_module_version": "1.5.0",
            "_view_name": "HTMLView",
            "description": "",
            "description_tooltip": null,
            "layout": "IPY_MODEL_8657aceb8376428188a782acbb6e252f",
            "placeholder": "​",
            "style": "IPY_MODEL_b67c0a48cb194205b01f5c6999377382",
            "value": "tokenizer.json: 100%"
          }
        },
        "565641d6ac7144638fcaa982c69ee3dd": {
          "model_module": "@jupyter-widgets/controls",
          "model_name": "FloatProgressModel",
          "model_module_version": "1.5.0",
          "state": {
            "_dom_classes": [],
            "_model_module": "@jupyter-widgets/controls",
            "_model_module_version": "1.5.0",
            "_model_name": "FloatProgressModel",
            "_view_count": null,
            "_view_module": "@jupyter-widgets/controls",
            "_view_module_version": "1.5.0",
            "_view_name": "ProgressView",
            "bar_style": "success",
            "description": "",
            "description_tooltip": null,
            "layout": "IPY_MODEL_b8d0c6a1898747e59b514eae1491de1e",
            "max": 1961828,
            "min": 0,
            "orientation": "horizontal",
            "style": "IPY_MODEL_c4e5fe3ab0dd44f08ae646131bf2baee",
            "value": 1961828
          }
        },
        "bc15d421ee784f558270e06bd3eb2fc8": {
          "model_module": "@jupyter-widgets/controls",
          "model_name": "HTMLModel",
          "model_module_version": "1.5.0",
          "state": {
            "_dom_classes": [],
            "_model_module": "@jupyter-widgets/controls",
            "_model_module_version": "1.5.0",
            "_model_name": "HTMLModel",
            "_view_count": null,
            "_view_module": "@jupyter-widgets/controls",
            "_view_module_version": "1.5.0",
            "_view_name": "HTMLView",
            "description": "",
            "description_tooltip": null,
            "layout": "IPY_MODEL_76ff6e2b519c4ae0ac1201f7b919f442",
            "placeholder": "​",
            "style": "IPY_MODEL_0e999bde05d7477b9e710c276341e513",
            "value": " 1.96M/1.96M [00:00&lt;00:00, 30.0MB/s]"
          }
        },
        "1296d2fe40b3439d9f50b7082bb0307d": {
          "model_module": "@jupyter-widgets/base",
          "model_name": "LayoutModel",
          "model_module_version": "1.2.0",
          "state": {
            "_model_module": "@jupyter-widgets/base",
            "_model_module_version": "1.2.0",
            "_model_name": "LayoutModel",
            "_view_count": null,
            "_view_module": "@jupyter-widgets/base",
            "_view_module_version": "1.2.0",
            "_view_name": "LayoutView",
            "align_content": null,
            "align_items": null,
            "align_self": null,
            "border": null,
            "bottom": null,
            "display": null,
            "flex": null,
            "flex_flow": null,
            "grid_area": null,
            "grid_auto_columns": null,
            "grid_auto_flow": null,
            "grid_auto_rows": null,
            "grid_column": null,
            "grid_gap": null,
            "grid_row": null,
            "grid_template_areas": null,
            "grid_template_columns": null,
            "grid_template_rows": null,
            "height": null,
            "justify_content": null,
            "justify_items": null,
            "left": null,
            "margin": null,
            "max_height": null,
            "max_width": null,
            "min_height": null,
            "min_width": null,
            "object_fit": null,
            "object_position": null,
            "order": null,
            "overflow": null,
            "overflow_x": null,
            "overflow_y": null,
            "padding": null,
            "right": null,
            "top": null,
            "visibility": null,
            "width": null
          }
        },
        "8657aceb8376428188a782acbb6e252f": {
          "model_module": "@jupyter-widgets/base",
          "model_name": "LayoutModel",
          "model_module_version": "1.2.0",
          "state": {
            "_model_module": "@jupyter-widgets/base",
            "_model_module_version": "1.2.0",
            "_model_name": "LayoutModel",
            "_view_count": null,
            "_view_module": "@jupyter-widgets/base",
            "_view_module_version": "1.2.0",
            "_view_name": "LayoutView",
            "align_content": null,
            "align_items": null,
            "align_self": null,
            "border": null,
            "bottom": null,
            "display": null,
            "flex": null,
            "flex_flow": null,
            "grid_area": null,
            "grid_auto_columns": null,
            "grid_auto_flow": null,
            "grid_auto_rows": null,
            "grid_column": null,
            "grid_gap": null,
            "grid_row": null,
            "grid_template_areas": null,
            "grid_template_columns": null,
            "grid_template_rows": null,
            "height": null,
            "justify_content": null,
            "justify_items": null,
            "left": null,
            "margin": null,
            "max_height": null,
            "max_width": null,
            "min_height": null,
            "min_width": null,
            "object_fit": null,
            "object_position": null,
            "order": null,
            "overflow": null,
            "overflow_x": null,
            "overflow_y": null,
            "padding": null,
            "right": null,
            "top": null,
            "visibility": null,
            "width": null
          }
        },
        "b67c0a48cb194205b01f5c6999377382": {
          "model_module": "@jupyter-widgets/controls",
          "model_name": "DescriptionStyleModel",
          "model_module_version": "1.5.0",
          "state": {
            "_model_module": "@jupyter-widgets/controls",
            "_model_module_version": "1.5.0",
            "_model_name": "DescriptionStyleModel",
            "_view_count": null,
            "_view_module": "@jupyter-widgets/base",
            "_view_module_version": "1.2.0",
            "_view_name": "StyleView",
            "description_width": ""
          }
        },
        "b8d0c6a1898747e59b514eae1491de1e": {
          "model_module": "@jupyter-widgets/base",
          "model_name": "LayoutModel",
          "model_module_version": "1.2.0",
          "state": {
            "_model_module": "@jupyter-widgets/base",
            "_model_module_version": "1.2.0",
            "_model_name": "LayoutModel",
            "_view_count": null,
            "_view_module": "@jupyter-widgets/base",
            "_view_module_version": "1.2.0",
            "_view_name": "LayoutView",
            "align_content": null,
            "align_items": null,
            "align_self": null,
            "border": null,
            "bottom": null,
            "display": null,
            "flex": null,
            "flex_flow": null,
            "grid_area": null,
            "grid_auto_columns": null,
            "grid_auto_flow": null,
            "grid_auto_rows": null,
            "grid_column": null,
            "grid_gap": null,
            "grid_row": null,
            "grid_template_areas": null,
            "grid_template_columns": null,
            "grid_template_rows": null,
            "height": null,
            "justify_content": null,
            "justify_items": null,
            "left": null,
            "margin": null,
            "max_height": null,
            "max_width": null,
            "min_height": null,
            "min_width": null,
            "object_fit": null,
            "object_position": null,
            "order": null,
            "overflow": null,
            "overflow_x": null,
            "overflow_y": null,
            "padding": null,
            "right": null,
            "top": null,
            "visibility": null,
            "width": null
          }
        },
        "c4e5fe3ab0dd44f08ae646131bf2baee": {
          "model_module": "@jupyter-widgets/controls",
          "model_name": "ProgressStyleModel",
          "model_module_version": "1.5.0",
          "state": {
            "_model_module": "@jupyter-widgets/controls",
            "_model_module_version": "1.5.0",
            "_model_name": "ProgressStyleModel",
            "_view_count": null,
            "_view_module": "@jupyter-widgets/base",
            "_view_module_version": "1.2.0",
            "_view_name": "StyleView",
            "bar_color": null,
            "description_width": ""
          }
        },
        "76ff6e2b519c4ae0ac1201f7b919f442": {
          "model_module": "@jupyter-widgets/base",
          "model_name": "LayoutModel",
          "model_module_version": "1.2.0",
          "state": {
            "_model_module": "@jupyter-widgets/base",
            "_model_module_version": "1.2.0",
            "_model_name": "LayoutModel",
            "_view_count": null,
            "_view_module": "@jupyter-widgets/base",
            "_view_module_version": "1.2.0",
            "_view_name": "LayoutView",
            "align_content": null,
            "align_items": null,
            "align_self": null,
            "border": null,
            "bottom": null,
            "display": null,
            "flex": null,
            "flex_flow": null,
            "grid_area": null,
            "grid_auto_columns": null,
            "grid_auto_flow": null,
            "grid_auto_rows": null,
            "grid_column": null,
            "grid_gap": null,
            "grid_row": null,
            "grid_template_areas": null,
            "grid_template_columns": null,
            "grid_template_rows": null,
            "height": null,
            "justify_content": null,
            "justify_items": null,
            "left": null,
            "margin": null,
            "max_height": null,
            "max_width": null,
            "min_height": null,
            "min_width": null,
            "object_fit": null,
            "object_position": null,
            "order": null,
            "overflow": null,
            "overflow_x": null,
            "overflow_y": null,
            "padding": null,
            "right": null,
            "top": null,
            "visibility": null,
            "width": null
          }
        },
        "0e999bde05d7477b9e710c276341e513": {
          "model_module": "@jupyter-widgets/controls",
          "model_name": "DescriptionStyleModel",
          "model_module_version": "1.5.0",
          "state": {
            "_model_module": "@jupyter-widgets/controls",
            "_model_module_version": "1.5.0",
            "_model_name": "DescriptionStyleModel",
            "_view_count": null,
            "_view_module": "@jupyter-widgets/base",
            "_view_module_version": "1.2.0",
            "_view_name": "StyleView",
            "description_width": ""
          }
        },
        "c2f40802654542e28b45d808a42ed1bb": {
          "model_module": "@jupyter-widgets/controls",
          "model_name": "HBoxModel",
          "model_module_version": "1.5.0",
          "state": {
            "_dom_classes": [],
            "_model_module": "@jupyter-widgets/controls",
            "_model_module_version": "1.5.0",
            "_model_name": "HBoxModel",
            "_view_count": null,
            "_view_module": "@jupyter-widgets/controls",
            "_view_module_version": "1.5.0",
            "_view_name": "HBoxView",
            "box_style": "",
            "children": [
              "IPY_MODEL_7d5a451e5c9e46e0ad9ebad8f7d8b78f",
              "IPY_MODEL_f2498ef549654709b9eb4865291c5296",
              "IPY_MODEL_6ce78ab4807549f3a91fadf63c8fad75"
            ],
            "layout": "IPY_MODEL_ebcb69a8551146dbb790c138bdb9aaea"
          }
        },
        "7d5a451e5c9e46e0ad9ebad8f7d8b78f": {
          "model_module": "@jupyter-widgets/controls",
          "model_name": "HTMLModel",
          "model_module_version": "1.5.0",
          "state": {
            "_dom_classes": [],
            "_model_module": "@jupyter-widgets/controls",
            "_model_module_version": "1.5.0",
            "_model_name": "HTMLModel",
            "_view_count": null,
            "_view_module": "@jupyter-widgets/controls",
            "_view_module_version": "1.5.0",
            "_view_name": "HTMLView",
            "description": "",
            "description_tooltip": null,
            "layout": "IPY_MODEL_c9e736f6594d43eb95e8d8c23ef43555",
            "placeholder": "​",
            "style": "IPY_MODEL_054bda2e661b490abab3bac0d43a826d",
            "value": "config.json: 100%"
          }
        },
        "f2498ef549654709b9eb4865291c5296": {
          "model_module": "@jupyter-widgets/controls",
          "model_name": "FloatProgressModel",
          "model_module_version": "1.5.0",
          "state": {
            "_dom_classes": [],
            "_model_module": "@jupyter-widgets/controls",
            "_model_module_version": "1.5.0",
            "_model_name": "FloatProgressModel",
            "_view_count": null,
            "_view_module": "@jupyter-widgets/controls",
            "_view_module_version": "1.5.0",
            "_view_name": "ProgressView",
            "bar_style": "success",
            "description": "",
            "description_tooltip": null,
            "layout": "IPY_MODEL_e9a2e4ba44e04866b6a3c7e8036347f2",
            "max": 625,
            "min": 0,
            "orientation": "horizontal",
            "style": "IPY_MODEL_67790337cade4ea0af324ad01aa6cee6",
            "value": 625
          }
        },
        "6ce78ab4807549f3a91fadf63c8fad75": {
          "model_module": "@jupyter-widgets/controls",
          "model_name": "HTMLModel",
          "model_module_version": "1.5.0",
          "state": {
            "_dom_classes": [],
            "_model_module": "@jupyter-widgets/controls",
            "_model_module_version": "1.5.0",
            "_model_name": "HTMLModel",
            "_view_count": null,
            "_view_module": "@jupyter-widgets/controls",
            "_view_module_version": "1.5.0",
            "_view_name": "HTMLView",
            "description": "",
            "description_tooltip": null,
            "layout": "IPY_MODEL_904c6e575e9044c699ce7052f0bb79d4",
            "placeholder": "​",
            "style": "IPY_MODEL_fb86c6bf78094667acddc75fe6df431d",
            "value": " 625/625 [00:00&lt;00:00, 19.2kB/s]"
          }
        },
        "ebcb69a8551146dbb790c138bdb9aaea": {
          "model_module": "@jupyter-widgets/base",
          "model_name": "LayoutModel",
          "model_module_version": "1.2.0",
          "state": {
            "_model_module": "@jupyter-widgets/base",
            "_model_module_version": "1.2.0",
            "_model_name": "LayoutModel",
            "_view_count": null,
            "_view_module": "@jupyter-widgets/base",
            "_view_module_version": "1.2.0",
            "_view_name": "LayoutView",
            "align_content": null,
            "align_items": null,
            "align_self": null,
            "border": null,
            "bottom": null,
            "display": null,
            "flex": null,
            "flex_flow": null,
            "grid_area": null,
            "grid_auto_columns": null,
            "grid_auto_flow": null,
            "grid_auto_rows": null,
            "grid_column": null,
            "grid_gap": null,
            "grid_row": null,
            "grid_template_areas": null,
            "grid_template_columns": null,
            "grid_template_rows": null,
            "height": null,
            "justify_content": null,
            "justify_items": null,
            "left": null,
            "margin": null,
            "max_height": null,
            "max_width": null,
            "min_height": null,
            "min_width": null,
            "object_fit": null,
            "object_position": null,
            "order": null,
            "overflow": null,
            "overflow_x": null,
            "overflow_y": null,
            "padding": null,
            "right": null,
            "top": null,
            "visibility": null,
            "width": null
          }
        },
        "c9e736f6594d43eb95e8d8c23ef43555": {
          "model_module": "@jupyter-widgets/base",
          "model_name": "LayoutModel",
          "model_module_version": "1.2.0",
          "state": {
            "_model_module": "@jupyter-widgets/base",
            "_model_module_version": "1.2.0",
            "_model_name": "LayoutModel",
            "_view_count": null,
            "_view_module": "@jupyter-widgets/base",
            "_view_module_version": "1.2.0",
            "_view_name": "LayoutView",
            "align_content": null,
            "align_items": null,
            "align_self": null,
            "border": null,
            "bottom": null,
            "display": null,
            "flex": null,
            "flex_flow": null,
            "grid_area": null,
            "grid_auto_columns": null,
            "grid_auto_flow": null,
            "grid_auto_rows": null,
            "grid_column": null,
            "grid_gap": null,
            "grid_row": null,
            "grid_template_areas": null,
            "grid_template_columns": null,
            "grid_template_rows": null,
            "height": null,
            "justify_content": null,
            "justify_items": null,
            "left": null,
            "margin": null,
            "max_height": null,
            "max_width": null,
            "min_height": null,
            "min_width": null,
            "object_fit": null,
            "object_position": null,
            "order": null,
            "overflow": null,
            "overflow_x": null,
            "overflow_y": null,
            "padding": null,
            "right": null,
            "top": null,
            "visibility": null,
            "width": null
          }
        },
        "054bda2e661b490abab3bac0d43a826d": {
          "model_module": "@jupyter-widgets/controls",
          "model_name": "DescriptionStyleModel",
          "model_module_version": "1.5.0",
          "state": {
            "_model_module": "@jupyter-widgets/controls",
            "_model_module_version": "1.5.0",
            "_model_name": "DescriptionStyleModel",
            "_view_count": null,
            "_view_module": "@jupyter-widgets/base",
            "_view_module_version": "1.2.0",
            "_view_name": "StyleView",
            "description_width": ""
          }
        },
        "e9a2e4ba44e04866b6a3c7e8036347f2": {
          "model_module": "@jupyter-widgets/base",
          "model_name": "LayoutModel",
          "model_module_version": "1.2.0",
          "state": {
            "_model_module": "@jupyter-widgets/base",
            "_model_module_version": "1.2.0",
            "_model_name": "LayoutModel",
            "_view_count": null,
            "_view_module": "@jupyter-widgets/base",
            "_view_module_version": "1.2.0",
            "_view_name": "LayoutView",
            "align_content": null,
            "align_items": null,
            "align_self": null,
            "border": null,
            "bottom": null,
            "display": null,
            "flex": null,
            "flex_flow": null,
            "grid_area": null,
            "grid_auto_columns": null,
            "grid_auto_flow": null,
            "grid_auto_rows": null,
            "grid_column": null,
            "grid_gap": null,
            "grid_row": null,
            "grid_template_areas": null,
            "grid_template_columns": null,
            "grid_template_rows": null,
            "height": null,
            "justify_content": null,
            "justify_items": null,
            "left": null,
            "margin": null,
            "max_height": null,
            "max_width": null,
            "min_height": null,
            "min_width": null,
            "object_fit": null,
            "object_position": null,
            "order": null,
            "overflow": null,
            "overflow_x": null,
            "overflow_y": null,
            "padding": null,
            "right": null,
            "top": null,
            "visibility": null,
            "width": null
          }
        },
        "67790337cade4ea0af324ad01aa6cee6": {
          "model_module": "@jupyter-widgets/controls",
          "model_name": "ProgressStyleModel",
          "model_module_version": "1.5.0",
          "state": {
            "_model_module": "@jupyter-widgets/controls",
            "_model_module_version": "1.5.0",
            "_model_name": "ProgressStyleModel",
            "_view_count": null,
            "_view_module": "@jupyter-widgets/base",
            "_view_module_version": "1.2.0",
            "_view_name": "StyleView",
            "bar_color": null,
            "description_width": ""
          }
        },
        "904c6e575e9044c699ce7052f0bb79d4": {
          "model_module": "@jupyter-widgets/base",
          "model_name": "LayoutModel",
          "model_module_version": "1.2.0",
          "state": {
            "_model_module": "@jupyter-widgets/base",
            "_model_module_version": "1.2.0",
            "_model_name": "LayoutModel",
            "_view_count": null,
            "_view_module": "@jupyter-widgets/base",
            "_view_module_version": "1.2.0",
            "_view_name": "LayoutView",
            "align_content": null,
            "align_items": null,
            "align_self": null,
            "border": null,
            "bottom": null,
            "display": null,
            "flex": null,
            "flex_flow": null,
            "grid_area": null,
            "grid_auto_columns": null,
            "grid_auto_flow": null,
            "grid_auto_rows": null,
            "grid_column": null,
            "grid_gap": null,
            "grid_row": null,
            "grid_template_areas": null,
            "grid_template_columns": null,
            "grid_template_rows": null,
            "height": null,
            "justify_content": null,
            "justify_items": null,
            "left": null,
            "margin": null,
            "max_height": null,
            "max_width": null,
            "min_height": null,
            "min_width": null,
            "object_fit": null,
            "object_position": null,
            "order": null,
            "overflow": null,
            "overflow_x": null,
            "overflow_y": null,
            "padding": null,
            "right": null,
            "top": null,
            "visibility": null,
            "width": null
          }
        },
        "fb86c6bf78094667acddc75fe6df431d": {
          "model_module": "@jupyter-widgets/controls",
          "model_name": "DescriptionStyleModel",
          "model_module_version": "1.5.0",
          "state": {
            "_model_module": "@jupyter-widgets/controls",
            "_model_module_version": "1.5.0",
            "_model_name": "DescriptionStyleModel",
            "_view_count": null,
            "_view_module": "@jupyter-widgets/base",
            "_view_module_version": "1.2.0",
            "_view_name": "StyleView",
            "description_width": ""
          }
        }
      }
    }
  },
  "nbformat_minor": 0,
  "nbformat": 4,
  "cells": [
    {
      "source": [
        "\n",
        "# IMPORTANT: RUN THIS CELL IN ORDER TO IMPORT YOUR KAGGLE DATA SOURCES\n",
        "# TO THE CORRECT LOCATION (/kaggle/input) IN YOUR NOTEBOOK,\n",
        "# THEN FEEL FREE TO DELETE THIS CELL.\n",
        "# NOTE: THIS NOTEBOOK ENVIRONMENT DIFFERS FROM KAGGLE'S PYTHON\n",
        "# ENVIRONMENT SO THERE MAY BE MISSING LIBRARIES USED BY YOUR\n",
        "# NOTEBOOK.\n",
        "\n",
        "import os\n",
        "import sys\n",
        "from tempfile import NamedTemporaryFile\n",
        "from urllib.request import urlopen\n",
        "from urllib.parse import unquote, urlparse\n",
        "from urllib.error import HTTPError\n",
        "from zipfile import ZipFile\n",
        "import tarfile\n",
        "import shutil\n",
        "\n",
        "CHUNK_SIZE = 40960\n",
        "DATA_SOURCE_MAPPING = 'marathi-hasoc-dataset:https%3A%2F%2Fstorage.googleapis.com%2Fkaggle-data-sets%2F4573657%2F7809159%2Fbundle%2Farchive.zip%3FX-Goog-Algorithm%3DGOOG4-RSA-SHA256%26X-Goog-Credential%3Dgcp-kaggle-com%2540kaggle-161607.iam.gserviceaccount.com%252F20240311%252Fauto%252Fstorage%252Fgoog4_request%26X-Goog-Date%3D20240311T042435Z%26X-Goog-Expires%3D259200%26X-Goog-SignedHeaders%3Dhost%26X-Goog-Signature%3D77e4af1bc2daf32647a27a9073c4c7939e7f807620d82365860f5d138ea6040014c791eebeef3d3c5e77197a92ec8baebe90dff176323a50665e12f998443f6fc8cdee9b29ceec85e3ceed64d8e279552391cd9e6d0c5520c3596ab287d386702b5cad0a1f1284ca853cba2930ac99c06e7641e94745d5a5b0735574e4b62abe181aee785d5ab7f0fce9ab7cfc3fe1b7bff2c9735b8dae06920d0b1df82b458c3314d9d785c875aeef78014f543933ec2f86debe874cd5261cf39852090bde7907b14f95ba60492f183b6aea5c602a8db93001abf3c67c96df70a84250816b3513d58903489972e062962cc22b011ddb2681597246dd64ca5bf66254a299223e,marathi-molddataset:https%3A%2F%2Fstorage.googleapis.com%2Fkaggle-data-sets%2F4573667%2F7809170%2Fbundle%2Farchive.zip%3FX-Goog-Algorithm%3DGOOG4-RSA-SHA256%26X-Goog-Credential%3Dgcp-kaggle-com%2540kaggle-161607.iam.gserviceaccount.com%252F20240311%252Fauto%252Fstorage%252Fgoog4_request%26X-Goog-Date%3D20240311T042435Z%26X-Goog-Expires%3D259200%26X-Goog-SignedHeaders%3Dhost%26X-Goog-Signature%3D80d50473165319e7a703cfe6f4bba6b77d1403dd4f88e162cceedbe44a73740d3c340b2a531e61225b3328bf8a4eb7a30b37800de9f06ee6aec8e43741c72b20011c4a67aac980d0591656addbfc9d1c2815e95423cba23af0a0a1e584aa898642a63af27be712d6444b75fdbd20853fc10f2774ba25931fde976e87430870a55d5fbf52ed04aa6cd7e902bf0fbb4a6e6cc2c7db36cb376b5394bfae7505f3e3f8d92d9f8a17f0f662aeef0b9c7cd0e9c2f693f3baf7ae7c99d84743071faabfa4e311f3d2b98223802626f73522465daa9a84237e578ea82ab69cb3f6b6ab271bf70afbe949fa4b8ac023f990b8c4b2be4052816a8662d7a4562d0a5d31851f'\n",
        "\n",
        "KAGGLE_INPUT_PATH='/kaggle/input'\n",
        "KAGGLE_WORKING_PATH='/kaggle/working'\n",
        "KAGGLE_SYMLINK='kaggle'\n",
        "\n",
        "!umount /kaggle/input/ 2> /dev/null\n",
        "shutil.rmtree('/kaggle/input', ignore_errors=True)\n",
        "os.makedirs(KAGGLE_INPUT_PATH, 0o777, exist_ok=True)\n",
        "os.makedirs(KAGGLE_WORKING_PATH, 0o777, exist_ok=True)\n",
        "\n",
        "try:\n",
        "  os.symlink(KAGGLE_INPUT_PATH, os.path.join(\"..\", 'input'), target_is_directory=True)\n",
        "except FileExistsError:\n",
        "  pass\n",
        "try:\n",
        "  os.symlink(KAGGLE_WORKING_PATH, os.path.join(\"..\", 'working'), target_is_directory=True)\n",
        "except FileExistsError:\n",
        "  pass\n",
        "\n",
        "for data_source_mapping in DATA_SOURCE_MAPPING.split(','):\n",
        "    directory, download_url_encoded = data_source_mapping.split(':')\n",
        "    download_url = unquote(download_url_encoded)\n",
        "    filename = urlparse(download_url).path\n",
        "    destination_path = os.path.join(KAGGLE_INPUT_PATH, directory)\n",
        "    try:\n",
        "        with urlopen(download_url) as fileres, NamedTemporaryFile() as tfile:\n",
        "            total_length = fileres.headers['content-length']\n",
        "            print(f'Downloading {directory}, {total_length} bytes compressed')\n",
        "            dl = 0\n",
        "            data = fileres.read(CHUNK_SIZE)\n",
        "            while len(data) > 0:\n",
        "                dl += len(data)\n",
        "                tfile.write(data)\n",
        "                done = int(50 * dl / int(total_length))\n",
        "                sys.stdout.write(f\"\\r[{'=' * done}{' ' * (50-done)}] {dl} bytes downloaded\")\n",
        "                sys.stdout.flush()\n",
        "                data = fileres.read(CHUNK_SIZE)\n",
        "            if filename.endswith('.zip'):\n",
        "              with ZipFile(tfile) as zfile:\n",
        "                zfile.extractall(destination_path)\n",
        "            else:\n",
        "              with tarfile.open(tfile.name) as tarfile:\n",
        "                tarfile.extractall(destination_path)\n",
        "            print(f'\\nDownloaded and uncompressed: {directory}')\n",
        "    except HTTPError as e:\n",
        "        print(f'Failed to load (likely expired) {download_url} to path {destination_path}')\n",
        "        continue\n",
        "    except OSError as e:\n",
        "        print(f'Failed to load {download_url} to path {destination_path}')\n",
        "        continue\n",
        "\n",
        "print('Data source import complete.')\n"
      ],
      "metadata": {
        "id": "7JcCB2dXwWt9",
        "outputId": "675f6117-e2de-422b-e6e1-6ce38d71d4ff",
        "colab": {
          "base_uri": "https://localhost:8080/"
        }
      },
      "cell_type": "code",
      "outputs": [
        {
          "output_type": "stream",
          "name": "stdout",
          "text": [
            "Downloading marathi-hasoc-dataset, 138964 bytes compressed\n",
            "[==================================================] 138964 bytes downloaded\n",
            "Downloaded and uncompressed: marathi-hasoc-dataset\n",
            "Downloading marathi-molddataset, 170941 bytes compressed\n",
            "[==================================================] 170941 bytes downloaded\n",
            "Downloaded and uncompressed: marathi-molddataset\n",
            "Data source import complete.\n"
          ]
        }
      ],
      "execution_count": null
    },
    {
      "cell_type": "markdown",
      "source": [],
      "metadata": {
        "id": "DXB47NNLwWuC"
      }
    },
    {
      "cell_type": "code",
      "source": [
        "# This Python 3 environment comes with many helpful analytics libraries installed\n",
        "# It is defined by the kaggle/python Docker image: https://github.com/kaggle/docker-python\n",
        "# For example, here's several helpful packages to load\n",
        "\n",
        "import numpy as np # linear algebra\n",
        "import pandas as pd # data processing, CSV file I/O (e.g. pd.read_csv)\n",
        "\n",
        "# Input data files are available in the read-only \"../input/\" directory\n",
        "# For example, running this (by clicking run or pressing Shift+Enter) will list all files under the input directory\n",
        "\n",
        "import os\n",
        "for dirname, _, filenames in os.walk('/kaggle/input'):\n",
        "    for filename in filenames:\n",
        "        print(os.path.join(dirname, filename))\n",
        "\n",
        "# You can write up to 20GB to the current directory (/kaggle/working/) that gets preserved as output when you create a version using \"Save & Run All\"\n",
        "# You can also write temporary files to /kaggle/temp/, but they won't be saved outside of the current session"
      ],
      "metadata": {
        "_uuid": "8f2839f25d086af736a60e9eeb907d3b93b6e0e5",
        "_cell_guid": "b1076dfc-b9ad-4769-8c92-a6c4dae69d19",
        "execution": {
          "iopub.status.busy": "2024-03-10T16:58:40.941673Z",
          "iopub.execute_input": "2024-03-10T16:58:40.942209Z",
          "iopub.status.idle": "2024-03-10T16:58:40.958035Z",
          "shell.execute_reply.started": "2024-03-10T16:58:40.942176Z",
          "shell.execute_reply": "2024-03-10T16:58:40.957098Z"
        },
        "trusted": true,
        "id": "hrrKWBhXwWuD",
        "outputId": "73c854a9-3b87-4ec0-d27f-7a27776a962a",
        "colab": {
          "base_uri": "https://localhost:8080/"
        }
      },
      "execution_count": null,
      "outputs": [
        {
          "output_type": "stream",
          "name": "stdout",
          "text": [
            "/kaggle/input/marathi-molddataset/MOLDV2_train.csv\n",
            "/kaggle/input/marathi-hasoc-dataset/mr_Hasoc2021_train.xlsx\n"
          ]
        }
      ]
    },
    {
      "cell_type": "code",
      "source": [
        "pd.set_option('display.max_rows', None)  # Show all rows\n",
        "pd.set_option('display.max_colwidth', None)\n",
        "pd.set_option('display.max_columns', None)  # Show all columns\n",
        "df = pd.read_csv('/kaggle/input/marathi-molddataset/MOLDV2_train.csv')\n",
        "\n",
        "# Display the first few rows of the dataset\n",
        "print(df.head())\n"
      ],
      "metadata": {
        "execution": {
          "iopub.status.busy": "2024-03-10T16:20:11.77276Z",
          "iopub.execute_input": "2024-03-10T16:20:11.773453Z",
          "iopub.status.idle": "2024-03-10T16:20:11.818314Z",
          "shell.execute_reply.started": "2024-03-10T16:20:11.773421Z",
          "shell.execute_reply": "2024-03-10T16:20:11.817318Z"
        },
        "trusted": true,
        "id": "MWzdKCbKwWuE",
        "outputId": "6daf3b62-592b-4845-c1e7-e73ec90f68d1",
        "colab": {
          "base_uri": "https://localhost:8080/"
        }
      },
      "execution_count": null,
      "outputs": [
        {
          "output_type": "stream",
          "name": "stdout",
          "text": [
            "                                                                                                                     tweet  \\\n",
            "0       आजच्या जनता दरबारात जळगाव जिल्ह्यातील चाळीसगावचे रहिवासी माजी सैनिक सोनू महाजन आले होते २०१६ साली भाजपचे तत्कालीन…   \n",
            "1                     कुणी कविता करत असतं तर कुणी कविता जगत असतं कुणी कविता वाचत असतं तर कुणाला कविताच वाचवत असते © पल्लवी   \n",
            "2        आम्हाला इतिहासातील औरंगजेबशी काही घेणे नाही आमच्या कडे आमचा बेकायदेशीर रित्या आलेला हक्काचा औरंगजेब आहे तो एका क…   \n",
            "3                            गँभीर प्रकरण महाराष्ट्राची अवस्था बिकट आहे भाषणात मोठे शब्द वापरणे ऐकले कृती करावी उद्योग भी…   \n",
            "4  कब्झा हा कन्नड चित्रपट लवकरच मराठी मध्ये डब्ब होऊन प्रदर्शित होणार आहे जर ह्या चित्रपटाला चांगला प्रतिसाद मिळाला तर आप…   \n",
            "\n",
            "       subtask_a subtask_b subtask_c  \n",
            "0  not offensive       NaN       NaN  \n",
            "1  not offensive       NaN       NaN  \n",
            "2  not offensive       NaN       NaN  \n",
            "3  not offensive       NaN       NaN  \n",
            "4  not offensive       NaN       NaN  \n"
          ]
        }
      ]
    },
    {
      "cell_type": "markdown",
      "source": [
        "**Remove unwanted columns**"
      ],
      "metadata": {
        "id": "hL1L4OxhwWuF"
      }
    },
    {
      "cell_type": "code",
      "source": [
        "# Specify the columns to remove\n",
        "columns_to_remove = ['subtask_b', 'subtask_c']\n",
        "\n",
        "# Remove columns that are in the specified list\n",
        "df.drop(columns=columns_to_remove, inplace=True)\n"
      ],
      "metadata": {
        "id": "ssvGWgGMwWuF"
      },
      "execution_count": null,
      "outputs": []
    },
    {
      "cell_type": "markdown",
      "source": [
        "**Label Encoding**"
      ],
      "metadata": {
        "id": "XK_RZZesKd1D"
      }
    },
    {
      "cell_type": "code",
      "source": [
        "from sklearn.preprocessing import LabelEncoder\n",
        "# Initialize the LabelEncoder\n",
        "label_encoder = LabelEncoder()\n",
        "\n",
        "# Fit and transform the 'task_1' column\n",
        "df['subtask_a'] = label_encoder.fit_transform(df['subtask_a'])\n",
        "print(df.head())  #Hate means 0"
      ],
      "metadata": {
        "id": "NO7Yt7S-98Va",
        "outputId": "55ecbaa2-50c9-459b-d009-06bf6e0bee7f",
        "colab": {
          "base_uri": "https://localhost:8080/"
        }
      },
      "execution_count": null,
      "outputs": [
        {
          "output_type": "stream",
          "name": "stdout",
          "text": [
            "                                                                                                                     tweet  \\\n",
            "0       आजच्या जनता दरबारात जळगाव जिल्ह्यातील चाळीसगावचे रहिवासी माजी सैनिक सोनू महाजन आले होते २०१६ साली भाजपचे तत्कालीन…   \n",
            "1                     कुणी कविता करत असतं तर कुणी कविता जगत असतं कुणी कविता वाचत असतं तर कुणाला कविताच वाचवत असते © पल्लवी   \n",
            "2        आम्हाला इतिहासातील औरंगजेबशी काही घेणे नाही आमच्या कडे आमचा बेकायदेशीर रित्या आलेला हक्काचा औरंगजेब आहे तो एका क…   \n",
            "3                            गँभीर प्रकरण महाराष्ट्राची अवस्था बिकट आहे भाषणात मोठे शब्द वापरणे ऐकले कृती करावी उद्योग भी…   \n",
            "4  कब्झा हा कन्नड चित्रपट लवकरच मराठी मध्ये डब्ब होऊन प्रदर्शित होणार आहे जर ह्या चित्रपटाला चांगला प्रतिसाद मिळाला तर आप…   \n",
            "\n",
            "   subtask_a  \n",
            "0          1  \n",
            "1          1  \n",
            "2          1  \n",
            "3          1  \n",
            "4          1  \n"
          ]
        }
      ]
    },
    {
      "cell_type": "code",
      "source": [
        "print(df[df['subtask_a']==0].head())"
      ],
      "metadata": {
        "execution": {
          "iopub.status.busy": "2024-03-10T16:20:11.819632Z",
          "iopub.execute_input": "2024-03-10T16:20:11.820318Z",
          "iopub.status.idle": "2024-03-10T16:20:11.835528Z",
          "shell.execute_reply.started": "2024-03-10T16:20:11.820277Z",
          "shell.execute_reply": "2024-03-10T16:20:11.834376Z"
        },
        "trusted": true,
        "id": "16P0R1TFwWuF",
        "outputId": "74cccb95-9c9a-40b1-a374-d27e110fbb36",
        "colab": {
          "base_uri": "https://localhost:8080/"
        }
      },
      "execution_count": null,
      "outputs": [
        {
          "output_type": "stream",
          "name": "stdout",
          "text": [
            "                                                                                                                  tweet  \\\n",
            "1451                      राम कदम वागण्यात नाही तर बोलण्यात चुकला बीजेपी मग अजितदादा कुठे तुमच्या तोंडात मूतले होते का?   \n",
            "1452                                     हीच का तुमची शिवसेने चि शिकवण आपली आई म्हणजे दैवत आणि दुसऱ्याची आई म्हणजे रांड   \n",
            "1453                     हे वाचा गाढवांनो आणि हे ही सांगा की तुमच्या मॅडम आणि पप्पूने  साली काय करार केला चीनी कम्युनि…   \n",
            "1454                                                                           भक्त आंधळे असतात मूर्खा ना काही कळत नाही   \n",
            "1455  १९६६ साली छत्रपती शिवाजी महाराज या जागतिक दर्जाच्या सम्राटाचे नाव () वापरून ज्यांनी शिव सेना स्थापन केली त्यांची…   \n",
            "\n",
            "      subtask_a  \n",
            "1451          0  \n",
            "1452          0  \n",
            "1453          0  \n",
            "1454          0  \n",
            "1455          0  \n"
          ]
        }
      ]
    },
    {
      "cell_type": "code",
      "source": [
        "# Specify the index of the row you want to export\n",
        "row_index = 254  # Change this to the desired row index\n",
        "\n",
        "# Extract the content of the specified row\n",
        "specific_row_content = df.at[row_index, 'tweet']\n",
        "\n",
        "print(specific_row_content)\n"
      ],
      "metadata": {
        "execution": {
          "iopub.status.busy": "2024-03-10T16:20:11.837674Z",
          "iopub.execute_input": "2024-03-10T16:20:11.838063Z",
          "iopub.status.idle": "2024-03-10T16:20:11.845854Z",
          "shell.execute_reply.started": "2024-03-10T16:20:11.838033Z",
          "shell.execute_reply": "2024-03-10T16:20:11.844674Z"
        },
        "trusted": true,
        "id": "dKI5fx_0wWuG",
        "outputId": "796b4c33-9026-4c26-df67-558cadbd2e7a",
        "colab": {
          "base_uri": "https://localhost:8080/"
        }
      },
      "execution_count": null,
      "outputs": [
        {
          "output_type": "stream",
          "name": "stdout",
          "text": [
            "पाली हिलच्या कार्यालयानंतर कंगनाच्या फ्लॅटवर बीएमसीचा डोळा\n"
          ]
        }
      ]
    },
    {
      "cell_type": "markdown",
      "source": [
        "**Drop null values**"
      ],
      "metadata": {
        "id": "ON9I0qpUwWuG"
      }
    },
    {
      "cell_type": "code",
      "source": [
        "df = df.dropna(subset=['tweet'])"
      ],
      "metadata": {
        "execution": {
          "iopub.status.busy": "2024-03-10T16:20:11.84746Z",
          "iopub.execute_input": "2024-03-10T16:20:11.848155Z",
          "iopub.status.idle": "2024-03-10T16:20:11.863085Z",
          "shell.execute_reply.started": "2024-03-10T16:20:11.848125Z",
          "shell.execute_reply": "2024-03-10T16:20:11.861565Z"
        },
        "trusted": true,
        "id": "LGL_wBHkwWuG"
      },
      "execution_count": null,
      "outputs": []
    },
    {
      "cell_type": "markdown",
      "source": [
        "**Remove unwanted patterns in text**"
      ],
      "metadata": {
        "id": "vYxpE9kawWuH"
      }
    },
    {
      "cell_type": "code",
      "source": [
        "import re\n",
        "#  remove \"@USER\"\n",
        "df['tweet'] = df['tweet'].str.replace(r'@user', '', flags=re.IGNORECASE)\n",
        "\n",
        "pattern = r'(\\d+)\\sसाली'\n",
        "# remove above pattern which comes with date\n",
        "df['tweet'] = df['tweet'].apply(lambda x: re.sub(pattern, '', x))\n",
        "\n",
        "# remove special characters, numbers\n",
        "df['tweet'] = df['tweet'].str.replace('[\\d@?()~|‘•©-]', '', regex=True)\n",
        "\n",
        "# remove more than one spaces\n",
        "df['tweet'] = df['tweet'].apply(lambda x: re.sub(r'\\s+', ' ', x))\n",
        "\n",
        "# Display the modified DataFrame\n",
        "print(df['tweet'].head())\n",
        "\n"
      ],
      "metadata": {
        "execution": {
          "iopub.status.busy": "2024-03-10T16:20:11.865079Z",
          "iopub.execute_input": "2024-03-10T16:20:11.865459Z",
          "iopub.status.idle": "2024-03-10T16:20:11.924567Z",
          "shell.execute_reply.started": "2024-03-10T16:20:11.865432Z",
          "shell.execute_reply": "2024-03-10T16:20:11.923202Z"
        },
        "trusted": true,
        "id": "m025EpjQwWuH",
        "outputId": "c7c8ed32-ebef-4d53-dc62-f067772038c5",
        "colab": {
          "base_uri": "https://localhost:8080/"
        }
      },
      "execution_count": null,
      "outputs": [
        {
          "output_type": "stream",
          "name": "stdout",
          "text": [
            "0                   आजच्या जनता दरबारात जळगाव जिल्ह्यातील चाळीसगावचे रहिवासी माजी सैनिक सोनू महाजन आले होते भाजपचे तत्कालीन…\n",
            "1                         कुणी कविता करत असतं तर कुणी कविता जगत असतं कुणी कविता वाचत असतं तर कुणाला कविताच वाचवत असते पल्लवी\n",
            "2          आम्हाला इतिहासातील औरंगजेबशी काही घेणे नाही आमच्या कडे आमचा बेकायदेशीर रित्या आलेला हक्काचा औरंगजेब आहे तो एका क…\n",
            "3                              गँभीर प्रकरण महाराष्ट्राची अवस्था बिकट आहे भाषणात मोठे शब्द वापरणे ऐकले कृती करावी उद्योग भी…\n",
            "4    कब्झा हा कन्नड चित्रपट लवकरच मराठी मध्ये डब्ब होऊन प्रदर्शित होणार आहे जर ह्या चित्रपटाला चांगला प्रतिसाद मिळाला तर आप…\n",
            "Name: tweet, dtype: object\n"
          ]
        },
        {
          "output_type": "stream",
          "name": "stderr",
          "text": [
            "<ipython-input-9-0c02a56ed1e2>:3: SettingWithCopyWarning: \n",
            "A value is trying to be set on a copy of a slice from a DataFrame.\n",
            "Try using .loc[row_indexer,col_indexer] = value instead\n",
            "\n",
            "See the caveats in the documentation: https://pandas.pydata.org/pandas-docs/stable/user_guide/indexing.html#returning-a-view-versus-a-copy\n",
            "  df['tweet'] = df['tweet'].str.replace(r'@user', '', flags=re.IGNORECASE)\n",
            "<ipython-input-9-0c02a56ed1e2>:7: SettingWithCopyWarning: \n",
            "A value is trying to be set on a copy of a slice from a DataFrame.\n",
            "Try using .loc[row_indexer,col_indexer] = value instead\n",
            "\n",
            "See the caveats in the documentation: https://pandas.pydata.org/pandas-docs/stable/user_guide/indexing.html#returning-a-view-versus-a-copy\n",
            "  df['tweet'] = df['tweet'].apply(lambda x: re.sub(pattern, '', x))\n"
          ]
        }
      ]
    },
    {
      "cell_type": "markdown",
      "source": [
        "**Remove Punctuation marks**"
      ],
      "metadata": {
        "id": "OGah5jJ6wWuI"
      }
    },
    {
      "cell_type": "code",
      "source": [
        "import string\n",
        "# Function to remove punctuations from Marathi text\n",
        "def remove_punctuations(text):\n",
        "    translator = str.maketrans('', '', string.punctuation)\n",
        "    return text.translate(translator)\n",
        "\n",
        "# Apply the function to the 'tweet' column\n",
        "df['tweet'] = df['tweet'].apply(remove_punctuations)\n",
        "print(df['tweet'].head())"
      ],
      "metadata": {
        "execution": {
          "iopub.status.busy": "2024-03-10T16:29:21.691347Z",
          "iopub.execute_input": "2024-03-10T16:29:21.69185Z",
          "iopub.status.idle": "2024-03-10T16:29:21.733585Z",
          "shell.execute_reply.started": "2024-03-10T16:29:21.691815Z",
          "shell.execute_reply": "2024-03-10T16:29:21.732345Z"
        },
        "trusted": true,
        "id": "Bxkxn_zCwWuI",
        "outputId": "df9c927c-8fc4-48a6-852a-8759663c327e",
        "colab": {
          "base_uri": "https://localhost:8080/"
        }
      },
      "execution_count": null,
      "outputs": [
        {
          "output_type": "stream",
          "name": "stdout",
          "text": [
            "0                   आजच्या जनता दरबारात जळगाव जिल्ह्यातील चाळीसगावचे रहिवासी माजी सैनिक सोनू महाजन आले होते भाजपचे तत्कालीन…\n",
            "1                         कुणी कविता करत असतं तर कुणी कविता जगत असतं कुणी कविता वाचत असतं तर कुणाला कविताच वाचवत असते पल्लवी\n",
            "2          आम्हाला इतिहासातील औरंगजेबशी काही घेणे नाही आमच्या कडे आमचा बेकायदेशीर रित्या आलेला हक्काचा औरंगजेब आहे तो एका क…\n",
            "3                              गँभीर प्रकरण महाराष्ट्राची अवस्था बिकट आहे भाषणात मोठे शब्द वापरणे ऐकले कृती करावी उद्योग भी…\n",
            "4    कब्झा हा कन्नड चित्रपट लवकरच मराठी मध्ये डब्ब होऊन प्रदर्शित होणार आहे जर ह्या चित्रपटाला चांगला प्रतिसाद मिळाला तर आप…\n",
            "Name: tweet, dtype: object\n"
          ]
        }
      ]
    },
    {
      "cell_type": "markdown",
      "source": [
        "**Remove stopwords**"
      ],
      "metadata": {
        "id": "6F4Ajs6hwWuJ"
      }
    },
    {
      "cell_type": "code",
      "source": [
        "!pip install stopwordsiso"
      ],
      "metadata": {
        "execution": {
          "iopub.status.busy": "2024-03-10T16:20:11.926723Z",
          "iopub.execute_input": "2024-03-10T16:20:11.92735Z",
          "iopub.status.idle": "2024-03-10T16:20:26.176507Z",
          "shell.execute_reply.started": "2024-03-10T16:20:11.927283Z",
          "shell.execute_reply": "2024-03-10T16:20:26.175017Z"
        },
        "trusted": true,
        "id": "72hLpZ_EwWuJ",
        "outputId": "d1450eef-5479-4907-e41e-4e29b7683d8a",
        "colab": {
          "base_uri": "https://localhost:8080/"
        }
      },
      "execution_count": null,
      "outputs": [
        {
          "output_type": "stream",
          "name": "stdout",
          "text": [
            "Collecting stopwordsiso\n",
            "  Downloading stopwordsiso-0.6.1-py3-none-any.whl (73 kB)\n",
            "\u001b[?25l     \u001b[90m━━━━━━━━━━━━━━━━━━━━━━━━━━━━━━━━━━━━━━━━\u001b[0m \u001b[32m0.0/73.5 kB\u001b[0m \u001b[31m?\u001b[0m eta \u001b[36m-:--:--\u001b[0m\r\u001b[2K     \u001b[90m━━━━━━━━━━━━━━━━━━━━━━━━━━━━━━━━━━━━━━━━\u001b[0m \u001b[32m73.5/73.5 kB\u001b[0m \u001b[31m2.2 MB/s\u001b[0m eta \u001b[36m0:00:00\u001b[0m\n",
            "\u001b[?25hInstalling collected packages: stopwordsiso\n",
            "Successfully installed stopwordsiso-0.6.1\n"
          ]
        }
      ]
    },
    {
      "cell_type": "code",
      "source": [
        "import stopwordsiso\n",
        "stopwordsiso.has_lang(\"mr\")  # check if there is a stopwords for Thai language\n",
        "from stopwordsiso import stopwords\n",
        "\n",
        "# Load Marathi stopwords\n",
        "marathi_stopwords = stopwords(\"mr\")\n",
        "\n",
        "# Function to remove stopwords\n",
        "def remove_stopwords(text):\n",
        "    words = text.split()\n",
        "    filtered_words = [word for word in words if word not in marathi_stopwords]\n",
        "    return ' '.join(filtered_words)\n",
        "\n",
        "# Apply the remove_stopwords function to the 'tweet' column\n",
        "df['without_stopwords'] = df['tweet'].apply(remove_stopwords)\n",
        "\n",
        "# Display the DataFrame with cleaned tweets\n",
        "print(df[['tweet', 'without_stopwords','subtask_a']].head())"
      ],
      "metadata": {
        "execution": {
          "iopub.status.busy": "2024-03-10T16:20:26.189003Z",
          "iopub.execute_input": "2024-03-10T16:20:26.189346Z",
          "iopub.status.idle": "2024-03-10T16:20:26.518025Z",
          "shell.execute_reply.started": "2024-03-10T16:20:26.189319Z",
          "shell.execute_reply": "2024-03-10T16:20:26.516707Z"
        },
        "trusted": true,
        "id": "wBWWrToywWuJ",
        "outputId": "b6414e85-00b3-4c4c-c39e-210fedb2c8d8",
        "colab": {
          "base_uri": "https://localhost:8080/"
        }
      },
      "execution_count": null,
      "outputs": [
        {
          "output_type": "stream",
          "name": "stdout",
          "text": [
            "                                                                                                                     tweet  \\\n",
            "0                 आजच्या जनता दरबारात जळगाव जिल्ह्यातील चाळीसगावचे रहिवासी माजी सैनिक सोनू महाजन आले होते भाजपचे तत्कालीन…   \n",
            "1                       कुणी कविता करत असतं तर कुणी कविता जगत असतं कुणी कविता वाचत असतं तर कुणाला कविताच वाचवत असते पल्लवी   \n",
            "2        आम्हाला इतिहासातील औरंगजेबशी काही घेणे नाही आमच्या कडे आमचा बेकायदेशीर रित्या आलेला हक्काचा औरंगजेब आहे तो एका क…   \n",
            "3                            गँभीर प्रकरण महाराष्ट्राची अवस्था बिकट आहे भाषणात मोठे शब्द वापरणे ऐकले कृती करावी उद्योग भी…   \n",
            "4  कब्झा हा कन्नड चित्रपट लवकरच मराठी मध्ये डब्ब होऊन प्रदर्शित होणार आहे जर ह्या चित्रपटाला चांगला प्रतिसाद मिळाला तर आप…   \n",
            "\n",
            "                                                                                         without_stopwords  \\\n",
            "0          आजच्या जनता दरबारात जळगाव जिल्ह्यातील चाळीसगावचे रहिवासी माजी सैनिक सोनू महाजन भाजपचे तत्कालीन…   \n",
            "1             कुणी कविता करत असतं कुणी कविता जगत असतं कुणी कविता वाचत असतं कुणाला कविताच वाचवत असते पल्लवी   \n",
            "2             आम्हाला इतिहासातील औरंगजेबशी घेणे आमच्या कडे आमचा बेकायदेशीर रित्या आलेला हक्काचा औरंगजेब क…   \n",
            "3                गँभीर प्रकरण महाराष्ट्राची अवस्था बिकट भाषणात मोठे शब्द वापरणे ऐकले कृती करावी उद्योग भी…   \n",
            "4  कब्झा कन्नड चित्रपट लवकरच मराठी मध्ये डब्ब होऊन प्रदर्शित जर ह्या चित्रपटाला चांगला प्रतिसाद मिळाला आप…   \n",
            "\n",
            "   subtask_a  \n",
            "0          1  \n",
            "1          1  \n",
            "2          1  \n",
            "3          1  \n",
            "4          1  \n"
          ]
        }
      ]
    },
    {
      "cell_type": "code",
      "source": [
        "print(df[df['subtask_a']=='Offensive'].head())"
      ],
      "metadata": {
        "execution": {
          "iopub.status.busy": "2024-03-10T16:20:26.520977Z",
          "iopub.execute_input": "2024-03-10T16:20:26.522693Z",
          "iopub.status.idle": "2024-03-10T16:20:26.532134Z",
          "shell.execute_reply.started": "2024-03-10T16:20:26.522646Z",
          "shell.execute_reply": "2024-03-10T16:20:26.531164Z"
        },
        "trusted": true,
        "id": "rS0-7R-TwWuK",
        "outputId": "2be0e0c2-f1c9-452c-eadf-f27a14a7ea5a",
        "colab": {
          "base_uri": "https://localhost:8080/"
        }
      },
      "execution_count": null,
      "outputs": [
        {
          "output_type": "stream",
          "name": "stdout",
          "text": [
            "Empty DataFrame\n",
            "Columns: [tweet, subtask_a, without_stopwords]\n",
            "Index: []\n"
          ]
        }
      ]
    },
    {
      "cell_type": "markdown",
      "source": [
        "**HASOC Dataset**"
      ],
      "metadata": {
        "id": "CyDxyE_7wWuK"
      }
    },
    {
      "cell_type": "code",
      "source": [
        "pd.set_option('display.max_rows', None)  # Show all rows\n",
        "pd.set_option('display.max_colwidth', None)\n",
        "pd.set_option('display.max_columns', None)  # Show all columns\n",
        "df2 = pd.read_excel('/kaggle/input/marathi-hasoc-dataset/mr_Hasoc2021_train.xlsx')\n",
        "\n",
        "# Display the first few rows of the dataset\n",
        "print(df2.head())\n"
      ],
      "metadata": {
        "execution": {
          "iopub.status.busy": "2024-03-10T16:20:26.533546Z",
          "iopub.execute_input": "2024-03-10T16:20:26.5339Z",
          "iopub.status.idle": "2024-03-10T16:20:27.367821Z",
          "shell.execute_reply.started": "2024-03-10T16:20:26.533861Z",
          "shell.execute_reply": "2024-03-10T16:20:27.36695Z"
        },
        "trusted": true,
        "id": "heiYIovIwWuL",
        "outputId": "374abe59-f466-4a5f-bf63-82fe983d1ff9",
        "colab": {
          "base_uri": "https://localhost:8080/"
        }
      },
      "execution_count": null,
      "outputs": [
        {
          "output_type": "stream",
          "name": "stdout",
          "text": [
            "      text_id  \\\n",
            "0  hasoc_mr_1   \n",
            "1  hasoc_mr_2   \n",
            "2  hasoc_mr_3   \n",
            "3  hasoc_mr_4   \n",
            "4  hasoc_mr_5   \n",
            "\n",
            "                                                                                                                  text  \\\n",
            "0     भारत 15 ऑगस्ट 1947 ला स्वतंत्र झाला आणि त्यानंतर तब्बल 2.5 वर्षांनी म्हणजे 26 जानेवारी 1950 साली भारताला राज्यघ…   \n",
            "1  स्वत ला हवा तसा बाइट किंवा प्रतिक्रिया घेण्यासाठी ॲन्करबाई किती हट्टाला पेटलीय. जोरजबरदस्तीने तोंडात वाक्य घुसवतेय.   \n",
            "2                           5 व्या नंबरची अर्थव्यवस्था आहे भारताची जगात 2014 पर्यंत.... चंप्या  आता पण 5 वर आहे... अण…   \n",
            "3                                                                        च्यायला म्हणजे दुबईचा फोन ही पुडीच निघाली की.   \n",
            "4                ह्याला खरंतर कधीच आत टाकला पाहिजे होता. पैसा आणि स्टारडमच्या जोरावर चाललाय सगळं. एकदा ह्याच्यावर घाल…   \n",
            "\n",
            "  task_1  \n",
            "0    NOT  \n",
            "1    NOT  \n",
            "2    NOT  \n",
            "3    HOF  \n",
            "4    HOF  \n"
          ]
        }
      ]
    },
    {
      "cell_type": "markdown",
      "source": [
        "**Label Encoding**"
      ],
      "metadata": {
        "id": "mJ2XsaT7KtPj"
      }
    },
    {
      "cell_type": "code",
      "source": [
        "from sklearn.preprocessing import LabelEncoder\n",
        "# Initialize the LabelEncoder\n",
        "label_encoder = LabelEncoder()\n",
        "\n",
        "# Fit and transform the 'task_1' column\n",
        "df2['task_1'] = label_encoder.fit_transform(df2['task_1'])\n",
        "print(df2.head())  #Hate means 0"
      ],
      "metadata": {
        "colab": {
          "base_uri": "https://localhost:8080/"
        },
        "id": "0LYIJVZ0KslX",
        "outputId": "02289961-df9a-4c52-fdd1-e1e16f595f7c"
      },
      "execution_count": null,
      "outputs": [
        {
          "output_type": "stream",
          "name": "stdout",
          "text": [
            "      text_id  \\\n",
            "0  hasoc_mr_1   \n",
            "1  hasoc_mr_2   \n",
            "2  hasoc_mr_3   \n",
            "3  hasoc_mr_4   \n",
            "4  hasoc_mr_5   \n",
            "\n",
            "                                                                                                                  text  \\\n",
            "0     भारत 15 ऑगस्ट 1947 ला स्वतंत्र झाला आणि त्यानंतर तब्बल 2.5 वर्षांनी म्हणजे 26 जानेवारी 1950 साली भारताला राज्यघ…   \n",
            "1  स्वत ला हवा तसा बाइट किंवा प्रतिक्रिया घेण्यासाठी ॲन्करबाई किती हट्टाला पेटलीय. जोरजबरदस्तीने तोंडात वाक्य घुसवतेय.   \n",
            "2                           5 व्या नंबरची अर्थव्यवस्था आहे भारताची जगात 2014 पर्यंत.... चंप्या  आता पण 5 वर आहे... अण…   \n",
            "3                                                                        च्यायला म्हणजे दुबईचा फोन ही पुडीच निघाली की.   \n",
            "4                ह्याला खरंतर कधीच आत टाकला पाहिजे होता. पैसा आणि स्टारडमच्या जोरावर चाललाय सगळं. एकदा ह्याच्यावर घाल…   \n",
            "\n",
            "   task_1  \n",
            "0       1  \n",
            "1       1  \n",
            "2       1  \n",
            "3       0  \n",
            "4       0  \n"
          ]
        }
      ]
    },
    {
      "cell_type": "code",
      "source": [
        "print(df2[df2['task_1']==0].head())"
      ],
      "metadata": {
        "execution": {
          "iopub.status.busy": "2024-03-10T16:20:27.369477Z",
          "iopub.execute_input": "2024-03-10T16:20:27.370001Z",
          "iopub.status.idle": "2024-03-10T16:20:27.379106Z",
          "shell.execute_reply.started": "2024-03-10T16:20:27.369971Z",
          "shell.execute_reply": "2024-03-10T16:20:27.377967Z"
        },
        "trusted": true,
        "id": "DGOYFrBYwWuM",
        "outputId": "bede1a08-80d5-457d-eb02-7c85e6dbb0a2",
        "colab": {
          "base_uri": "https://localhost:8080/"
        }
      },
      "execution_count": null,
      "outputs": [
        {
          "output_type": "stream",
          "name": "stdout",
          "text": [
            "        text_id  \\\n",
            "3    hasoc_mr_4   \n",
            "4    hasoc_mr_5   \n",
            "5    hasoc_mr_6   \n",
            "7    hasoc_mr_8   \n",
            "10  hasoc_mr_11   \n",
            "\n",
            "                                                                                                     text  \\\n",
            "3                                                           च्यायला म्हणजे दुबईचा फोन ही पुडीच निघाली की.   \n",
            "4   ह्याला खरंतर कधीच आत टाकला पाहिजे होता. पैसा आणि स्टारडमच्या जोरावर चाललाय सगळं. एकदा ह्याच्यावर घाल…   \n",
            "5                          भोसडीच्या तुझ्या आईचा मी नवरा आहे. तुझ्या आईची गांड बघ. मागून गांड मारून मारू…   \n",
            "7   तुला कुत्र तर विचारत का ? आणि हो एकट्या कंगणाने तुमच्या गोट्या चोळून पार धूर काढला  घंटा काय करावं क…   \n",
            "10         राम कदम वागण्यात नाही तर बोलण्यात चुकला  बीजेपी मग अजितदादा कुठे तुमच्या तोंडात मूतले होते का?   \n",
            "\n",
            "    task_1  \n",
            "3        0  \n",
            "4        0  \n",
            "5        0  \n",
            "7        0  \n",
            "10       0  \n"
          ]
        }
      ]
    },
    {
      "cell_type": "markdown",
      "source": [
        "**Convert Emojis to text**"
      ],
      "metadata": {
        "id": "3eYj1yLRwWuM"
      }
    },
    {
      "cell_type": "code",
      "source": [
        "!pip install emoji\n",
        "\n"
      ],
      "metadata": {
        "execution": {
          "iopub.status.busy": "2024-03-10T16:20:27.380466Z",
          "iopub.execute_input": "2024-03-10T16:20:27.380794Z",
          "iopub.status.idle": "2024-03-10T16:20:39.456272Z",
          "shell.execute_reply.started": "2024-03-10T16:20:27.380768Z",
          "shell.execute_reply": "2024-03-10T16:20:39.454714Z"
        },
        "trusted": true,
        "id": "pEroK_bbwWuM",
        "outputId": "308dacad-7c01-4c94-b825-307c94950dff",
        "colab": {
          "base_uri": "https://localhost:8080/"
        }
      },
      "execution_count": null,
      "outputs": [
        {
          "output_type": "stream",
          "name": "stdout",
          "text": [
            "Collecting emoji\n",
            "  Downloading emoji-2.10.1-py2.py3-none-any.whl (421 kB)\n",
            "\u001b[?25l     \u001b[90m━━━━━━━━━━━━━━━━━━━━━━━━━━━━━━━━━━━━━━━━\u001b[0m \u001b[32m0.0/421.5 kB\u001b[0m \u001b[31m?\u001b[0m eta \u001b[36m-:--:--\u001b[0m\r\u001b[2K     \u001b[91m━━━━━━━━━━━━━━━━━━━━━━━━\u001b[0m\u001b[90m╺\u001b[0m\u001b[90m━━━━━━━━━━━━━━━\u001b[0m \u001b[32m256.0/421.5 kB\u001b[0m \u001b[31m7.4 MB/s\u001b[0m eta \u001b[36m0:00:01\u001b[0m\r\u001b[2K     \u001b[90m━━━━━━━━━━━━━━━━━━━━━━━━━━━━━━━━━━━━━━━━\u001b[0m \u001b[32m421.5/421.5 kB\u001b[0m \u001b[31m8.5 MB/s\u001b[0m eta \u001b[36m0:00:00\u001b[0m\n",
            "\u001b[?25hInstalling collected packages: emoji\n",
            "Successfully installed emoji-2.10.1\n"
          ]
        }
      ]
    },
    {
      "cell_type": "code",
      "source": [
        "import emoji\n",
        "\n",
        "# Function to demojize text\n",
        "def demojize_text(text):\n",
        "    return emoji.demojize(text)\n",
        "\n",
        "# Apply the function to the 'text' column\n",
        "df2['text'] = df2['text'].apply(demojize_text)\n",
        "\n",
        "\n",
        "print(df2['text'].head())\n",
        "print(df2.loc[1320, 'text'])"
      ],
      "metadata": {
        "execution": {
          "iopub.status.busy": "2024-03-10T16:20:39.458906Z",
          "iopub.execute_input": "2024-03-10T16:20:39.459438Z",
          "iopub.status.idle": "2024-03-10T16:20:39.79281Z",
          "shell.execute_reply.started": "2024-03-10T16:20:39.459389Z",
          "shell.execute_reply": "2024-03-10T16:20:39.791391Z"
        },
        "trusted": true,
        "id": "2Rsz7OfdwWuM",
        "outputId": "e0d13133-2077-4ff6-f30b-c79600acbe77",
        "colab": {
          "base_uri": "https://localhost:8080/"
        }
      },
      "execution_count": null,
      "outputs": [
        {
          "output_type": "stream",
          "name": "stdout",
          "text": [
            "0       भारत 15 ऑगस्ट 1947 ला स्वतंत्र झाला आणि त्यानंतर तब्बल 2.5 वर्षांनी म्हणजे 26 जानेवारी 1950 साली भारताला राज्यघ…\n",
            "1    स्वत ला हवा तसा बाइट किंवा प्रतिक्रिया घेण्यासाठी ॲन्करबाई किती हट्टाला पेटलीय. जोरजबरदस्तीने तोंडात वाक्य घुसवतेय.\n",
            "2                             5 व्या नंबरची अर्थव्यवस्था आहे भारताची जगात 2014 पर्यंत.... चंप्या  आता पण 5 वर आहे... अण…\n",
            "3                                                                          च्यायला म्हणजे दुबईचा फोन ही पुडीच निघाली की.\n",
            "4                  ह्याला खरंतर कधीच आत टाकला पाहिजे होता. पैसा आणि स्टारडमच्या जोरावर चाललाय सगळं. एकदा ह्याच्यावर घाल…\n",
            "Name: text, dtype: object\n",
            "नविचारता माझाचाटतो वर मलाच बोलतो:face_with_hand_over_mouth: झाट वाढली आहे येतो का उपटायला 40पैसे देतो... मी खाउन…\n"
          ]
        }
      ]
    },
    {
      "cell_type": "markdown",
      "source": [
        "**Remove unwanted patterns in text**"
      ],
      "metadata": {
        "id": "GYpJTY89wWuN"
      }
    },
    {
      "cell_type": "code",
      "source": [
        "import re\n",
        "\n",
        "pattern = r'(\\d+)\\sसाली'\n",
        "\n",
        "# Apply the regular expression to the 'text' column\n",
        "df2['text'] = df2['text'].apply(lambda x: re.sub(pattern, '', x))\n",
        "\n",
        "# Assuming 'tweet' is the column containing text with special characters, numbers, and the word 'user'\n",
        "df2['text'] = df2['text'].str.replace('[\\d@?()~|+।‘•©-]', '', regex=True)\n",
        "\n",
        "pattern = r'\\.+'\n",
        "\n",
        "# Apply the regular expression to the 'text' column\n",
        "df2['text'] = df2['text'].apply(lambda x: re.sub(pattern, '', x))\n",
        "\n",
        "df2['text'] = df2['text'].apply(lambda x: re.sub(r'\\s+', ' ', x))\n",
        "\n",
        "\n",
        "# Display the modified DataFrame\n",
        "print(df2['text'].head())"
      ],
      "metadata": {
        "execution": {
          "iopub.status.busy": "2024-03-10T16:20:39.794185Z",
          "iopub.execute_input": "2024-03-10T16:20:39.794529Z",
          "iopub.status.idle": "2024-03-10T16:20:39.841232Z",
          "shell.execute_reply.started": "2024-03-10T16:20:39.794502Z",
          "shell.execute_reply": "2024-03-10T16:20:39.840045Z"
        },
        "trusted": true,
        "id": "OBhbUwAnwWuN",
        "outputId": "c217876f-1e6b-49b0-e85b-ada5b8157c58",
        "colab": {
          "base_uri": "https://localhost:8080/"
        }
      },
      "execution_count": null,
      "outputs": [
        {
          "output_type": "stream",
          "name": "stdout",
          "text": [
            "0                              भारत ऑगस्ट ला स्वतंत्र झाला आणि त्यानंतर तब्बल वर्षांनी म्हणजे जानेवारी भारताला राज्यघ…\n",
            "1    स्वत ला हवा तसा बाइट किंवा प्रतिक्रिया घेण्यासाठी ॲन्करबाई किती हट्टाला पेटलीय जोरजबरदस्तीने तोंडात वाक्य घुसवतेय\n",
            "2                                            व्या नंबरची अर्थव्यवस्था आहे भारताची जगात पर्यंत चंप्या आता पण वर आहे अण…\n",
            "3                                                                         च्यायला म्हणजे दुबईचा फोन ही पुडीच निघाली की\n",
            "4                  ह्याला खरंतर कधीच आत टाकला पाहिजे होता पैसा आणि स्टारडमच्या जोरावर चाललाय सगळं एकदा ह्याच्यावर घाल…\n",
            "Name: text, dtype: object\n"
          ]
        }
      ]
    },
    {
      "cell_type": "markdown",
      "source": [
        "**Remove punctuation marks**"
      ],
      "metadata": {
        "id": "k68VJKZqwWuO"
      }
    },
    {
      "cell_type": "code",
      "source": [
        "import string\n",
        "# Function to remove punctuations from Marathi text\n",
        "def remove_punctuations(text):\n",
        "    translator = str.maketrans('', '', string.punctuation)\n",
        "    return text.translate(translator)\n",
        "\n",
        "# Apply the function to the 'tweet' column\n",
        "df2['text'] = df2['text'].apply(remove_punctuations)\n",
        "print(df2['text'].head())"
      ],
      "metadata": {
        "id": "Oh6lFxNswWuO",
        "outputId": "90ee98e5-2573-44fb-b298-316a65f68321",
        "colab": {
          "base_uri": "https://localhost:8080/"
        }
      },
      "execution_count": null,
      "outputs": [
        {
          "output_type": "stream",
          "name": "stdout",
          "text": [
            "0                              भारत ऑगस्ट ला स्वतंत्र झाला आणि त्यानंतर तब्बल वर्षांनी म्हणजे जानेवारी भारताला राज्यघ…\n",
            "1    स्वत ला हवा तसा बाइट किंवा प्रतिक्रिया घेण्यासाठी ॲन्करबाई किती हट्टाला पेटलीय जोरजबरदस्तीने तोंडात वाक्य घुसवतेय\n",
            "2                                            व्या नंबरची अर्थव्यवस्था आहे भारताची जगात पर्यंत चंप्या आता पण वर आहे अण…\n",
            "3                                                                         च्यायला म्हणजे दुबईचा फोन ही पुडीच निघाली की\n",
            "4                  ह्याला खरंतर कधीच आत टाकला पाहिजे होता पैसा आणि स्टारडमच्या जोरावर चाललाय सगळं एकदा ह्याच्यावर घाल…\n",
            "Name: text, dtype: object\n"
          ]
        }
      ]
    },
    {
      "cell_type": "markdown",
      "source": [
        "**Remove stop words**"
      ],
      "metadata": {
        "id": "LE9jCYbNwWuP"
      }
    },
    {
      "cell_type": "code",
      "source": [
        "import stopwordsiso\n",
        "stopwordsiso.has_lang(\"mr\")\n",
        "from stopwordsiso import stopwords\n",
        "\n",
        "# Load Marathi stopwords\n",
        "marathi_stopwords = stopwords(\"mr\")\n",
        "\n",
        "# Function to remove stopwords\n",
        "def remove_stopwords(text):\n",
        "    words = text.split()\n",
        "    filtered_words = [word for word in words if word not in marathi_stopwords]\n",
        "    return ' '.join(filtered_words)\n",
        "\n",
        "# Apply the remove_stopwords function to the 'tweet' column\n",
        "df2['without_stopwords'] = df2['text'].apply(remove_stopwords)\n",
        "\n",
        "# Display the DataFrame with cleaned tweets\n",
        "print(df2[['text', 'without_stopwords']].head())"
      ],
      "metadata": {
        "execution": {
          "iopub.status.busy": "2024-03-10T16:20:39.844993Z",
          "iopub.execute_input": "2024-03-10T16:20:39.845339Z",
          "iopub.status.idle": "2024-03-10T16:20:39.867614Z",
          "shell.execute_reply.started": "2024-03-10T16:20:39.845314Z",
          "shell.execute_reply": "2024-03-10T16:20:39.865829Z"
        },
        "trusted": true,
        "id": "FZN-ZAr0wWuP",
        "outputId": "667ef2ee-3390-4293-eff4-3f9d4650c1a9",
        "colab": {
          "base_uri": "https://localhost:8080/"
        }
      },
      "execution_count": null,
      "outputs": [
        {
          "output_type": "stream",
          "name": "stdout",
          "text": [
            "                                                                                                                text  \\\n",
            "0                            भारत ऑगस्ट ला स्वतंत्र झाला आणि त्यानंतर तब्बल वर्षांनी म्हणजे जानेवारी भारताला राज्यघ…   \n",
            "1  स्वत ला हवा तसा बाइट किंवा प्रतिक्रिया घेण्यासाठी ॲन्करबाई किती हट्टाला पेटलीय जोरजबरदस्तीने तोंडात वाक्य घुसवतेय   \n",
            "2                                          व्या नंबरची अर्थव्यवस्था आहे भारताची जगात पर्यंत चंप्या आता पण वर आहे अण…   \n",
            "3                                                                       च्यायला म्हणजे दुबईचा फोन ही पुडीच निघाली की   \n",
            "4                ह्याला खरंतर कधीच आत टाकला पाहिजे होता पैसा आणि स्टारडमच्या जोरावर चाललाय सगळं एकदा ह्याच्यावर घाल…   \n",
            "\n",
            "                                                                                                   without_stopwords  \n",
            "0                                            भारत ऑगस्ट ला स्वतंत्र त्यानंतर तब्बल वर्षांनी जानेवारी भारताला राज्यघ…  \n",
            "1  स्वत ला हवा तसा बाइट किंवा प्रतिक्रिया घेण्यासाठी ॲन्करबाई किती हट्टाला पेटलीय जोरजबरदस्तीने तोंडात वाक्य घुसवतेय  \n",
            "2                                                         व्या नंबरची अर्थव्यवस्था भारताची जगात पर्यंत चंप्या वर अण…  \n",
            "3                                                                                    च्यायला दुबईचा फोन पुडीच निघाली  \n",
            "4                         ह्याला खरंतर कधीच आत टाकला पाहिजे पैसा स्टारडमच्या जोरावर चाललाय सगळं एकदा ह्याच्यावर घाल…  \n"
          ]
        }
      ]
    },
    {
      "cell_type": "code",
      "source": [
        "df['tweet']=df['without_stopwords']\n",
        "df2['text']=df2['without_stopwords']"
      ],
      "metadata": {
        "execution": {
          "iopub.status.busy": "2024-03-10T16:20:39.869505Z",
          "iopub.execute_input": "2024-03-10T16:20:39.869991Z",
          "iopub.status.idle": "2024-03-10T16:20:39.881055Z",
          "shell.execute_reply.started": "2024-03-10T16:20:39.869956Z",
          "shell.execute_reply": "2024-03-10T16:20:39.879788Z"
        },
        "trusted": true,
        "id": "hK9dhY6UwWuR"
      },
      "execution_count": null,
      "outputs": []
    },
    {
      "cell_type": "code",
      "source": [
        "print(df.columns)\n",
        "print(df2.columns)"
      ],
      "metadata": {
        "execution": {
          "iopub.status.busy": "2024-03-10T16:20:39.882311Z",
          "iopub.execute_input": "2024-03-10T16:20:39.883168Z",
          "iopub.status.idle": "2024-03-10T16:20:39.891083Z",
          "shell.execute_reply.started": "2024-03-10T16:20:39.883131Z",
          "shell.execute_reply": "2024-03-10T16:20:39.889866Z"
        },
        "trusted": true,
        "id": "Q7vKf-fvwWuR",
        "outputId": "672f90b1-ef03-4138-878f-4b36ed6ac013",
        "colab": {
          "base_uri": "https://localhost:8080/"
        }
      },
      "execution_count": null,
      "outputs": [
        {
          "output_type": "stream",
          "name": "stdout",
          "text": [
            "Index(['tweet', 'subtask_a', 'without_stopwords'], dtype='object')\n",
            "Index(['text_id', 'text', 'task_1', 'without_stopwords'], dtype='object')\n"
          ]
        }
      ]
    },
    {
      "cell_type": "markdown",
      "source": [
        "**Remove unwanted columns**"
      ],
      "metadata": {
        "id": "DxSsGbdPwWuS"
      }
    },
    {
      "cell_type": "code",
      "source": [
        "# Specify the columns to remove\n",
        "columns_to_remove = ['without_stopwords']\n",
        "\n",
        "# Remove columns that are in the specified list\n",
        "df.drop(columns=columns_to_remove, inplace=True)\n",
        "\n"
      ],
      "metadata": {
        "execution": {
          "iopub.status.busy": "2024-03-10T16:20:39.893291Z",
          "iopub.execute_input": "2024-03-10T16:20:39.893754Z",
          "iopub.status.idle": "2024-03-10T16:20:39.903616Z",
          "shell.execute_reply.started": "2024-03-10T16:20:39.893716Z",
          "shell.execute_reply": "2024-03-10T16:20:39.901716Z"
        },
        "trusted": true,
        "id": "hgWpqBL4wWuS"
      },
      "execution_count": null,
      "outputs": []
    },
    {
      "cell_type": "code",
      "source": [
        "columns_to_remove2 = ['text_id','without_stopwords']\n",
        "\n",
        "# Remove columns that are in the specified list\n",
        "df2.drop(columns=columns_to_remove2, inplace=True)\n"
      ],
      "metadata": {
        "execution": {
          "iopub.status.busy": "2024-03-10T16:20:39.905224Z",
          "iopub.execute_input": "2024-03-10T16:20:39.905613Z",
          "iopub.status.idle": "2024-03-10T16:20:39.914037Z",
          "shell.execute_reply.started": "2024-03-10T16:20:39.905584Z",
          "shell.execute_reply": "2024-03-10T16:20:39.912583Z"
        },
        "trusted": true,
        "id": "iOFV9NkYwWuT"
      },
      "execution_count": null,
      "outputs": []
    },
    {
      "cell_type": "code",
      "source": [
        "df = df.rename(columns={'subtask_a': 'label'})\n",
        "df2 = df2.rename(columns={'text': 'tweet','task_1': 'label'})"
      ],
      "metadata": {
        "execution": {
          "iopub.status.busy": "2024-03-10T16:20:39.91536Z",
          "iopub.execute_input": "2024-03-10T16:20:39.915917Z",
          "iopub.status.idle": "2024-03-10T16:20:39.925446Z",
          "shell.execute_reply.started": "2024-03-10T16:20:39.915865Z",
          "shell.execute_reply": "2024-03-10T16:20:39.924268Z"
        },
        "trusted": true,
        "id": "ScucbocfwWuT"
      },
      "execution_count": null,
      "outputs": []
    },
    {
      "cell_type": "markdown",
      "source": [
        "**Merge datasets**"
      ],
      "metadata": {
        "id": "T_IRmVotwWuT"
      }
    },
    {
      "cell_type": "code",
      "source": [
        "# Concatenate DataFrames along rows\n",
        "concatenated_df = pd.concat([df, df2], ignore_index=True)"
      ],
      "metadata": {
        "execution": {
          "iopub.status.busy": "2024-03-10T16:20:39.92707Z",
          "iopub.execute_input": "2024-03-10T16:20:39.927557Z",
          "iopub.status.idle": "2024-03-10T16:20:39.934217Z",
          "shell.execute_reply.started": "2024-03-10T16:20:39.927519Z",
          "shell.execute_reply": "2024-03-10T16:20:39.933045Z"
        },
        "trusted": true,
        "id": "tdzZTWGWwWuU"
      },
      "execution_count": null,
      "outputs": []
    },
    {
      "cell_type": "code",
      "source": [
        "concatenated_df.columns\n"
      ],
      "metadata": {
        "execution": {
          "iopub.status.busy": "2024-03-10T16:20:39.9354Z",
          "iopub.execute_input": "2024-03-10T16:20:39.935776Z",
          "iopub.status.idle": "2024-03-10T16:20:39.949401Z",
          "shell.execute_reply.started": "2024-03-10T16:20:39.935748Z",
          "shell.execute_reply": "2024-03-10T16:20:39.94817Z"
        },
        "trusted": true,
        "id": "PK7gr-9CwWuY",
        "outputId": "cc080c49-55ae-443b-985b-dfeac7cb1e06",
        "colab": {
          "base_uri": "https://localhost:8080/"
        }
      },
      "execution_count": null,
      "outputs": [
        {
          "output_type": "execute_result",
          "data": {
            "text/plain": [
              "Index(['tweet', 'label'], dtype='object')"
            ]
          },
          "metadata": {},
          "execution_count": 28
        }
      ]
    },
    {
      "cell_type": "code",
      "source": [
        "print(df.shape)\n",
        "print(df2.shape)\n",
        "print(concatenated_df.shape)"
      ],
      "metadata": {
        "execution": {
          "iopub.status.busy": "2024-03-10T16:20:39.95128Z",
          "iopub.execute_input": "2024-03-10T16:20:39.951861Z",
          "iopub.status.idle": "2024-03-10T16:20:39.961499Z",
          "shell.execute_reply.started": "2024-03-10T16:20:39.951817Z",
          "shell.execute_reply": "2024-03-10T16:20:39.960155Z"
        },
        "trusted": true,
        "id": "lksC-d7MwWuY",
        "outputId": "7f409eb1-26c8-40b5-c6bd-291fde3a60dd",
        "colab": {
          "base_uri": "https://localhost:8080/"
        }
      },
      "execution_count": null,
      "outputs": [
        {
          "output_type": "stream",
          "name": "stdout",
          "text": [
            "(3102, 2)\n",
            "(1874, 2)\n",
            "(4976, 2)\n"
          ]
        }
      ]
    },
    {
      "cell_type": "markdown",
      "source": [
        "**Remove duplicate rows**"
      ],
      "metadata": {
        "id": "9sQb7atJGblu"
      }
    },
    {
      "cell_type": "code",
      "source": [
        "concatenated_df.drop_duplicates(inplace=True)"
      ],
      "metadata": {
        "id": "_UVSJRYg_F6w"
      },
      "execution_count": null,
      "outputs": []
    },
    {
      "cell_type": "markdown",
      "source": [
        "****Tokenization****"
      ],
      "metadata": {
        "id": "C5upZcOKwWuZ"
      }
    },
    {
      "cell_type": "code",
      "source": [
        "!pip install transformers\n",
        "\n"
      ],
      "metadata": {
        "execution": {
          "iopub.status.busy": "2024-03-10T16:20:39.963216Z",
          "iopub.execute_input": "2024-03-10T16:20:39.964085Z",
          "iopub.status.idle": "2024-03-10T16:20:52.458647Z",
          "shell.execute_reply.started": "2024-03-10T16:20:39.964037Z",
          "shell.execute_reply": "2024-03-10T16:20:52.457206Z"
        },
        "trusted": true,
        "id": "IrEELiGhwWuZ",
        "outputId": "8b56f9c1-98e0-4607-c51f-6796d6973a30",
        "colab": {
          "base_uri": "https://localhost:8080/"
        }
      },
      "execution_count": null,
      "outputs": [
        {
          "output_type": "stream",
          "name": "stdout",
          "text": [
            "Requirement already satisfied: transformers in /usr/local/lib/python3.10/dist-packages (4.38.2)\n",
            "Requirement already satisfied: filelock in /usr/local/lib/python3.10/dist-packages (from transformers) (3.13.1)\n",
            "Requirement already satisfied: huggingface-hub<1.0,>=0.19.3 in /usr/local/lib/python3.10/dist-packages (from transformers) (0.20.3)\n",
            "Requirement already satisfied: numpy>=1.17 in /usr/local/lib/python3.10/dist-packages (from transformers) (1.25.2)\n",
            "Requirement already satisfied: packaging>=20.0 in /usr/local/lib/python3.10/dist-packages (from transformers) (23.2)\n",
            "Requirement already satisfied: pyyaml>=5.1 in /usr/local/lib/python3.10/dist-packages (from transformers) (6.0.1)\n",
            "Requirement already satisfied: regex!=2019.12.17 in /usr/local/lib/python3.10/dist-packages (from transformers) (2023.12.25)\n",
            "Requirement already satisfied: requests in /usr/local/lib/python3.10/dist-packages (from transformers) (2.31.0)\n",
            "Requirement already satisfied: tokenizers<0.19,>=0.14 in /usr/local/lib/python3.10/dist-packages (from transformers) (0.15.2)\n",
            "Requirement already satisfied: safetensors>=0.4.1 in /usr/local/lib/python3.10/dist-packages (from transformers) (0.4.2)\n",
            "Requirement already satisfied: tqdm>=4.27 in /usr/local/lib/python3.10/dist-packages (from transformers) (4.66.2)\n",
            "Requirement already satisfied: fsspec>=2023.5.0 in /usr/local/lib/python3.10/dist-packages (from huggingface-hub<1.0,>=0.19.3->transformers) (2023.6.0)\n",
            "Requirement already satisfied: typing-extensions>=3.7.4.3 in /usr/local/lib/python3.10/dist-packages (from huggingface-hub<1.0,>=0.19.3->transformers) (4.10.0)\n",
            "Requirement already satisfied: charset-normalizer<4,>=2 in /usr/local/lib/python3.10/dist-packages (from requests->transformers) (3.3.2)\n",
            "Requirement already satisfied: idna<4,>=2.5 in /usr/local/lib/python3.10/dist-packages (from requests->transformers) (3.6)\n",
            "Requirement already satisfied: urllib3<3,>=1.21.1 in /usr/local/lib/python3.10/dist-packages (from requests->transformers) (2.0.7)\n",
            "Requirement already satisfied: certifi>=2017.4.17 in /usr/local/lib/python3.10/dist-packages (from requests->transformers) (2024.2.2)\n"
          ]
        }
      ]
    },
    {
      "cell_type": "code",
      "source": [
        "import pandas as pd\n",
        "from transformers import BertTokenizer\n",
        "\n",
        "# Load mBERT tokenizer\n",
        "tokenizer = BertTokenizer.from_pretrained('bert-base-multilingual-cased')\n",
        "\n",
        "def tokenize_long_text(text, max_length=512, stride=100):\n",
        "    tokens = []\n",
        "    for i in range(0, len(text), stride):\n",
        "        chunk = text[i:i+max_length]\n",
        "        chunk_tokens = tokenizer.encode(chunk, add_special_tokens=True)\n",
        "        tokens.extend(chunk_tokens)\n",
        "    return tokens\n",
        "\n",
        "\n",
        "# Tokenize the 'tweet' column with sliding window\n",
        "concatenated_df['tokenized_tweet'] = concatenated_df['tweet'].apply(lambda x: tokenize_long_text(x, max_length=512, stride=100))\n",
        "\n",
        "# Convert token IDs to tokens\n",
        "concatenated_df['tokenized_tweet_tokens'] = concatenated_df['tokenized_tweet'].apply(lambda x: tokenizer.convert_ids_to_tokens(x))\n",
        "\n",
        "# Display the DataFrame with tokenized tweets\n",
        "print(concatenated_df.head())\n"
      ],
      "metadata": {
        "execution": {
          "iopub.status.busy": "2024-03-10T16:21:13.391372Z",
          "iopub.execute_input": "2024-03-10T16:21:13.392469Z",
          "iopub.status.idle": "2024-03-10T16:21:17.290082Z",
          "shell.execute_reply.started": "2024-03-10T16:21:13.392428Z",
          "shell.execute_reply": "2024-03-10T16:21:17.288691Z"
        },
        "trusted": true,
        "id": "5SEoXYIewWuZ",
        "outputId": "45094f0e-6b3c-4c4e-988e-cc0b70392518",
        "colab": {
          "base_uri": "https://localhost:8080/",
          "height": 738,
          "referenced_widgets": [
            "6762a503cd93403990d516b5e3c6fe42",
            "1be1bc875bcf412581716e1b453e94a5",
            "13bcf5b404ea493db081e0960ead88db",
            "e5c5717d47424854be67169db263ff6d",
            "c277eaf091044bfbbfb079d16c66f450",
            "bc3a76d1a85d43178b880261cb511ef5",
            "ca6f272920a04e3fbd586a4c05b28fa9",
            "95fda77d044e40eaa15186cf97923e36",
            "d30ae7a28ffc4fa5a81e97642de7d641",
            "ba77992c88a24cadb3c2ceabe27c7f46",
            "4017078407574f2ebd92b8f8954e0123",
            "f1f2117de83047b796552dda7085da58",
            "47855b127ae84c449a023b3e4cf8c3db",
            "4bc54a6be59c4ec2897bec612ffb0b89",
            "d4a954613dff4891bff3fc7ed2657b6d",
            "0ca19c3179884c259755db5348f9064b",
            "b1729e14de8643099820e23f02571de2",
            "b4ac65567d4f4c89b886dfda195f1f42",
            "97ced2179c384acfb6149ea3b48332ca",
            "d8308bf5827247348b1582e8061afeb3",
            "eb6824a720f24d509d431b7849dc463e",
            "792d612e94f64061b706232b14eaac39",
            "45d78acecae64b42add2d611cfc09746",
            "3627eef5b5df4dd79069dd464d893eec",
            "565641d6ac7144638fcaa982c69ee3dd",
            "bc15d421ee784f558270e06bd3eb2fc8",
            "1296d2fe40b3439d9f50b7082bb0307d",
            "8657aceb8376428188a782acbb6e252f",
            "b67c0a48cb194205b01f5c6999377382",
            "b8d0c6a1898747e59b514eae1491de1e",
            "c4e5fe3ab0dd44f08ae646131bf2baee",
            "76ff6e2b519c4ae0ac1201f7b919f442",
            "0e999bde05d7477b9e710c276341e513",
            "c2f40802654542e28b45d808a42ed1bb",
            "7d5a451e5c9e46e0ad9ebad8f7d8b78f",
            "f2498ef549654709b9eb4865291c5296",
            "6ce78ab4807549f3a91fadf63c8fad75",
            "ebcb69a8551146dbb790c138bdb9aaea",
            "c9e736f6594d43eb95e8d8c23ef43555",
            "054bda2e661b490abab3bac0d43a826d",
            "e9a2e4ba44e04866b6a3c7e8036347f2",
            "67790337cade4ea0af324ad01aa6cee6",
            "904c6e575e9044c699ce7052f0bb79d4",
            "fb86c6bf78094667acddc75fe6df431d"
          ]
        }
      },
      "execution_count": null,
      "outputs": [
        {
          "output_type": "stream",
          "name": "stderr",
          "text": [
            "/usr/local/lib/python3.10/dist-packages/huggingface_hub/utils/_token.py:88: UserWarning: \n",
            "The secret `HF_TOKEN` does not exist in your Colab secrets.\n",
            "To authenticate with the Hugging Face Hub, create a token in your settings tab (https://huggingface.co/settings/tokens), set it as secret in your Google Colab and restart your session.\n",
            "You will be able to reuse this secret in all of your notebooks.\n",
            "Please note that authentication is recommended but still optional to access public models or datasets.\n",
            "  warnings.warn(\n"
          ]
        },
        {
          "output_type": "display_data",
          "data": {
            "text/plain": [
              "tokenizer_config.json:   0%|          | 0.00/49.0 [00:00<?, ?B/s]"
            ],
            "application/vnd.jupyter.widget-view+json": {
              "version_major": 2,
              "version_minor": 0,
              "model_id": "6762a503cd93403990d516b5e3c6fe42"
            }
          },
          "metadata": {}
        },
        {
          "output_type": "display_data",
          "data": {
            "text/plain": [
              "vocab.txt:   0%|          | 0.00/996k [00:00<?, ?B/s]"
            ],
            "application/vnd.jupyter.widget-view+json": {
              "version_major": 2,
              "version_minor": 0,
              "model_id": "f1f2117de83047b796552dda7085da58"
            }
          },
          "metadata": {}
        },
        {
          "output_type": "display_data",
          "data": {
            "text/plain": [
              "tokenizer.json:   0%|          | 0.00/1.96M [00:00<?, ?B/s]"
            ],
            "application/vnd.jupyter.widget-view+json": {
              "version_major": 2,
              "version_minor": 0,
              "model_id": "45d78acecae64b42add2d611cfc09746"
            }
          },
          "metadata": {}
        },
        {
          "output_type": "display_data",
          "data": {
            "text/plain": [
              "config.json:   0%|          | 0.00/625 [00:00<?, ?B/s]"
            ],
            "application/vnd.jupyter.widget-view+json": {
              "version_major": 2,
              "version_minor": 0,
              "model_id": "c2f40802654542e28b45d808a42ed1bb"
            }
          },
          "metadata": {}
        },
        {
          "output_type": "stream",
          "name": "stdout",
          "text": [
            "                                                                                                     tweet  \\\n",
            "0          आजच्या जनता दरबारात जळगाव जिल्ह्यातील चाळीसगावचे रहिवासी माजी सैनिक सोनू महाजन भाजपचे तत्कालीन…   \n",
            "1             कुणी कविता करत असतं कुणी कविता जगत असतं कुणी कविता वाचत असतं कुणाला कविताच वाचवत असते पल्लवी   \n",
            "2             आम्हाला इतिहासातील औरंगजेबशी घेणे आमच्या कडे आमचा बेकायदेशीर रित्या आलेला हक्काचा औरंगजेब क…   \n",
            "3                गँभीर प्रकरण महाराष्ट्राची अवस्था बिकट भाषणात मोठे शब्द वापरणे ऐकले कृती करावी उद्योग भी…   \n",
            "4  कब्झा कन्नड चित्रपट लवकरच मराठी मध्ये डब्ब होऊन प्रदर्शित जर ह्या चित्रपटाला चांगला प्रतिसाद मिळाला आप…   \n",
            "\n",
            "   label  \\\n",
            "0      1   \n",
            "1      1   \n",
            "2      1   \n",
            "3      1   \n",
            "4      1   \n",
            "\n",
            "                                                                                                                                                                                                                                                                                                                      tokenized_tweet  \\\n",
            "0  [101, 59444, 17766, 104408, 100906, 105012, 15919, 872, 25449, 43263, 15070, 872, 27391, 20429, 17110, 83588, 870, 11208, 44779, 13432, 43263, 15070, 19030, 891, 17110, 66306, 34646, 10914, 32629, 30800, 898, 76549, 898, 73354, 15778, 889, 56523, 36667, 888, 44735, 18187, 19030, 880, 11845, 28197, 88113, 11453, 100, 102]   \n",
            "1                                             [101, 865, 75348, 10914, 91639, 16192, 11845, 851, 80320, 14018, 865, 75348, 10914, 91639, 872, 49824, 851, 80320, 14018, 865, 75348, 10914, 91639, 37038, 16940, 11845, 851, 80320, 14018, 865, 75348, 65986, 91639, 16940, 37038, 16940, 97863, 64384, 885, 11714, 50101, 30945, 102]   \n",
            "2                                                       [101, 70575, 50051, 14334, 45730, 27938, 10977, 31222, 77285, 18351, 35593, 868, 11554, 30616, 70575, 17766, 865, 53807, 70575, 22078, 887, 53809, 49604, 45470, 83222, 891, 13184, 17279, 64799, 14334, 899, 12151, 28197, 49391, 10977, 31222, 77285, 18351, 865, 100, 102]   \n",
            "3                                                             [101, 867, 28462, 82006, 11549, 885, 18321, 70721, 52491, 52721, 851, 79031, 887, 13671, 14835, 888, 11208, 44705, 15919, 889, 13718, 80122, 46973, 37038, 61533, 30616, 861, 12151, 13665, 865, 37500, 10914, 16192, 36471, 10914, 855, 97110, 81555, 13286, 100, 102]   \n",
            "4                        [101, 865, 18351, 20429, 93224, 865, 41013, 11453, 20691, 89720, 893, 15070, 19444, 16940, 27610, 35875, 877, 18351, 20429, 18351, 13220, 66984, 105240, 872, 11549, 45473, 89720, 65986, 870, 11208, 31222, 14334, 54930, 97927, 889, 12878, 57737, 14334, 852, 18187, 100, 102, 101, 852, 18187, 100, 102]   \n",
            "\n",
            "                                                                                                                                                                                                                                                  tokenized_tweet_tokens  \n",
            "0  [[CLS], आज, ##च्या, जनता, दर, ##बार, ##ात, ज, ##ळ, ##गा, ##व, ज, ##िल, ##्, ##ह, ##्यातील, च, ##ा, ##ळी, ##स, ##गा, ##व, ##चे, र, ##ह, ##िव, ##ास, ##ी, मा, ##जी, स, ##ैनिक, स, ##ोन, ##ू, म, ##हा, ##जन, भ, ##ाज, ##प, ##चे, त, ##त, ##्क, ##ाली, ##न, [UNK], [SEP]]  \n",
            "1                                           [[CLS], क, ##ुण, ##ी, कविता, कर, ##त, अ, ##सत, ##ं, क, ##ुण, ##ी, कविता, ज, ##गत, अ, ##सत, ##ं, क, ##ुण, ##ी, कविता, वा, ##च, ##त, अ, ##सत, ##ं, क, ##ुण, ##ाला, कविता, ##च, वा, ##च, ##वत, असते, प, ##ल, ##्ल, ##वी, [SEP]]  \n",
            "2                                     [[CLS], आम, ##्हा, ##ला, इतिहास, ##ातील, और, ##ंग, ##जे, ##ब, ##शी, घ, ##े, ##णे, आम, ##च्या, क, ##डे, आम, ##चा, ब, ##ेक, ##ाय, ##देश, ##ीर, र, ##ित, ##्या, आले, ##ला, ह, ##क, ##्क, ##ाचा, और, ##ंग, ##जे, ##ब, क, [UNK], [SEP]]  \n",
            "3                                           [[CLS], ग, ##ँ, ##भी, ##र, प, ##्र, ##करण, महाराष्ट्र, ##ाची, अ, ##वस्था, ब, ##िक, ##ट, भ, ##ा, ##षण, ##ात, म, ##ो, ##ठे, शब्द, वा, ##पर, ##णे, ऐ, ##क, ##ले, क, ##ृत, ##ी, कर, ##ाव, ##ी, उ, ##द्य, ##ोग, भी, [UNK], [SEP]]  \n",
            "4  [[CLS], क, ##ब, ##्, ##झा, क, ##न्, ##न, ##ड, चित्रपट, ल, ##व, ##कर, ##च, मराठी, मध्ये, ड, ##ब, ##्, ##ब, हो, ##ऊन, प्रदर्शित, ज, ##र, ह्या, चित्रपट, ##ाला, च, ##ा, ##ंग, ##ला, प्रति, ##साद, म, ##ि, ##ळा, ##ला, आ, ##प, [UNK], [SEP], [CLS], आ, ##प, [UNK], [SEP]]  \n"
          ]
        }
      ]
    },
    {
      "cell_type": "markdown",
      "source": [
        "**Sentence Embedding**"
      ],
      "metadata": {
        "id": "3x94yCuKGt0E"
      }
    },
    {
      "cell_type": "code",
      "source": [
        "!pip install fasttext\n"
      ],
      "metadata": {
        "execution": {
          "iopub.status.busy": "2024-03-11T03:42:25.547504Z",
          "iopub.execute_input": "2024-03-11T03:42:25.547869Z",
          "iopub.status.idle": "2024-03-11T03:42:38.816364Z",
          "shell.execute_reply.started": "2024-03-11T03:42:25.547841Z",
          "shell.execute_reply": "2024-03-11T03:42:38.815292Z"
        },
        "trusted": true,
        "id": "dDcCoBd0wWuZ",
        "outputId": "caaf8209-5dab-4dbf-d58f-0387db700429",
        "colab": {
          "base_uri": "https://localhost:8080/"
        }
      },
      "execution_count": null,
      "outputs": [
        {
          "output_type": "stream",
          "name": "stdout",
          "text": [
            "Collecting fasttext\n",
            "  Downloading fasttext-0.9.2.tar.gz (68 kB)\n",
            "\u001b[?25l     \u001b[90m━━━━━━━━━━━━━━━━━━━━━━━━━━━━━━━━━━━━━━━━\u001b[0m \u001b[32m0.0/68.8 kB\u001b[0m \u001b[31m?\u001b[0m eta \u001b[36m-:--:--\u001b[0m\r\u001b[2K     \u001b[91m━━━━━━━━━━━━━━━━━\u001b[0m\u001b[91m╸\u001b[0m\u001b[90m━━━━━━━━━━━━━━━━━━━━━━\u001b[0m \u001b[32m30.7/68.8 kB\u001b[0m \u001b[31m780.5 kB/s\u001b[0m eta \u001b[36m0:00:01\u001b[0m\r\u001b[2K     \u001b[90m━━━━━━━━━━━━━━━━━━━━━━━━━━━━━━━━━━━━━━━━\u001b[0m \u001b[32m68.8/68.8 kB\u001b[0m \u001b[31m1.0 MB/s\u001b[0m eta \u001b[36m0:00:00\u001b[0m\n",
            "\u001b[?25h  Preparing metadata (setup.py) ... \u001b[?25l\u001b[?25hdone\n",
            "Collecting pybind11>=2.2 (from fasttext)\n",
            "  Using cached pybind11-2.11.1-py3-none-any.whl (227 kB)\n",
            "Requirement already satisfied: setuptools>=0.7.0 in /usr/local/lib/python3.10/dist-packages (from fasttext) (67.7.2)\n",
            "Requirement already satisfied: numpy in /usr/local/lib/python3.10/dist-packages (from fasttext) (1.25.2)\n",
            "Building wheels for collected packages: fasttext\n",
            "  Building wheel for fasttext (setup.py) ... \u001b[?25l\u001b[?25hdone\n",
            "  Created wheel for fasttext: filename=fasttext-0.9.2-cp310-cp310-linux_x86_64.whl size=4199773 sha256=00c4ac4eabc088ba2f2a431f44b69c56601ef43dc2513caabae0e9fb33bef8bf\n",
            "  Stored in directory: /root/.cache/pip/wheels/a5/13/75/f811c84a8ab36eedbaef977a6a58a98990e8e0f1967f98f394\n",
            "Successfully built fasttext\n",
            "Installing collected packages: pybind11, fasttext\n",
            "Successfully installed fasttext-0.9.2 pybind11-2.11.1\n"
          ]
        }
      ]
    },
    {
      "cell_type": "code",
      "source": [
        "import os\n",
        "import fasttext.util\n",
        "\n",
        "# Specify the path where you want to save the model\n",
        "model_path = '/content/cc.mr.300.bin.gz.part'\n",
        "\n",
        "# Download the pre-trained FastText model for Marathi\n",
        "fasttext.util.download_model('mr', if_exists='ignore')\n",
        "\n",
        "# Move the downloaded model to the specified path\n",
        "os.rename('cc.mr.300.bin', model_path)\n",
        "\n",
        "# Load the pre-trained model\n",
        "model = fasttext.load_model(model_path)\n",
        "\n",
        "\n",
        "\n"
      ],
      "metadata": {
        "execution": {
          "iopub.status.busy": "2024-03-11T03:45:42.912591Z",
          "iopub.execute_input": "2024-03-11T03:45:42.912986Z",
          "iopub.status.idle": "2024-03-11T03:45:42.968738Z",
          "shell.execute_reply.started": "2024-03-11T03:45:42.91296Z",
          "shell.execute_reply": "2024-03-11T03:45:42.967346Z"
        },
        "trusted": true,
        "id": "89dpGIXKwWua",
        "outputId": "7c103e04-15af-4e22-e9fa-893114a6f1e4",
        "colab": {
          "base_uri": "https://localhost:8080/"
        }
      },
      "execution_count": null,
      "outputs": [
        {
          "output_type": "stream",
          "name": "stdout",
          "text": [
            "Downloading https://dl.fbaipublicfiles.com/fasttext/vectors-crawl/cc.mr.300.bin.gz\n",
            "\n"
          ]
        },
        {
          "output_type": "stream",
          "name": "stderr",
          "text": [
            "Warning : `load_model` does not return WordVectorModel or SupervisedModel any more, but a `FastText` object which is very similar.\n"
          ]
        }
      ]
    },
    {
      "cell_type": "code",
      "source": [
        "# Function to get the sentence vector using FastText\n",
        "def get_sentence_vector(text):\n",
        "    return model.get_sentence_vector(text)\n",
        "\n",
        "# Apply the function to the 'tweet' column to get sentence vectors\n",
        "concatenated_df['tweet_vector'] = concatenated_df['tweet'].apply(get_sentence_vector)\n"
      ],
      "metadata": {
        "id": "fWm6x36N78h8"
      },
      "execution_count": null,
      "outputs": []
    },
    {
      "cell_type": "code",
      "source": [
        "print(concatenated_df.head())"
      ],
      "metadata": {
        "id": "bV5TLmIa9GmT",
        "outputId": "15fe31fb-630c-47bf-df8c-6dcd140e08a5",
        "colab": {
          "base_uri": "https://localhost:8080/"
        }
      },
      "execution_count": null,
      "outputs": [
        {
          "output_type": "stream",
          "name": "stdout",
          "text": [
            "                                                                                                     tweet  \\\n",
            "0          आजच्या जनता दरबारात जळगाव जिल्ह्यातील चाळीसगावचे रहिवासी माजी सैनिक सोनू महाजन भाजपचे तत्कालीन…   \n",
            "1             कुणी कविता करत असतं कुणी कविता जगत असतं कुणी कविता वाचत असतं कुणाला कविताच वाचवत असते पल्लवी   \n",
            "2             आम्हाला इतिहासातील औरंगजेबशी घेणे आमच्या कडे आमचा बेकायदेशीर रित्या आलेला हक्काचा औरंगजेब क…   \n",
            "3                गँभीर प्रकरण महाराष्ट्राची अवस्था बिकट भाषणात मोठे शब्द वापरणे ऐकले कृती करावी उद्योग भी…   \n",
            "4  कब्झा कन्नड चित्रपट लवकरच मराठी मध्ये डब्ब होऊन प्रदर्शित जर ह्या चित्रपटाला चांगला प्रतिसाद मिळाला आप…   \n",
            "\n",
            "   label  \\\n",
            "0      1   \n",
            "1      1   \n",
            "2      1   \n",
            "3      1   \n",
            "4      1   \n",
            "\n",
            "                                                                                                                                                                                                                                                                                                                      tokenized_tweet  \\\n",
            "0  [101, 59444, 17766, 104408, 100906, 105012, 15919, 872, 25449, 43263, 15070, 872, 27391, 20429, 17110, 83588, 870, 11208, 44779, 13432, 43263, 15070, 19030, 891, 17110, 66306, 34646, 10914, 32629, 30800, 898, 76549, 898, 73354, 15778, 889, 56523, 36667, 888, 44735, 18187, 19030, 880, 11845, 28197, 88113, 11453, 100, 102]   \n",
            "1                                             [101, 865, 75348, 10914, 91639, 16192, 11845, 851, 80320, 14018, 865, 75348, 10914, 91639, 872, 49824, 851, 80320, 14018, 865, 75348, 10914, 91639, 37038, 16940, 11845, 851, 80320, 14018, 865, 75348, 65986, 91639, 16940, 37038, 16940, 97863, 64384, 885, 11714, 50101, 30945, 102]   \n",
            "2                                                       [101, 70575, 50051, 14334, 45730, 27938, 10977, 31222, 77285, 18351, 35593, 868, 11554, 30616, 70575, 17766, 865, 53807, 70575, 22078, 887, 53809, 49604, 45470, 83222, 891, 13184, 17279, 64799, 14334, 899, 12151, 28197, 49391, 10977, 31222, 77285, 18351, 865, 100, 102]   \n",
            "3                                                             [101, 867, 28462, 82006, 11549, 885, 18321, 70721, 52491, 52721, 851, 79031, 887, 13671, 14835, 888, 11208, 44705, 15919, 889, 13718, 80122, 46973, 37038, 61533, 30616, 861, 12151, 13665, 865, 37500, 10914, 16192, 36471, 10914, 855, 97110, 81555, 13286, 100, 102]   \n",
            "4                        [101, 865, 18351, 20429, 93224, 865, 41013, 11453, 20691, 89720, 893, 15070, 19444, 16940, 27610, 35875, 877, 18351, 20429, 18351, 13220, 66984, 105240, 872, 11549, 45473, 89720, 65986, 870, 11208, 31222, 14334, 54930, 97927, 889, 12878, 57737, 14334, 852, 18187, 100, 102, 101, 852, 18187, 100, 102]   \n",
            "\n",
            "                                                                                                                                                                                                                                                  tokenized_tweet_tokens  \\\n",
            "0  [[CLS], आज, ##च्या, जनता, दर, ##बार, ##ात, ज, ##ळ, ##गा, ##व, ज, ##िल, ##्, ##ह, ##्यातील, च, ##ा, ##ळी, ##स, ##गा, ##व, ##चे, र, ##ह, ##िव, ##ास, ##ी, मा, ##जी, स, ##ैनिक, स, ##ोन, ##ू, म, ##हा, ##जन, भ, ##ाज, ##प, ##चे, त, ##त, ##्क, ##ाली, ##न, [UNK], [SEP]]   \n",
            "1                                           [[CLS], क, ##ुण, ##ी, कविता, कर, ##त, अ, ##सत, ##ं, क, ##ुण, ##ी, कविता, ज, ##गत, अ, ##सत, ##ं, क, ##ुण, ##ी, कविता, वा, ##च, ##त, अ, ##सत, ##ं, क, ##ुण, ##ाला, कविता, ##च, वा, ##च, ##वत, असते, प, ##ल, ##्ल, ##वी, [SEP]]   \n",
            "2                                     [[CLS], आम, ##्हा, ##ला, इतिहास, ##ातील, और, ##ंग, ##जे, ##ब, ##शी, घ, ##े, ##णे, आम, ##च्या, क, ##डे, आम, ##चा, ब, ##ेक, ##ाय, ##देश, ##ीर, र, ##ित, ##्या, आले, ##ला, ह, ##क, ##्क, ##ाचा, और, ##ंग, ##जे, ##ब, क, [UNK], [SEP]]   \n",
            "3                                           [[CLS], ग, ##ँ, ##भी, ##र, प, ##्र, ##करण, महाराष्ट्र, ##ाची, अ, ##वस्था, ब, ##िक, ##ट, भ, ##ा, ##षण, ##ात, म, ##ो, ##ठे, शब्द, वा, ##पर, ##णे, ऐ, ##क, ##ले, क, ##ृत, ##ी, कर, ##ाव, ##ी, उ, ##द्य, ##ोग, भी, [UNK], [SEP]]   \n",
            "4  [[CLS], क, ##ब, ##्, ##झा, क, ##न्, ##न, ##ड, चित्रपट, ल, ##व, ##कर, ##च, मराठी, मध्ये, ड, ##ब, ##्, ##ब, हो, ##ऊन, प्रदर्शित, ज, ##र, ह्या, चित्रपट, ##ाला, च, ##ा, ##ंग, ##ला, प्रति, ##साद, म, ##ि, ##ळा, ##ला, आ, ##प, [UNK], [SEP], [CLS], आ, ##प, [UNK], [SEP]]   \n",
            "\n",
            "                                                                                                                                                                                                                                                                                                                                                                                                                                                                                                                                                                                                                                                                                                                                                                                                                                                                                                                                                                                                                                                                                                                                                                                                                                                                                                                                                                                                                              tweet_vector  \n",
            "0      [-0.0152181825, 0.023740536, 0.0042261956, 0.00085765315, -0.0042310697, -0.004809719, 0.022518609, -0.00010099205, -0.0061421054, -0.07887665, -0.010226344, -0.022581724, 0.006588639, -0.036584187, -0.027870152, -0.016067296, 0.043817975, 0.050167676, -0.009151511, -0.023498314, 0.010446263, 0.0051857727, 0.00174633, -0.0052519077, 8.005792e-05, -0.019856472, -0.029835824, 0.008205163, -0.0057016877, -0.007329163, 0.0076529523, 0.026139291, 0.0030882158, -0.020734407, 0.0016294782, 0.028871821, -0.042744804, -0.010324371, 0.009614087, 0.019541688, -0.006310885, -0.0059683206, -0.021035697, 0.0011863341, 0.0028891275, -0.024723854, 0.00023703674, -0.0031861495, 0.003984236, 0.011417564, -0.0005442348, 0.031430833, -0.010421975, -0.0006882952, -0.008323629, -0.0006389729, 0.000266117, 0.021523684, 0.0066011883, -0.010972606, 0.021064738, 0.0024958763, 0.072812535, 0.0044222274, -0.023240209, -0.02798316, 0.0119890915, -0.008862362, 0.032359097, 0.025442518, -0.0009429432, -0.0149971815, 0.04591985, 0.009860672, 0.026721396, 0.025240771, 0.0043016872, -0.010456428, 0.015534106, 0.031709053, -0.021181826, -0.020448344, -0.018166265, 0.025034638, -0.04141807, -0.02013682, 0.0014744622, -0.009426313, -0.017860418, 0.040840857, 0.008603789, -0.010983549, -0.03322808, 0.14557898, 0.0005555305, 0.038928285, 0.02155268, -0.010819448, -0.005697215, -0.010134587, ...]  \n",
            "1                           [0.048534837, -0.0073178103, 0.0037651141, 0.021619534, -0.027260814, -0.0008570315, 0.05774429, -0.049499307, -0.0021936756, -0.054053377, 0.043645386, -0.0414462, 0.022880213, 0.021023842, -0.0082063, -0.041459832, 0.05219696, 0.002255573, 0.052320473, -0.007042812, 0.005925273, 0.028792446, -0.0027080546, 0.031104004, 0.0073036524, -0.007934984, -0.0097368825, 0.012927643, -0.005705896, 0.0058494457, 0.04550368, -0.05174559, 0.0068619396, -0.046618193, 0.025002763, -0.0013675449, 0.042347543, 0.020264935, 0.017909022, -0.008136042, -0.03557411, -0.04139113, 0.016581492, -0.0018266051, 0.016620485, -0.004585742, 0.0038911232, -0.03988581, 0.01376985, -0.00079286203, 0.038609777, 0.017908214, 0.002247941, 0.01691847, 0.008746919, 0.0061358763, -0.026474122, 0.037683103, -0.048397515, -0.055811632, 0.049088728, -0.016587416, 0.06913388, 0.008372872, -0.03948758, -0.0018590908, 0.029561894, 0.032962162, 0.020543708, -0.0087387245, 0.031201819, 0.015140216, -0.019958017, -0.041897796, -0.027002584, -0.025493152, -0.040617045, 0.017652318, -0.009256342, 0.0073554255, -0.0001465309, -0.0396338, 0.014567514, 0.045156986, -0.07830567, 0.011714731, -0.021887591, -0.03158091, -0.0019218519, 0.044817343, -0.0073213265, 0.008199075, -0.017402058, 0.091599025, -0.0064860624, -0.0041747843, 0.036313027, 0.0003293285, -0.019013919, -0.03531173, ...]  \n",
            "2                   [0.007361426, 0.007691268, 0.009048272, 0.020113086, -0.005001415, -0.014958268, 0.025863, -0.033080902, -0.03407351, -0.08606346, 0.024045799, -0.012875537, 0.005255703, -0.041274413, 0.008322033, 0.0078044236, 0.022992406, 0.012393693, -0.004885755, -0.035411514, -0.00011731002, -0.04814168, -0.00027903047, -0.0024759292, -0.004406471, -0.020996016, -0.0136488145, -0.0018804007, 0.009643014, -0.0044291876, 0.0332048, -0.025253095, 0.027511684, 0.00085869496, -0.0044457437, 0.027258378, -0.0016941587, -0.002791211, 0.019293524, -0.0082066255, 0.014452955, -0.03991156, -0.0060175853, 0.0042148037, 0.0010603527, 0.017531883, 0.0005388592, 0.012732333, -0.017321987, -0.05451725, -0.01677232, 0.013736088, 0.009100705, -0.016257824, 0.02970761, 0.008261619, 0.03115648, -0.018207923, -0.04064723, -0.07631737, 0.016326997, 0.03672623, 0.032789685, -0.026912529, -0.0046042497, -0.017188918, -0.008164575, -0.017463528, 0.0343056, -0.014241683, -0.0246445, -0.016384106, -0.0001234468, -0.011132157, 0.009195803, -0.020395096, -0.014231647, 0.022756815, -0.010187979, 0.0115978075, -0.015344693, -0.011043914, -0.009857349, -0.015745413, -0.046671294, -0.0061649173, -0.0017610618, -0.018819885, -0.010666542, 0.078916825, 0.012479505, 0.016588628, -0.0076885424, 0.10106482, -0.0011542111, 0.04447221, 0.03658168, -0.0034245793, 0.005789324, -0.025346836, ...]  \n",
            "3            [0.011053084, -0.020111142, 0.0056477142, 0.02967532, 0.014391795, -0.0090336995, 0.033989295, -0.029411606, -0.013647536, -0.027209586, 0.039382357, -0.008264003, -0.010625791, -0.0070228097, -0.0065511246, 0.0055408706, 0.0045509576, -0.009326075, -0.025377061, -0.0056135934, 0.009521489, -0.005669909, 0.0006429883, 0.0032889654, 0.0076199453, -0.011913758, 0.0067459047, 0.009961439, -0.010299777, -0.024962587, -0.0019382734, 0.027024364, 0.0012129701, -0.004458875, -0.0018997715, 0.016927416, 0.04050525, 8.254978e-05, 0.012753909, 0.0034216496, -0.006255457, -0.017214473, -0.0069485814, 0.008227164, 0.035770275, 0.014272617, -0.05933976, -0.005812313, 0.00035815928, -0.0044273785, -0.009581514, 0.032747503, 0.053792033, 0.022863422, -0.018424965, -0.0022817883, 0.0071422607, -0.002489057, -0.03548628, -0.038095344, 0.02980123, -0.0015751955, 0.045906153, -0.03431449, -0.019818028, -0.020735998, 0.0053965184, 0.007817116, 0.025858352, -0.0051337816, -0.024593273, -0.01563268, 0.034602385, 0.0016007472, 0.035725765, -0.015763365, -0.007900546, 0.029046014, 0.0067729056, 0.015085291, -0.022302832, -0.014976796, 0.014838086, 0.028419659, -0.067537144, 0.0022950831, 0.01626133, -0.0057017496, 0.002402962, 0.011526765, -0.023199517, 0.01463035, -0.015131487, 0.05862481, -0.004825587, -0.00872582, 0.014438979, 0.017554073, -0.012180013, -0.010800683, ...]  \n",
            "4  [0.032719076, -0.017905556, 0.023498893, 0.02471074, 0.0074083516, -0.033229165, -0.0025062333, -0.011425378, -0.015305228, -0.095664725, 0.009467466, -0.023630513, 0.010143542, -0.033488467, -0.004571669, -0.015795542, 0.0051929103, 0.0038445233, -0.021625178, -0.016231557, -0.010117857, -0.0017147232, 0.003492351, 0.012275649, -0.003735559, -4.941551e-05, -0.018495183, -0.0069317906, 0.032420564, -0.006546242, 0.026062392, -0.019195024, -0.0039361366, -0.023087611, -0.0051329485, -0.013256384, -0.00014303147, -0.012956407, 0.009885631, -0.0073944847, 0.025388014, -0.037514802, -0.0014553659, -0.014071087, -0.015450221, 0.0078037037, -0.059814252, -0.0030860754, 0.006476298, -0.018988771, 0.0094043985, -0.02598928, -0.013162468, 0.012548494, 0.0010056031, 0.008986328, -0.015703248, -0.03305663, -0.032103844, -0.034413397, 0.0046404456, -0.01549528, 0.05195917, 0.00082117727, -0.016844276, 0.0018332656, -0.014654115, -0.016706504, 0.022630401, 0.0162297, 2.236478e-05, 0.01840985, 0.015326948, -0.02168854, 0.012091519, 0.007193005, 0.018497227, 0.0014200595, 0.022168726, -0.00032060314, -0.0027255348, -0.00033808243, -0.034964718, 0.017088061, -0.03662786, -0.011501794, 0.027955258, -0.003316917, 0.0057137674, 0.031280052, 0.0034609158, -0.00013070938, 0.0047613047, 0.08251826, 0.0071122097, 0.003647625, 0.006336208, 0.058501177, 0.012662161, -0.0032428359, ...]  \n"
          ]
        }
      ]
    },
    {
      "cell_type": "code",
      "source": [
        "print(concatenated_df.columns)"
      ],
      "metadata": {
        "id": "yZJF6Po09aj1",
        "outputId": "4c0ef5ef-98ff-4efb-cb01-2ad2f99de7f4",
        "colab": {
          "base_uri": "https://localhost:8080/"
        }
      },
      "execution_count": null,
      "outputs": [
        {
          "output_type": "stream",
          "name": "stdout",
          "text": [
            "Index(['tweet', 'label', 'tokenized_tweet', 'tokenized_tweet_tokens',\n",
            "       'tweet_vector'],\n",
            "      dtype='object')\n"
          ]
        }
      ]
    },
    {
      "cell_type": "markdown",
      "source": [
        "**Convert to csv**"
      ],
      "metadata": {
        "id": "i0Y19TDrwWua"
      }
    },
    {
      "cell_type": "code",
      "source": [
        "concatenated_df.to_csv('marathi_preprocessed.csv', index=False)\n"
      ],
      "metadata": {
        "execution": {
          "iopub.status.busy": "2024-03-10T16:51:03.177258Z",
          "iopub.execute_input": "2024-03-10T16:51:03.178047Z",
          "iopub.status.idle": "2024-03-10T16:51:03.427989Z",
          "shell.execute_reply.started": "2024-03-10T16:51:03.177989Z",
          "shell.execute_reply": "2024-03-10T16:51:03.426438Z"
        },
        "trusted": true,
        "id": "pGtEJixtwWua"
      },
      "execution_count": null,
      "outputs": []
    }
  ]
}